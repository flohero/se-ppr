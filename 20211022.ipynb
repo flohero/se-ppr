{
 "cells": [
  {
   "cell_type": "markdown",
   "source": [
    "# 2021-10-22\n",
    "## List Comprehension"
   ],
   "metadata": {
    "collapsed": false,
    "pycharm": {
     "name": "#%% md\n"
    }
   }
  },
  {
   "cell_type": "code",
   "execution_count": 2,
   "metadata": {
    "pycharm": {
     "name": "#%%\n"
    }
   },
   "outputs": [],
   "source": [
    "import string\n",
    "import calendar\n",
    "\n",
    "div7 = [x for x in range(0, 1001) if x % 7 == 0]\n",
    "\n",
    "contains3 = [x for x in range(0, 1001) if '3' in str(x)]\n",
    "\n",
    "hundred_doors = [(i ** 0.5) % 1 == 0 for i in range(1, 101)]\n",
    "\n",
    "months = calendar.month_name[1:]\n",
    "\n",
    "months_r = [x for x in calendar.month_name[1:] if 'r' not in x]\n",
    "\n",
    "cat = {(x, y) for x in (1, 3) for y in ('x', 'y')}\n",
    "\n",
    "ascii_ord = {x: ord(x) for x in string.ascii_lowercase}"
   ]
  },
  {
   "cell_type": "markdown",
   "source": [
    "## Zip + Unpacking Operator (*)"
   ],
   "metadata": {
    "collapsed": false
   }
  },
  {
   "cell_type": "code",
   "execution_count": 6,
   "outputs": [],
   "source": [
    "one_ten = list(zip(range(10), range(10)))\n",
    "o1, o2 = zip(*one_ten)\n"
   ],
   "metadata": {
    "collapsed": false,
    "pycharm": {
     "name": "#%%\n"
    }
   }
  }
 ],
 "metadata": {
  "kernelspec": {
   "display_name": "Python 3 (ipykernel)",
   "language": "python",
   "name": "python3"
  },
  "language_info": {
   "codemirror_mode": {
    "name": "ipython",
    "version": 3
   },
   "file_extension": ".py",
   "mimetype": "text/x-python",
   "name": "python",
   "nbconvert_exporter": "python",
   "pygments_lexer": "ipython3",
   "version": "3.9.5"
  }
 },
 "nbformat": 4,
 "nbformat_minor": 1
}