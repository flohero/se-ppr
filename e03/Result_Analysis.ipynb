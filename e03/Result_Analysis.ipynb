{
 "cells": [
  {
   "cell_type": "markdown",
   "metadata": {
    "pycharm": {
     "name": "#%% md\n"
    }
   },
   "source": [
    "# Exercise 03\n",
    "## Setup\n",
    "Start a walk up to 50 blocks, and execute every maximum block 10.000 times."
   ]
  },
  {
   "cell_type": "code",
   "execution_count": 40,
   "metadata": {
    "pycharm": {
     "name": "#%%\n"
    }
   },
   "outputs": [],
   "source": [
    "import e01.e01 as mc\n",
    "\n",
    "walks = mc.monte_carlo_walk_analysis(50, 10_000)"
   ]
  },
  {
   "cell_type": "markdown",
   "metadata": {
    "pycharm": {
     "name": "#%% md\n"
    }
   },
   "source": [
    "## 01\n",
    "How many roundtrips of length 4 (including duplicates) have been generated?\n",
    "Roundtrips  are  tours  of  a  distance  of  zero  from  the  starting  position  and  the\n",
    "length of a roundtrip is the number of walked blocks.\n",
    "\n",
    "All trips of max length 4 are saved in the dictionary at the key 4.\n",
    "Iterate over the trips and check if the calculated distance is zero, these are the roundtrips."
   ]
  },
  {
   "cell_type": "code",
   "execution_count": 41,
   "metadata": {
    "pycharm": {
     "name": "#%%\n"
    }
   },
   "outputs": [],
   "source": [
    "roundtrip_length_4 = [walk for walk, dist in walks[4] if dist == 0]"
   ]
  },
  {
   "cell_type": "markdown",
   "source": [
    "Number of roundtrips with max length 4"
   ],
   "metadata": {
    "collapsed": false,
    "pycharm": {
     "name": "#%% md\n"
    }
   }
  },
  {
   "cell_type": "code",
   "execution_count": 42,
   "outputs": [
    {
     "data": {
      "text/plain": "1399"
     },
     "execution_count": 42,
     "metadata": {},
     "output_type": "execute_result"
    }
   ],
   "source": [
    "len(roundtrip_length_4)"
   ],
   "metadata": {
    "collapsed": false,
    "pycharm": {
     "name": "#%%\n"
    }
   }
  },
  {
   "cell_type": "markdown",
   "metadata": {
    "pycharm": {
     "name": "#%% md\n"
    }
   },
   "source": [
    "## 02\n",
    "Which  different  (unique)  roundtrips  have  been  identified  for  the  different\n",
    "maximum  lengths?  List  the  number  of  identified  unique  roundtrips  for  each\n",
    "maximum  length  and  the  first  10  roundtrips  per  maximum  length  (the  others\n",
    "can be omitted).\n",
    "\n",
    "### Notes\n",
    "All roundtrips have to have an even number of steps,\n",
    "therefore it is possible to ignore all walks with an odd number of maximum steps.\n",
    "\n",
    "### All Roundtrips\n",
    "First all roundtrips have to be calculated, while preserving the original data structures.\n",
    "This is again done by checking if the distance is zero for each walk.\n",
    "To optimize the algorithm it is possible to ignore all trips with an odd max distance."
   ]
  },
  {
   "cell_type": "code",
   "execution_count": 43,
   "outputs": [],
   "source": [
    "all_roundtrips = {key: [walk for walk, length in walks[key] if length == 0] for key in walks if key % 2 == 0}"
   ],
   "metadata": {
    "collapsed": false,
    "pycharm": {
     "name": "#%%\n"
    }
   }
  },
  {
   "cell_type": "markdown",
   "source": [
    "To get the top 10 roundtrips for each max length, just slice the walk array for every max distance."
   ],
   "metadata": {
    "collapsed": false,
    "pycharm": {
     "name": "#%% md\n"
    }
   }
  },
  {
   "cell_type": "code",
   "execution_count": 44,
   "outputs": [],
   "source": [
    "top_10_roundtrips = {key: all_roundtrips[key][:10] for key in all_roundtrips}"
   ],
   "metadata": {
    "collapsed": false,
    "pycharm": {
     "name": "#%%\n"
    }
   }
  },
  {
   "cell_type": "markdown",
   "source": [
    "To get all unique roundtrips, each walk has to be converted to a tuple and then saved into a set,\n",
    "which guarantees that duplicated walks will be removed.\n",
    "The walks will be converted to a list and put into another list.\n",
    "The result will be a list of lists with unqiue roundtrips"
   ],
   "metadata": {
    "collapsed": false,
    "pycharm": {
     "name": "#%% md\n"
    }
   }
  },
  {
   "cell_type": "code",
   "execution_count": 45,
   "outputs": [],
   "source": [
    "unique_roundtrips = [list(x) for x in\n",
    "                     set(tuple(x) for x in [walk for key in all_roundtrips for walk in all_roundtrips[key]])]"
   ],
   "metadata": {
    "collapsed": false,
    "pycharm": {
     "name": "#%%\n"
    }
   }
  },
  {
   "cell_type": "markdown",
   "source": [
    "Number of unique roundtrips"
   ],
   "metadata": {
    "collapsed": false,
    "pycharm": {
     "name": "#%% md\n"
    }
   }
  },
  {
   "cell_type": "code",
   "execution_count": 46,
   "outputs": [
    {
     "data": {
      "text/plain": "6407"
     },
     "execution_count": 46,
     "metadata": {},
     "output_type": "execute_result"
    }
   ],
   "source": [
    "len(unique_roundtrips)"
   ],
   "metadata": {
    "collapsed": false,
    "pycharm": {
     "name": "#%%\n"
    }
   }
  },
  {
   "cell_type": "markdown",
   "source": [
    "Top 10 Roundtrips for each max distance"
   ],
   "metadata": {
    "collapsed": false,
    "pycharm": {
     "name": "#%% md\n"
    }
   }
  },
  {
   "cell_type": "code",
   "execution_count": 47,
   "outputs": [
    {
     "data": {
      "text/plain": "{2: [['S', 'N'],\n  ['W', 'E'],\n  ['W', 'E'],\n  ['N', 'S'],\n  ['S', 'N'],\n  ['S', 'N'],\n  ['E', 'W'],\n  ['E', 'W'],\n  ['S', 'N'],\n  ['E', 'W']],\n 4: [['N', 'S', 'W', 'E'],\n  ['E', 'W', 'W', 'E'],\n  ['E', 'W', 'E', 'W'],\n  ['W', 'E', 'W', 'E'],\n  ['E', 'W', 'S', 'N'],\n  ['N', 'S', 'W', 'E'],\n  ['N', 'S', 'E', 'W'],\n  ['N', 'S', 'S', 'N'],\n  ['E', 'W', 'W', 'E'],\n  ['N', 'E', 'S', 'W']],\n 6: [['N', 'E', 'W', 'W', 'E', 'S'],\n  ['N', 'W', 'S', 'E', 'E', 'W'],\n  ['W', 'N', 'S', 'E', 'N', 'S'],\n  ['N', 'E', 'W', 'S', 'W', 'E'],\n  ['S', 'W', 'W', 'N', 'E', 'E'],\n  ['N', 'E', 'W', 'E', 'W', 'S'],\n  ['E', 'E', 'W', 'W', 'S', 'N'],\n  ['N', 'E', 'S', 'N', 'S', 'W'],\n  ['E', 'E', 'W', 'S', 'W', 'N'],\n  ['W', 'N', 'E', 'E', 'S', 'W']],\n 8: [['S', 'E', 'W', 'S', 'N', 'N', 'N', 'S'],\n  ['N', 'W', 'N', 'W', 'E', 'S', 'E', 'S'],\n  ['W', 'S', 'E', 'E', 'S', 'W', 'N', 'N'],\n  ['S', 'W', 'E', 'W', 'S', 'N', 'N', 'E'],\n  ['N', 'E', 'E', 'S', 'W', 'E', 'W', 'W'],\n  ['E', 'W', 'N', 'E', 'W', 'E', 'S', 'W'],\n  ['S', 'W', 'S', 'E', 'N', 'N', 'S', 'N'],\n  ['E', 'W', 'W', 'E', 'E', 'W', 'S', 'N'],\n  ['W', 'E', 'S', 'N', 'S', 'W', 'E', 'N'],\n  ['W', 'W', 'S', 'E', 'E', 'N', 'W', 'E']],\n 10: [['E', 'E', 'W', 'W', 'S', 'W', 'N', 'N', 'S', 'E'],\n  ['S', 'E', 'W', 'W', 'E', 'W', 'E', 'S', 'N', 'N'],\n  ['E', 'S', 'N', 'E', 'N', 'S', 'W', 'E', 'W', 'W'],\n  ['S', 'N', 'E', 'W', 'N', 'N', 'S', 'S', 'E', 'W'],\n  ['W', 'S', 'E', 'S', 'E', 'N', 'S', 'W', 'N', 'N'],\n  ['E', 'E', 'N', 'W', 'N', 'W', 'W', 'S', 'S', 'E'],\n  ['S', 'N', 'S', 'W', 'E', 'N', 'S', 'E', 'W', 'N'],\n  ['N', 'N', 'S', 'W', 'S', 'E', 'N', 'S', 'S', 'N'],\n  ['W', 'N', 'S', 'S', 'N', 'W', 'E', 'S', 'N', 'E'],\n  ['N', 'S', 'W', 'W', 'S', 'N', 'N', 'S', 'E', 'E']],\n 12: [['S', 'N', 'W', 'E', 'W', 'W', 'S', 'N', 'E', 'W', 'E', 'E'],\n  ['N', 'E', 'S', 'W', 'E', 'W', 'W', 'E', 'E', 'W', 'W', 'E'],\n  ['E', 'W', 'S', 'E', 'S', 'N', 'W', 'E', 'W', 'N', 'S', 'N'],\n  ['E', 'E', 'E', 'S', 'N', 'W', 'N', 'W', 'N', 'S', 'S', 'W'],\n  ['E', 'N', 'N', 'N', 'E', 'W', 'S', 'S', 'W', 'S', 'E', 'W'],\n  ['N', 'E', 'W', 'E', 'E', 'W', 'N', 'W', 'S', 'S', 'E', 'W'],\n  ['W', 'W', 'S', 'E', 'W', 'E', 'E', 'N', 'W', 'W', 'E', 'E'],\n  ['S', 'E', 'W', 'E', 'N', 'W', 'S', 'S', 'E', 'W', 'N', 'N'],\n  ['N', 'W', 'W', 'S', 'E', 'N', 'S', 'N', 'E', 'N', 'S', 'S'],\n  ['S', 'N', 'S', 'N', 'W', 'E', 'N', 'W', 'E', 'E', 'W', 'S']],\n 14: [['N', 'S', 'N', 'E', 'S', 'N', 'W', 'E', 'S', 'S', 'S', 'W', 'N', 'N'],\n  ['E', 'N', 'W', 'N', 'S', 'E', 'S', 'E', 'N', 'S', 'W', 'E', 'W', 'W'],\n  ['N', 'W', 'E', 'S', 'W', 'E', 'E', 'E', 'W', 'W', 'N', 'S', 'E', 'W'],\n  ['N', 'E', 'S', 'N', 'W', 'N', 'W', 'N', 'S', 'E', 'S', 'S', 'W', 'E'],\n  ['E', 'E', 'E', 'W', 'N', 'W', 'S', 'E', 'N', 'W', 'S', 'W', 'W', 'E'],\n  ['E', 'S', 'E', 'W', 'N', 'E', 'W', 'N', 'S', 'N', 'W', 'N', 'S', 'S'],\n  ['N', 'S', 'W', 'E', 'E', 'E', 'S', 'N', 'N', 'S', 'W', 'W', 'N', 'S'],\n  ['W', 'S', 'S', 'N', 'N', 'S', 'E', 'E', 'W', 'S', 'N', 'E', 'N', 'W'],\n  ['E', 'S', 'E', 'N', 'S', 'N', 'N', 'W', 'S', 'S', 'S', 'N', 'W', 'N'],\n  ['N', 'S', 'S', 'W', 'W', 'E', 'S', 'W', 'S', 'N', 'N', 'N', 'E', 'E']],\n 16: [['S',\n   'W',\n   'N',\n   'N',\n   'E',\n   'E',\n   'N',\n   'N',\n   'W',\n   'S',\n   'S',\n   'W',\n   'S',\n   'E',\n   'W',\n   'E'],\n  ['E',\n   'S',\n   'E',\n   'S',\n   'E',\n   'E',\n   'W',\n   'W',\n   'N',\n   'E',\n   'W',\n   'N',\n   'W',\n   'W',\n   'N',\n   'S'],\n  ['N',\n   'N',\n   'W',\n   'N',\n   'S',\n   'W',\n   'W',\n   'E',\n   'S',\n   'S',\n   'N',\n   'E',\n   'S',\n   'E',\n   'E',\n   'W'],\n  ['W',\n   'N',\n   'S',\n   'S',\n   'E',\n   'W',\n   'S',\n   'S',\n   'N',\n   'N',\n   'N',\n   'E',\n   'N',\n   'S',\n   'W',\n   'E'],\n  ['W',\n   'E',\n   'N',\n   'S',\n   'E',\n   'S',\n   'N',\n   'N',\n   'S',\n   'W',\n   'E',\n   'S',\n   'N',\n   'S',\n   'W',\n   'N'],\n  ['N',\n   'W',\n   'E',\n   'E',\n   'E',\n   'W',\n   'S',\n   'W',\n   'W',\n   'N',\n   'S',\n   'E',\n   'S',\n   'N',\n   'N',\n   'S'],\n  ['N',\n   'S',\n   'E',\n   'S',\n   'S',\n   'E',\n   'W',\n   'W',\n   'N',\n   'W',\n   'S',\n   'S',\n   'N',\n   'E',\n   'N',\n   'N'],\n  ['N',\n   'S',\n   'N',\n   'N',\n   'E',\n   'W',\n   'E',\n   'E',\n   'W',\n   'E',\n   'S',\n   'W',\n   'W',\n   'E',\n   'W',\n   'S'],\n  ['N',\n   'E',\n   'E',\n   'W',\n   'E',\n   'W',\n   'N',\n   'W',\n   'S',\n   'W',\n   'S',\n   'E',\n   'N',\n   'W',\n   'S',\n   'E'],\n  ['N',\n   'W',\n   'W',\n   'S',\n   'S',\n   'S',\n   'W',\n   'E',\n   'N',\n   'W',\n   'N',\n   'E',\n   'S',\n   'N',\n   'E',\n   'E']],\n 18: [['W',\n   'E',\n   'N',\n   'S',\n   'W',\n   'N',\n   'S',\n   'S',\n   'N',\n   'E',\n   'S',\n   'S',\n   'W',\n   'N',\n   'N',\n   'E',\n   'S',\n   'N'],\n  ['E',\n   'N',\n   'S',\n   'W',\n   'E',\n   'W',\n   'N',\n   'N',\n   'E',\n   'N',\n   'W',\n   'S',\n   'E',\n   'W',\n   'S',\n   'W',\n   'E',\n   'S'],\n  ['N',\n   'E',\n   'N',\n   'W',\n   'N',\n   'S',\n   'W',\n   'W',\n   'W',\n   'S',\n   'N',\n   'E',\n   'E',\n   'S',\n   'N',\n   'S',\n   'E',\n   'S'],\n  ['E',\n   'E',\n   'W',\n   'S',\n   'N',\n   'S',\n   'E',\n   'W',\n   'N',\n   'N',\n   'S',\n   'E',\n   'W',\n   'E',\n   'N',\n   'W',\n   'W',\n   'S'],\n  ['E',\n   'W',\n   'S',\n   'E',\n   'N',\n   'S',\n   'N',\n   'W',\n   'E',\n   'E',\n   'S',\n   'N',\n   'E',\n   'W',\n   'W',\n   'W',\n   'E',\n   'W'],\n  ['N',\n   'W',\n   'S',\n   'N',\n   'S',\n   'N',\n   'E',\n   'N',\n   'E',\n   'N',\n   'W',\n   'S',\n   'E',\n   'S',\n   'S',\n   'N',\n   'W',\n   'S'],\n  ['N',\n   'E',\n   'E',\n   'E',\n   'W',\n   'S',\n   'N',\n   'S',\n   'W',\n   'S',\n   'E',\n   'N',\n   'E',\n   'W',\n   'W',\n   'S',\n   'W',\n   'N'],\n  ['N',\n   'W',\n   'W',\n   'W',\n   'N',\n   'E',\n   'E',\n   'S',\n   'E',\n   'S',\n   'S',\n   'N',\n   'W',\n   'N',\n   'S',\n   'E',\n   'N',\n   'S'],\n  ['W',\n   'E',\n   'N',\n   'E',\n   'S',\n   'E',\n   'W',\n   'W',\n   'E',\n   'E',\n   'W',\n   'N',\n   'W',\n   'W',\n   'E',\n   'E',\n   'W',\n   'S'],\n  ['W',\n   'E',\n   'W',\n   'N',\n   'E',\n   'W',\n   'S',\n   'E',\n   'S',\n   'W',\n   'N',\n   'W',\n   'S',\n   'E',\n   'N',\n   'S',\n   'E',\n   'N']],\n 20: [['S',\n   'E',\n   'W',\n   'S',\n   'W',\n   'E',\n   'E',\n   'W',\n   'W',\n   'N',\n   'S',\n   'E',\n   'N',\n   'E',\n   'N',\n   'E',\n   'W',\n   'E',\n   'W',\n   'W'],\n  ['N',\n   'W',\n   'N',\n   'W',\n   'E',\n   'W',\n   'E',\n   'E',\n   'S',\n   'E',\n   'W',\n   'S',\n   'N',\n   'S',\n   'W',\n   'E',\n   'N',\n   'S',\n   'W',\n   'E'],\n  ['E',\n   'W',\n   'E',\n   'N',\n   'W',\n   'W',\n   'S',\n   'S',\n   'S',\n   'N',\n   'N',\n   'S',\n   'E',\n   'S',\n   'W',\n   'E',\n   'N',\n   'E',\n   'W',\n   'N'],\n  ['W',\n   'W',\n   'N',\n   'S',\n   'E',\n   'W',\n   'N',\n   'S',\n   'W',\n   'E',\n   'S',\n   'E',\n   'E',\n   'N',\n   'S',\n   'W',\n   'N',\n   'W',\n   'E',\n   'E'],\n  ['W',\n   'N',\n   'E',\n   'W',\n   'W',\n   'N',\n   'S',\n   'E',\n   'E',\n   'E',\n   'S',\n   'W',\n   'S',\n   'E',\n   'W',\n   'N',\n   'N',\n   'W',\n   'S',\n   'E'],\n  ['N',\n   'E',\n   'N',\n   'W',\n   'E',\n   'N',\n   'W',\n   'S',\n   'N',\n   'S',\n   'S',\n   'N',\n   'E',\n   'E',\n   'S',\n   'W',\n   'W',\n   'E',\n   'S',\n   'W'],\n  ['E',\n   'E',\n   'N',\n   'W',\n   'E',\n   'W',\n   'E',\n   'N',\n   'S',\n   'S',\n   'S',\n   'E',\n   'N',\n   'S',\n   'W',\n   'W',\n   'E',\n   'N',\n   'W',\n   'W'],\n  ['S',\n   'E',\n   'S',\n   'S',\n   'N',\n   'W',\n   'W',\n   'W',\n   'E',\n   'E',\n   'N',\n   'W',\n   'S',\n   'W',\n   'E',\n   'N',\n   'N',\n   'E',\n   'N',\n   'S'],\n  ['E',\n   'W',\n   'S',\n   'S',\n   'E',\n   'N',\n   'E',\n   'W',\n   'W',\n   'W',\n   'E',\n   'S',\n   'W',\n   'N',\n   'E',\n   'S',\n   'N',\n   'N',\n   'S',\n   'N'],\n  ['E',\n   'S',\n   'N',\n   'W',\n   'E',\n   'E',\n   'W',\n   'W',\n   'N',\n   'W',\n   'E',\n   'N',\n   'S',\n   'S',\n   'N',\n   'S',\n   'E',\n   'N',\n   'S',\n   'W']],\n 22: [['N',\n   'S',\n   'W',\n   'N',\n   'S',\n   'N',\n   'S',\n   'E',\n   'W',\n   'N',\n   'S',\n   'W',\n   'E',\n   'N',\n   'S',\n   'W',\n   'S',\n   'E',\n   'E',\n   'E',\n   'W',\n   'N'],\n  ['E',\n   'W',\n   'N',\n   'E',\n   'E',\n   'E',\n   'N',\n   'W',\n   'S',\n   'E',\n   'S',\n   'S',\n   'W',\n   'W',\n   'E',\n   'N',\n   'W',\n   'W',\n   'W',\n   'N',\n   'E',\n   'S'],\n  ['N',\n   'S',\n   'S',\n   'N',\n   'S',\n   'S',\n   'W',\n   'N',\n   'N',\n   'W',\n   'E',\n   'E',\n   'W',\n   'N',\n   'S',\n   'S',\n   'W',\n   'N',\n   'E',\n   'E',\n   'S',\n   'N'],\n  ['E',\n   'E',\n   'N',\n   'E',\n   'E',\n   'W',\n   'W',\n   'W',\n   'W',\n   'S',\n   'E',\n   'E',\n   'N',\n   'W',\n   'W',\n   'W',\n   'E',\n   'E',\n   'W',\n   'S',\n   'W',\n   'E'],\n  ['E',\n   'S',\n   'S',\n   'W',\n   'N',\n   'W',\n   'E',\n   'E',\n   'N',\n   'E',\n   'N',\n   'S',\n   'S',\n   'W',\n   'S',\n   'E',\n   'W',\n   'W',\n   'W',\n   'N',\n   'E',\n   'N'],\n  ['N',\n   'W',\n   'W',\n   'W',\n   'N',\n   'W',\n   'S',\n   'E',\n   'S',\n   'E',\n   'S',\n   'E',\n   'N',\n   'N',\n   'N',\n   'E',\n   'S',\n   'N',\n   'S',\n   'S',\n   'S',\n   'N'],\n  ['N',\n   'W',\n   'E',\n   'S',\n   'N',\n   'E',\n   'W',\n   'E',\n   'W',\n   'W',\n   'S',\n   'S',\n   'N',\n   'S',\n   'S',\n   'N',\n   'N',\n   'E',\n   'E',\n   'S',\n   'N',\n   'W'],\n  ['N',\n   'W',\n   'S',\n   'S',\n   'E',\n   'W',\n   'N',\n   'N',\n   'W',\n   'W',\n   'S',\n   'W',\n   'E',\n   'E',\n   'E',\n   'S',\n   'W',\n   'E',\n   'N',\n   'S',\n   'E',\n   'N'],\n  ['E',\n   'E',\n   'N',\n   'S',\n   'S',\n   'E',\n   'W',\n   'S',\n   'W',\n   'E',\n   'W',\n   'S',\n   'E',\n   'W',\n   'E',\n   'W',\n   'N',\n   'W',\n   'N',\n   'N',\n   'W',\n   'E'],\n  ['E',\n   'N',\n   'W',\n   'S',\n   'N',\n   'E',\n   'N',\n   'S',\n   'W',\n   'W',\n   'S',\n   'W',\n   'S',\n   'N',\n   'S',\n   'E',\n   'E',\n   'W',\n   'E',\n   'W',\n   'N',\n   'E']],\n 24: [['E',\n   'W',\n   'S',\n   'W',\n   'E',\n   'E',\n   'N',\n   'W',\n   'N',\n   'S',\n   'E',\n   'E',\n   'N',\n   'S',\n   'E',\n   'W',\n   'S',\n   'W',\n   'N',\n   'W',\n   'W',\n   'N',\n   'E',\n   'S'],\n  ['W',\n   'W',\n   'S',\n   'N',\n   'W',\n   'N',\n   'E',\n   'S',\n   'E',\n   'N',\n   'E',\n   'N',\n   'S',\n   'E',\n   'E',\n   'E',\n   'W',\n   'S',\n   'S',\n   'W',\n   'E',\n   'N',\n   'W',\n   'W'],\n  ['S',\n   'W',\n   'E',\n   'N',\n   'E',\n   'S',\n   'E',\n   'W',\n   'N',\n   'N',\n   'E',\n   'E',\n   'W',\n   'S',\n   'S',\n   'N',\n   'S',\n   'E',\n   'W',\n   'W',\n   'W',\n   'N',\n   'E',\n   'W'],\n  ['S',\n   'E',\n   'N',\n   'S',\n   'E',\n   'N',\n   'W',\n   'W',\n   'S',\n   'N',\n   'S',\n   'N',\n   'S',\n   'W',\n   'W',\n   'N',\n   'E',\n   'S',\n   'N',\n   'E',\n   'N',\n   'W',\n   'E',\n   'S'],\n  ['W',\n   'E',\n   'S',\n   'N',\n   'E',\n   'N',\n   'W',\n   'W',\n   'S',\n   'W',\n   'N',\n   'E',\n   'S',\n   'S',\n   'E',\n   'W',\n   'E',\n   'N',\n   'W',\n   'E',\n   'N',\n   'N',\n   'S',\n   'S'],\n  ['E',\n   'N',\n   'N',\n   'E',\n   'W',\n   'W',\n   'E',\n   'E',\n   'S',\n   'E',\n   'W',\n   'E',\n   'N',\n   'W',\n   'N',\n   'E',\n   'W',\n   'W',\n   'S',\n   'S',\n   'S',\n   'N',\n   'W',\n   'S'],\n  ['N',\n   'W',\n   'W',\n   'W',\n   'S',\n   'N',\n   'E',\n   'E',\n   'S',\n   'E',\n   'W',\n   'S',\n   'W',\n   'E',\n   'E',\n   'E',\n   'W',\n   'S',\n   'S',\n   'S',\n   'N',\n   'N',\n   'N',\n   'N'],\n  ['S',\n   'S',\n   'S',\n   'N',\n   'E',\n   'N',\n   'N',\n   'W',\n   'W',\n   'N',\n   'E',\n   'W',\n   'W',\n   'E',\n   'S',\n   'S',\n   'E',\n   'N',\n   'E',\n   'N',\n   'E',\n   'W',\n   'S',\n   'W'],\n  ['E',\n   'N',\n   'N',\n   'S',\n   'S',\n   'W',\n   'E',\n   'N',\n   'W',\n   'N',\n   'S',\n   'W',\n   'S',\n   'E',\n   'E',\n   'S',\n   'N',\n   'W',\n   'S',\n   'W',\n   'E',\n   'N',\n   'W',\n   'E'],\n  ['N',\n   'W',\n   'N',\n   'S',\n   'W',\n   'N',\n   'N',\n   'W',\n   'W',\n   'E',\n   'E',\n   'E',\n   'W',\n   'W',\n   'N',\n   'E',\n   'E',\n   'S',\n   'S',\n   'N',\n   'E',\n   'S',\n   'S',\n   'S']],\n 26: [['S',\n   'W',\n   'W',\n   'E',\n   'E',\n   'W',\n   'N',\n   'N',\n   'S',\n   'S',\n   'N',\n   'N',\n   'E',\n   'N',\n   'N',\n   'S',\n   'W',\n   'W',\n   'N',\n   'W',\n   'E',\n   'S',\n   'S',\n   'S',\n   'E',\n   'E'],\n  ['S',\n   'W',\n   'W',\n   'W',\n   'E',\n   'S',\n   'E',\n   'E',\n   'E',\n   'W',\n   'E',\n   'W',\n   'N',\n   'S',\n   'S',\n   'E',\n   'E',\n   'N',\n   'N',\n   'S',\n   'W',\n   'N',\n   'N',\n   'N',\n   'W',\n   'S'],\n  ['N',\n   'S',\n   'W',\n   'N',\n   'E',\n   'S',\n   'N',\n   'W',\n   'E',\n   'S',\n   'N',\n   'E',\n   'W',\n   'S',\n   'S',\n   'E',\n   'E',\n   'W',\n   'N',\n   'N',\n   'S',\n   'W',\n   'S',\n   'W',\n   'E',\n   'N'],\n  ['W',\n   'S',\n   'N',\n   'N',\n   'W',\n   'E',\n   'W',\n   'S',\n   'E',\n   'W',\n   'E',\n   'S',\n   'N',\n   'N',\n   'W',\n   'S',\n   'N',\n   'W',\n   'E',\n   'W',\n   'E',\n   'E',\n   'S',\n   'E',\n   'S',\n   'N'],\n  ['N',\n   'S',\n   'S',\n   'W',\n   'S',\n   'E',\n   'E',\n   'E',\n   'N',\n   'W',\n   'S',\n   'E',\n   'N',\n   'S',\n   'E',\n   'N',\n   'W',\n   'N',\n   'N',\n   'S',\n   'W',\n   'W',\n   'N',\n   'N',\n   'S',\n   'S'],\n  ['E',\n   'W',\n   'S',\n   'N',\n   'E',\n   'S',\n   'S',\n   'S',\n   'N',\n   'W',\n   'E',\n   'N',\n   'E',\n   'N',\n   'N',\n   'E',\n   'E',\n   'W',\n   'N',\n   'W',\n   'W',\n   'W',\n   'S',\n   'W',\n   'E',\n   'S'],\n  ['S',\n   'W',\n   'E',\n   'N',\n   'S',\n   'W',\n   'W',\n   'W',\n   'E',\n   'N',\n   'E',\n   'N',\n   'N',\n   'E',\n   'N',\n   'S',\n   'E',\n   'W',\n   'E',\n   'S',\n   'W',\n   'E',\n   'W',\n   'S',\n   'S',\n   'N'],\n  ['E',\n   'N',\n   'E',\n   'W',\n   'E',\n   'E',\n   'N',\n   'S',\n   'W',\n   'N',\n   'S',\n   'S',\n   'W',\n   'N',\n   'N',\n   'S',\n   'E',\n   'E',\n   'W',\n   'W',\n   'S',\n   'N',\n   'W',\n   'S',\n   'E',\n   'W'],\n  ['S',\n   'N',\n   'N',\n   'W',\n   'N',\n   'S',\n   'S',\n   'W',\n   'N',\n   'N',\n   'E',\n   'S',\n   'N',\n   'S',\n   'W',\n   'S',\n   'N',\n   'E',\n   'S',\n   'N',\n   'E',\n   'W',\n   'E',\n   'W',\n   'S',\n   'E'],\n  ['N',\n   'W',\n   'N',\n   'E',\n   'S',\n   'S',\n   'E',\n   'N',\n   'E',\n   'N',\n   'W',\n   'S',\n   'W',\n   'E',\n   'S',\n   'W',\n   'S',\n   'W',\n   'S',\n   'S',\n   'N',\n   'N',\n   'N',\n   'E',\n   'N',\n   'S']],\n 28: [['S',\n   'N',\n   'N',\n   'S',\n   'N',\n   'W',\n   'W',\n   'W',\n   'N',\n   'S',\n   'S',\n   'N',\n   'E',\n   'S',\n   'W',\n   'E',\n   'N',\n   'E',\n   'W',\n   'W',\n   'N',\n   'E',\n   'S',\n   'E',\n   'S',\n   'N',\n   'E',\n   'S'],\n  ['W',\n   'W',\n   'E',\n   'N',\n   'W',\n   'N',\n   'E',\n   'W',\n   'W',\n   'S',\n   'W',\n   'S',\n   'N',\n   'E',\n   'S',\n   'N',\n   'N',\n   'E',\n   'E',\n   'W',\n   'N',\n   'E',\n   'W',\n   'S',\n   'S',\n   'E',\n   'S',\n   'E'],\n  ['S',\n   'E',\n   'N',\n   'E',\n   'N',\n   'N',\n   'S',\n   'S',\n   'E',\n   'N',\n   'N',\n   'N',\n   'W',\n   'W',\n   'E',\n   'W',\n   'S',\n   'S',\n   'E',\n   'E',\n   'W',\n   'W',\n   'S',\n   'S',\n   'E',\n   'N',\n   'W',\n   'W'],\n  ['W',\n   'S',\n   'W',\n   'E',\n   'E',\n   'E',\n   'W',\n   'S',\n   'N',\n   'N',\n   'S',\n   'W',\n   'N',\n   'N',\n   'W',\n   'W',\n   'E',\n   'E',\n   'E',\n   'N',\n   'W',\n   'N',\n   'E',\n   'S',\n   'S',\n   'S',\n   'W',\n   'E'],\n  ['S',\n   'W',\n   'N',\n   'W',\n   'E',\n   'S',\n   'S',\n   'W',\n   'N',\n   'E',\n   'E',\n   'S',\n   'W',\n   'N',\n   'N',\n   'E',\n   'W',\n   'S',\n   'W',\n   'E',\n   'N',\n   'E',\n   'W',\n   'E',\n   'N',\n   'W',\n   'E',\n   'S'],\n  ['W',\n   'N',\n   'S',\n   'N',\n   'E',\n   'N',\n   'E',\n   'W',\n   'S',\n   'E',\n   'E',\n   'N',\n   'S',\n   'E',\n   'N',\n   'E',\n   'S',\n   'E',\n   'S',\n   'W',\n   'S',\n   'W',\n   'W',\n   'N',\n   'S',\n   'W',\n   'W',\n   'N'],\n  ['N',\n   'S',\n   'N',\n   'E',\n   'S',\n   'N',\n   'W',\n   'N',\n   'W',\n   'E',\n   'W',\n   'W',\n   'S',\n   'S',\n   'W',\n   'N',\n   'S',\n   'N',\n   'S',\n   'N',\n   'E',\n   'E',\n   'S',\n   'N',\n   'W',\n   'E',\n   'S',\n   'E'],\n  ['W',\n   'S',\n   'W',\n   'E',\n   'E',\n   'N',\n   'E',\n   'E',\n   'N',\n   'N',\n   'S',\n   'S',\n   'W',\n   'W',\n   'S',\n   'S',\n   'E',\n   'N',\n   'W',\n   'S',\n   'N',\n   'S',\n   'N',\n   'W',\n   'E',\n   'N',\n   'S',\n   'N'],\n  ['W',\n   'W',\n   'N',\n   'E',\n   'S',\n   'S',\n   'N',\n   'W',\n   'S',\n   'E',\n   'N',\n   'W',\n   'N',\n   'N',\n   'W',\n   'W',\n   'E',\n   'S',\n   'E',\n   'E',\n   'S',\n   'W',\n   'N',\n   'W',\n   'S',\n   'E',\n   'E',\n   'E'],\n  ['N',\n   'N',\n   'S',\n   'S',\n   'N',\n   'E',\n   'E',\n   'S',\n   'N',\n   'W',\n   'E',\n   'N',\n   'W',\n   'S',\n   'W',\n   'E',\n   'S',\n   'W',\n   'N',\n   'W',\n   'N',\n   'S',\n   'E',\n   'W',\n   'S',\n   'N',\n   'S',\n   'E']],\n 30: [['W',\n   'N',\n   'W',\n   'N',\n   'E',\n   'W',\n   'E',\n   'E',\n   'E',\n   'W',\n   'N',\n   'S',\n   'W',\n   'N',\n   'S',\n   'N',\n   'E',\n   'W',\n   'W',\n   'E',\n   'N',\n   'S',\n   'E',\n   'S',\n   'S',\n   'E',\n   'W',\n   'E',\n   'W',\n   'S'],\n  ['N',\n   'N',\n   'W',\n   'E',\n   'S',\n   'S',\n   'W',\n   'E',\n   'E',\n   'E',\n   'N',\n   'S',\n   'W',\n   'N',\n   'S',\n   'S',\n   'S',\n   'N',\n   'N',\n   'S',\n   'W',\n   'N',\n   'W',\n   'W',\n   'E',\n   'S',\n   'N',\n   'S',\n   'E',\n   'N'],\n  ['N',\n   'S',\n   'W',\n   'E',\n   'N',\n   'W',\n   'W',\n   'N',\n   'E',\n   'W',\n   'E',\n   'W',\n   'E',\n   'S',\n   'E',\n   'E',\n   'W',\n   'N',\n   'S',\n   'E',\n   'E',\n   'N',\n   'W',\n   'E',\n   'S',\n   'S',\n   'W',\n   'N',\n   'S',\n   'W'],\n  ['E',\n   'N',\n   'E',\n   'S',\n   'N',\n   'S',\n   'E',\n   'E',\n   'S',\n   'S',\n   'N',\n   'N',\n   'S',\n   'E',\n   'E',\n   'S',\n   'W',\n   'W',\n   'N',\n   'N',\n   'W',\n   'S',\n   'S',\n   'N',\n   'S',\n   'W',\n   'W',\n   'N',\n   'N',\n   'W'],\n  ['E',\n   'E',\n   'W',\n   'W',\n   'S',\n   'W',\n   'S',\n   'E',\n   'E',\n   'N',\n   'W',\n   'S',\n   'S',\n   'S',\n   'S',\n   'W',\n   'N',\n   'W',\n   'E',\n   'E',\n   'N',\n   'E',\n   'N',\n   'E',\n   'W',\n   'N',\n   'N',\n   'W',\n   'N',\n   'S'],\n  ['N',\n   'S',\n   'N',\n   'E',\n   'S',\n   'N',\n   'N',\n   'W',\n   'W',\n   'W',\n   'E',\n   'W',\n   'S',\n   'E',\n   'N',\n   'S',\n   'S',\n   'S',\n   'E',\n   'N',\n   'S',\n   'E',\n   'N',\n   'E',\n   'S',\n   'W',\n   'W',\n   'N',\n   'S',\n   'N'],\n  ['N',\n   'E',\n   'N',\n   'N',\n   'N',\n   'N',\n   'W',\n   'E',\n   'W',\n   'W',\n   'S',\n   'S',\n   'N',\n   'S',\n   'E',\n   'N',\n   'N',\n   'S',\n   'S',\n   'E',\n   'S',\n   'W',\n   'W',\n   'S',\n   'S',\n   'E',\n   'S',\n   'N',\n   'W',\n   'E'],\n  ['N',\n   'W',\n   'W',\n   'N',\n   'N',\n   'E',\n   'E',\n   'S',\n   'N',\n   'S',\n   'W',\n   'W',\n   'N',\n   'S',\n   'E',\n   'E',\n   'E',\n   'N',\n   'E',\n   'S',\n   'W',\n   'S',\n   'E',\n   'W',\n   'E',\n   'E',\n   'W',\n   'S',\n   'W',\n   'W'],\n  ['W',\n   'E',\n   'S',\n   'S',\n   'S',\n   'E',\n   'S',\n   'E',\n   'N',\n   'W',\n   'N',\n   'W',\n   'S',\n   'W',\n   'W',\n   'N',\n   'E',\n   'N',\n   'N',\n   'S',\n   'E',\n   'E',\n   'E',\n   'N',\n   'S',\n   'N',\n   'N',\n   'W',\n   'W',\n   'S'],\n  ['S',\n   'N',\n   'E',\n   'W',\n   'S',\n   'E',\n   'W',\n   'E',\n   'W',\n   'N',\n   'E',\n   'N',\n   'W',\n   'W',\n   'S',\n   'N',\n   'N',\n   'S',\n   'W',\n   'N',\n   'S',\n   'N',\n   'S',\n   'E',\n   'E',\n   'W',\n   'S',\n   'E',\n   'E',\n   'W']],\n 32: [['E',\n   'W',\n   'N',\n   'S',\n   'E',\n   'S',\n   'E',\n   'N',\n   'W',\n   'E',\n   'S',\n   'N',\n   'N',\n   'W',\n   'N',\n   'S',\n   'N',\n   'S',\n   'W',\n   'N',\n   'S',\n   'E',\n   'W',\n   'S',\n   'S',\n   'W',\n   'S',\n   'W',\n   'E',\n   'N',\n   'E',\n   'N'],\n  ['S',\n   'N',\n   'E',\n   'E',\n   'S',\n   'W',\n   'W',\n   'W',\n   'S',\n   'S',\n   'W',\n   'W',\n   'N',\n   'W',\n   'N',\n   'E',\n   'W',\n   'W',\n   'W',\n   'S',\n   'E',\n   'S',\n   'N',\n   'N',\n   'E',\n   'N',\n   'E',\n   'S',\n   'N',\n   'E',\n   'E',\n   'E'],\n  ['E',\n   'N',\n   'S',\n   'N',\n   'N',\n   'E',\n   'S',\n   'E',\n   'E',\n   'E',\n   'S',\n   'N',\n   'W',\n   'N',\n   'S',\n   'E',\n   'S',\n   'N',\n   'S',\n   'W',\n   'W',\n   'E',\n   'W',\n   'W',\n   'E',\n   'S',\n   'W',\n   'W',\n   'N',\n   'N',\n   'S',\n   'W'],\n  ['E',\n   'E',\n   'W',\n   'N',\n   'S',\n   'N',\n   'E',\n   'N',\n   'S',\n   'N',\n   'E',\n   'E',\n   'W',\n   'E',\n   'N',\n   'N',\n   'W',\n   'W',\n   'S',\n   'W',\n   'S',\n   'W',\n   'S',\n   'N',\n   'W',\n   'S',\n   'S',\n   'E',\n   'N',\n   'W',\n   'S',\n   'E'],\n  ['W',\n   'N',\n   'S',\n   'S',\n   'N',\n   'S',\n   'E',\n   'W',\n   'E',\n   'W',\n   'W',\n   'S',\n   'S',\n   'N',\n   'N',\n   'N',\n   'N',\n   'E',\n   'N',\n   'E',\n   'W',\n   'E',\n   'S',\n   'S',\n   'W',\n   'S',\n   'N',\n   'E',\n   'S',\n   'E',\n   'W',\n   'N'],\n  ['W',\n   'W',\n   'N',\n   'E',\n   'S',\n   'W',\n   'E',\n   'N',\n   'W',\n   'N',\n   'S',\n   'E',\n   'N',\n   'N',\n   'N',\n   'S',\n   'W',\n   'W',\n   'E',\n   'S',\n   'W',\n   'E',\n   'E',\n   'W',\n   'W',\n   'S',\n   'E',\n   'E',\n   'E',\n   'E',\n   'W',\n   'S'],\n  ['W',\n   'E',\n   'S',\n   'E',\n   'N',\n   'S',\n   'N',\n   'N',\n   'S',\n   'S',\n   'E',\n   'N',\n   'W',\n   'E',\n   'S',\n   'N',\n   'N',\n   'S',\n   'S',\n   'S',\n   'E',\n   'N',\n   'W',\n   'N',\n   'S',\n   'W',\n   'N',\n   'E',\n   'W',\n   'W',\n   'S',\n   'N'],\n  ['S',\n   'S',\n   'W',\n   'W',\n   'E',\n   'E',\n   'N',\n   'N',\n   'W',\n   'W',\n   'S',\n   'E',\n   'E',\n   'N',\n   'S',\n   'N',\n   'W',\n   'W',\n   'S',\n   'S',\n   'E',\n   'W',\n   'E',\n   'W',\n   'E',\n   'N',\n   'E',\n   'N',\n   'E',\n   'S',\n   'W',\n   'N'],\n  ['E',\n   'W',\n   'E',\n   'E',\n   'N',\n   'E',\n   'W',\n   'N',\n   'S',\n   'E',\n   'W',\n   'E',\n   'E',\n   'E',\n   'S',\n   'S',\n   'W',\n   'W',\n   'N',\n   'W',\n   'W',\n   'E',\n   'N',\n   'E',\n   'N',\n   'W',\n   'S',\n   'W',\n   'S',\n   'W',\n   'E',\n   'W'],\n  ['E',\n   'E',\n   'W',\n   'S',\n   'S',\n   'S',\n   'N',\n   'E',\n   'W',\n   'N',\n   'W',\n   'S',\n   'E',\n   'E',\n   'N',\n   'N',\n   'W',\n   'N',\n   'S',\n   'S',\n   'S',\n   'N',\n   'W',\n   'W',\n   'W',\n   'N',\n   'E',\n   'S',\n   'W',\n   'E',\n   'N',\n   'E']],\n 34: [['N',\n   'S',\n   'E',\n   'S',\n   'N',\n   'N',\n   'E',\n   'W',\n   'S',\n   'W',\n   'S',\n   'N',\n   'N',\n   'W',\n   'S',\n   'N',\n   'S',\n   'E',\n   'E',\n   'S',\n   'W',\n   'E',\n   'W',\n   'N',\n   'W',\n   'W',\n   'N',\n   'E',\n   'S',\n   'E',\n   'S',\n   'W',\n   'N',\n   'E'],\n  ['S',\n   'W',\n   'N',\n   'N',\n   'S',\n   'W',\n   'S',\n   'W',\n   'E',\n   'S',\n   'W',\n   'S',\n   'E',\n   'N',\n   'W',\n   'W',\n   'E',\n   'N',\n   'N',\n   'E',\n   'S',\n   'N',\n   'E',\n   'N',\n   'S',\n   'E',\n   'W',\n   'W',\n   'E',\n   'W',\n   'N',\n   'S',\n   'E',\n   'E'],\n  ['E',\n   'N',\n   'N',\n   'N',\n   'W',\n   'W',\n   'S',\n   'W',\n   'E',\n   'E',\n   'S',\n   'W',\n   'W',\n   'E',\n   'S',\n   'E',\n   'S',\n   'S',\n   'E',\n   'W',\n   'N',\n   'W',\n   'S',\n   'S',\n   'N',\n   'W',\n   'E',\n   'N',\n   'N',\n   'E',\n   'N',\n   'E',\n   'S',\n   'W'],\n  ['N',\n   'N',\n   'W',\n   'N',\n   'E',\n   'W',\n   'S',\n   'S',\n   'W',\n   'N',\n   'E',\n   'S',\n   'E',\n   'W',\n   'N',\n   'S',\n   'N',\n   'E',\n   'W',\n   'E',\n   'S',\n   'E',\n   'W',\n   'E',\n   'W',\n   'N',\n   'S',\n   'W',\n   'N',\n   'S',\n   'E',\n   'S',\n   'N',\n   'S'],\n  ['S',\n   'W',\n   'N',\n   'E',\n   'N',\n   'S',\n   'S',\n   'E',\n   'W',\n   'N',\n   'S',\n   'W',\n   'N',\n   'E',\n   'N',\n   'W',\n   'E',\n   'N',\n   'E',\n   'N',\n   'N',\n   'W',\n   'E',\n   'E',\n   'E',\n   'W',\n   'S',\n   'N',\n   'W',\n   'W',\n   'S',\n   'S',\n   'S',\n   'S'],\n  ['N',\n   'E',\n   'E',\n   'N',\n   'S',\n   'N',\n   'W',\n   'N',\n   'W',\n   'E',\n   'E',\n   'N',\n   'S',\n   'E',\n   'S',\n   'S',\n   'W',\n   'S',\n   'E',\n   'W',\n   'E',\n   'S',\n   'S',\n   'E',\n   'N',\n   'W',\n   'N',\n   'W',\n   'W',\n   'E',\n   'S',\n   'W',\n   'W',\n   'N'],\n  ['S',\n   'E',\n   'N',\n   'W',\n   'W',\n   'W',\n   'W',\n   'E',\n   'N',\n   'S',\n   'E',\n   'N',\n   'S',\n   'N',\n   'W',\n   'W',\n   'N',\n   'E',\n   'S',\n   'E',\n   'N',\n   'S',\n   'W',\n   'E',\n   'S',\n   'E',\n   'S',\n   'N',\n   'E',\n   'N',\n   'S',\n   'W',\n   'S',\n   'N'],\n  ['N',\n   'S',\n   'N',\n   'W',\n   'S',\n   'W',\n   'W',\n   'E',\n   'W',\n   'E',\n   'S',\n   'E',\n   'W',\n   'N',\n   'S',\n   'W',\n   'N',\n   'W',\n   'S',\n   'W',\n   'S',\n   'E',\n   'E',\n   'S',\n   'E',\n   'W',\n   'N',\n   'E',\n   'S',\n   'N',\n   'E',\n   'N',\n   'N',\n   'E'],\n  ['W',\n   'N',\n   'W',\n   'E',\n   'S',\n   'N',\n   'S',\n   'S',\n   'N',\n   'S',\n   'W',\n   'S',\n   'N',\n   'S',\n   'W',\n   'N',\n   'S',\n   'W',\n   'N',\n   'E',\n   'E',\n   'S',\n   'N',\n   'S',\n   'E',\n   'S',\n   'E',\n   'S',\n   'E',\n   'N',\n   'N',\n   'N',\n   'W',\n   'N'],\n  ['S',\n   'N',\n   'W',\n   'W',\n   'S',\n   'N',\n   'W',\n   'E',\n   'S',\n   'N',\n   'E',\n   'E',\n   'W',\n   'E',\n   'S',\n   'E',\n   'S',\n   'E',\n   'N',\n   'S',\n   'W',\n   'W',\n   'E',\n   'E',\n   'N',\n   'W',\n   'E',\n   'W',\n   'N',\n   'E',\n   'W',\n   'W',\n   'W',\n   'E']],\n 36: [['E',\n   'E',\n   'N',\n   'W',\n   'N',\n   'E',\n   'S',\n   'S',\n   'S',\n   'S',\n   'W',\n   'S',\n   'N',\n   'E',\n   'S',\n   'E',\n   'W',\n   'E',\n   'W',\n   'E',\n   'E',\n   'E',\n   'N',\n   'S',\n   'N',\n   'W',\n   'W',\n   'W',\n   'W',\n   'W',\n   'N',\n   'W',\n   'E',\n   'N',\n   'E',\n   'W'],\n  ['W',\n   'E',\n   'E',\n   'N',\n   'S',\n   'S',\n   'S',\n   'W',\n   'N',\n   'S',\n   'W',\n   'E',\n   'N',\n   'N',\n   'S',\n   'S',\n   'W',\n   'N',\n   'N',\n   'W',\n   'E',\n   'S',\n   'W',\n   'E',\n   'N',\n   'S',\n   'W',\n   'E',\n   'E',\n   'W',\n   'E',\n   'W',\n   'W',\n   'N',\n   'E',\n   'E'],\n  ['S',\n   'W',\n   'E',\n   'N',\n   'W',\n   'S',\n   'N',\n   'S',\n   'W',\n   'N',\n   'W',\n   'S',\n   'S',\n   'N',\n   'S',\n   'W',\n   'N',\n   'N',\n   'E',\n   'E',\n   'E',\n   'W',\n   'W',\n   'N',\n   'W',\n   'N',\n   'N',\n   'E',\n   'E',\n   'E',\n   'S',\n   'S',\n   'E',\n   'E',\n   'S',\n   'W'],\n  ['E',\n   'N',\n   'N',\n   'N',\n   'E',\n   'S',\n   'W',\n   'W',\n   'W',\n   'W',\n   'S',\n   'S',\n   'E',\n   'N',\n   'S',\n   'W',\n   'N',\n   'N',\n   'S',\n   'E',\n   'S',\n   'N',\n   'E',\n   'N',\n   'E',\n   'N',\n   'E',\n   'W',\n   'W',\n   'N',\n   'W',\n   'S',\n   'S',\n   'E',\n   'S',\n   'S'],\n  ['W',\n   'N',\n   'S',\n   'W',\n   'S',\n   'S',\n   'N',\n   'E',\n   'S',\n   'E',\n   'N',\n   'S',\n   'W',\n   'N',\n   'S',\n   'E',\n   'N',\n   'E',\n   'N',\n   'S',\n   'E',\n   'E',\n   'N',\n   'E',\n   'S',\n   'N',\n   'E',\n   'W',\n   'N',\n   'W',\n   'W',\n   'W',\n   'S',\n   'N',\n   'S',\n   'W'],\n  ['W',\n   'W',\n   'N',\n   'E',\n   'E',\n   'S',\n   'E',\n   'E',\n   'E',\n   'W',\n   'N',\n   'E',\n   'W',\n   'S',\n   'W',\n   'N',\n   'S',\n   'W',\n   'N',\n   'S',\n   'S',\n   'N',\n   'S',\n   'N',\n   'W',\n   'E',\n   'S',\n   'E',\n   'S',\n   'W',\n   'W',\n   'S',\n   'N',\n   'N',\n   'N',\n   'E'],\n  ['W',\n   'N',\n   'E',\n   'N',\n   'S',\n   'S',\n   'S',\n   'N',\n   'S',\n   'W',\n   'S',\n   'W',\n   'E',\n   'N',\n   'W',\n   'E',\n   'W',\n   'E',\n   'E',\n   'E',\n   'W',\n   'N',\n   'E',\n   'N',\n   'E',\n   'W',\n   'W',\n   'N',\n   'S',\n   'N',\n   'W',\n   'E',\n   'S',\n   'S',\n   'W',\n   'E'],\n  ['E',\n   'N',\n   'W',\n   'N',\n   'S',\n   'W',\n   'W',\n   'N',\n   'S',\n   'W',\n   'N',\n   'N',\n   'S',\n   'N',\n   'N',\n   'S',\n   'S',\n   'E',\n   'E',\n   'W',\n   'S',\n   'W',\n   'E',\n   'N',\n   'N',\n   'S',\n   'E',\n   'E',\n   'N',\n   'W',\n   'E',\n   'N',\n   'S',\n   'S',\n   'S',\n   'S'],\n  ['N',\n   'W',\n   'W',\n   'S',\n   'N',\n   'N',\n   'S',\n   'E',\n   'S',\n   'N',\n   'N',\n   'N',\n   'S',\n   'E',\n   'N',\n   'W',\n   'E',\n   'W',\n   'W',\n   'W',\n   'N',\n   'N',\n   'S',\n   'E',\n   'W',\n   'E',\n   'W',\n   'E',\n   'W',\n   'E',\n   'S',\n   'S',\n   'E',\n   'E',\n   'S',\n   'S'],\n  ['E',\n   'W',\n   'E',\n   'E',\n   'N',\n   'E',\n   'S',\n   'S',\n   'N',\n   'W',\n   'S',\n   'N',\n   'N',\n   'W',\n   'N',\n   'S',\n   'S',\n   'S',\n   'S',\n   'W',\n   'E',\n   'S',\n   'N',\n   'N',\n   'N',\n   'W',\n   'N',\n   'W',\n   'N',\n   'W',\n   'S',\n   'E',\n   'E',\n   'S',\n   'N',\n   'S']],\n 38: [['N',\n   'S',\n   'N',\n   'W',\n   'S',\n   'S',\n   'E',\n   'W',\n   'S',\n   'W',\n   'W',\n   'N',\n   'W',\n   'W',\n   'E',\n   'W',\n   'N',\n   'E',\n   'E',\n   'S',\n   'S',\n   'E',\n   'S',\n   'W',\n   'E',\n   'N',\n   'E',\n   'S',\n   'N',\n   'S',\n   'W',\n   'W',\n   'E',\n   'N',\n   'E',\n   'E',\n   'N',\n   'N'],\n  ['N',\n   'W',\n   'N',\n   'W',\n   'N',\n   'N',\n   'N',\n   'E',\n   'S',\n   'E',\n   'W',\n   'S',\n   'E',\n   'E',\n   'W',\n   'S',\n   'W',\n   'W',\n   'E',\n   'N',\n   'N',\n   'W',\n   'W',\n   'S',\n   'E',\n   'N',\n   'S',\n   'E',\n   'S',\n   'N',\n   'E',\n   'S',\n   'S',\n   'W',\n   'E',\n   'N',\n   'S',\n   'S'],\n  ['E',\n   'W',\n   'N',\n   'N',\n   'W',\n   'W',\n   'W',\n   'E',\n   'N',\n   'E',\n   'W',\n   'S',\n   'W',\n   'E',\n   'N',\n   'E',\n   'S',\n   'S',\n   'E',\n   'N',\n   'S',\n   'N',\n   'S',\n   'E',\n   'S',\n   'N',\n   'E',\n   'W',\n   'N',\n   'S',\n   'E',\n   'W',\n   'S',\n   'W',\n   'E',\n   'S',\n   'W',\n   'N'],\n  ['W',\n   'E',\n   'W',\n   'S',\n   'S',\n   'N',\n   'E',\n   'E',\n   'N',\n   'S',\n   'W',\n   'N',\n   'W',\n   'E',\n   'E',\n   'S',\n   'N',\n   'N',\n   'N',\n   'W',\n   'S',\n   'E',\n   'N',\n   'E',\n   'E',\n   'W',\n   'S',\n   'W',\n   'S',\n   'S',\n   'E',\n   'N',\n   'E',\n   'E',\n   'W',\n   'W',\n   'W',\n   'W'],\n  ['N',\n   'W',\n   'E',\n   'E',\n   'S',\n   'N',\n   'W',\n   'W',\n   'N',\n   'S',\n   'E',\n   'N',\n   'S',\n   'S',\n   'N',\n   'S',\n   'W',\n   'S',\n   'N',\n   'S',\n   'E',\n   'W',\n   'S',\n   'S',\n   'W',\n   'N',\n   'E',\n   'N',\n   'N',\n   'N',\n   'N',\n   'S',\n   'W',\n   'S',\n   'W',\n   'E',\n   'E',\n   'E'],\n  ['N',\n   'E',\n   'N',\n   'E',\n   'S',\n   'W',\n   'W',\n   'W',\n   'S',\n   'N',\n   'E',\n   'N',\n   'N',\n   'N',\n   'W',\n   'E',\n   'E',\n   'E',\n   'S',\n   'N',\n   'W',\n   'W',\n   'S',\n   'S',\n   'N',\n   'S',\n   'E',\n   'E',\n   'W',\n   'W',\n   'S',\n   'N',\n   'W',\n   'W',\n   'E',\n   'E',\n   'S',\n   'S'],\n  ['E',\n   'W',\n   'N',\n   'W',\n   'S',\n   'E',\n   'W',\n   'E',\n   'W',\n   'S',\n   'N',\n   'S',\n   'S',\n   'E',\n   'N',\n   'E',\n   'E',\n   'N',\n   'E',\n   'W',\n   'E',\n   'S',\n   'W',\n   'E',\n   'W',\n   'S',\n   'S',\n   'N',\n   'W',\n   'N',\n   'W',\n   'E',\n   'W',\n   'N',\n   'E',\n   'W',\n   'W',\n   'E'],\n  ['W',\n   'S',\n   'N',\n   'E',\n   'N',\n   'S',\n   'W',\n   'S',\n   'N',\n   'E',\n   'N',\n   'S',\n   'S',\n   'N',\n   'N',\n   'S',\n   'W',\n   'S',\n   'S',\n   'E',\n   'N',\n   'S',\n   'E',\n   'S',\n   'N',\n   'W',\n   'E',\n   'N',\n   'N',\n   'S',\n   'N',\n   'N',\n   'W',\n   'S',\n   'N',\n   'S',\n   'S',\n   'N'],\n  ['N',\n   'E',\n   'W',\n   'N',\n   'S',\n   'S',\n   'E',\n   'E',\n   'W',\n   'W',\n   'S',\n   'E',\n   'W',\n   'E',\n   'N',\n   'N',\n   'E',\n   'S',\n   'N',\n   'E',\n   'S',\n   'N',\n   'W',\n   'S',\n   'W',\n   'W',\n   'S',\n   'E',\n   'N',\n   'N',\n   'S',\n   'E',\n   'S',\n   'N',\n   'N',\n   'W',\n   'S',\n   'W'],\n  ['S',\n   'W',\n   'N',\n   'E',\n   'N',\n   'N',\n   'E',\n   'S',\n   'N',\n   'E',\n   'E',\n   'E',\n   'S',\n   'S',\n   'S',\n   'N',\n   'W',\n   'W',\n   'W',\n   'W',\n   'S',\n   'E',\n   'S',\n   'N',\n   'S',\n   'W',\n   'E',\n   'E',\n   'E',\n   'W',\n   'N',\n   'W',\n   'S',\n   'N',\n   'W',\n   'E',\n   'W',\n   'N']],\n 40: [['S',\n   'N',\n   'N',\n   'S',\n   'S',\n   'E',\n   'E',\n   'W',\n   'N',\n   'E',\n   'E',\n   'W',\n   'W',\n   'N',\n   'S',\n   'W',\n   'N',\n   'S',\n   'N',\n   'W',\n   'W',\n   'W',\n   'N',\n   'S',\n   'S',\n   'N',\n   'S',\n   'E',\n   'E',\n   'E',\n   'N',\n   'E',\n   'W',\n   'S',\n   'E',\n   'N',\n   'S',\n   'N',\n   'W',\n   'S'],\n  ['E',\n   'S',\n   'W',\n   'S',\n   'E',\n   'W',\n   'S',\n   'E',\n   'E',\n   'S',\n   'W',\n   'N',\n   'E',\n   'E',\n   'S',\n   'W',\n   'E',\n   'W',\n   'W',\n   'W',\n   'E',\n   'W',\n   'W',\n   'N',\n   'E',\n   'N',\n   'S',\n   'W',\n   'N',\n   'S',\n   'S',\n   'N',\n   'E',\n   'N',\n   'E',\n   'W',\n   'W',\n   'N',\n   'E',\n   'N'],\n  ['N',\n   'N',\n   'W',\n   'N',\n   'S',\n   'N',\n   'E',\n   'W',\n   'S',\n   'S',\n   'N',\n   'N',\n   'W',\n   'W',\n   'N',\n   'S',\n   'E',\n   'E',\n   'E',\n   'E',\n   'W',\n   'E',\n   'E',\n   'S',\n   'E',\n   'N',\n   'W',\n   'E',\n   'S',\n   'S',\n   'E',\n   'W',\n   'W',\n   'S',\n   'E',\n   'N',\n   'S',\n   'W',\n   'W',\n   'W'],\n  ['W',\n   'S',\n   'S',\n   'N',\n   'W',\n   'N',\n   'N',\n   'E',\n   'N',\n   'S',\n   'W',\n   'W',\n   'N',\n   'W',\n   'S',\n   'W',\n   'W',\n   'S',\n   'E',\n   'E',\n   'E',\n   'S',\n   'E',\n   'S',\n   'W',\n   'E',\n   'N',\n   'E',\n   'E',\n   'N',\n   'E',\n   'N',\n   'S',\n   'S',\n   'W',\n   'E',\n   'W',\n   'E',\n   'W',\n   'N'],\n  ['S',\n   'E',\n   'S',\n   'E',\n   'S',\n   'W',\n   'W',\n   'W',\n   'E',\n   'W',\n   'E',\n   'W',\n   'E',\n   'E',\n   'E',\n   'W',\n   'E',\n   'W',\n   'W',\n   'N',\n   'W',\n   'N',\n   'E',\n   'W',\n   'S',\n   'S',\n   'E',\n   'N',\n   'E',\n   'N',\n   'W',\n   'N',\n   'E',\n   'E',\n   'N',\n   'S',\n   'W',\n   'S',\n   'N',\n   'W'],\n  ['S',\n   'E',\n   'W',\n   'N',\n   'W',\n   'W',\n   'W',\n   'N',\n   'S',\n   'E',\n   'E',\n   'S',\n   'E',\n   'E',\n   'W',\n   'S',\n   'W',\n   'S',\n   'N',\n   'N',\n   'W',\n   'S',\n   'W',\n   'E',\n   'S',\n   'N',\n   'E',\n   'E',\n   'S',\n   'W',\n   'E',\n   'E',\n   'W',\n   'N',\n   'S',\n   'E',\n   'N',\n   'N',\n   'N',\n   'W'],\n  ['N',\n   'S',\n   'W',\n   'W',\n   'W',\n   'S',\n   'E',\n   'E',\n   'E',\n   'N',\n   'E',\n   'W',\n   'S',\n   'E',\n   'W',\n   'N',\n   'N',\n   'N',\n   'N',\n   'S',\n   'E',\n   'W',\n   'E',\n   'S',\n   'S',\n   'S',\n   'S',\n   'N',\n   'S',\n   'E',\n   'W',\n   'N',\n   'N',\n   'E',\n   'W',\n   'N',\n   'W',\n   'N',\n   'S',\n   'S'],\n  ['S',\n   'S',\n   'N',\n   'S',\n   'S',\n   'E',\n   'W',\n   'W',\n   'N',\n   'S',\n   'E',\n   'N',\n   'N',\n   'S',\n   'W',\n   'S',\n   'W',\n   'E',\n   'W',\n   'W',\n   'S',\n   'W',\n   'E',\n   'E',\n   'N',\n   'N',\n   'E',\n   'W',\n   'E',\n   'W',\n   'E',\n   'N',\n   'S',\n   'W',\n   'N',\n   'E',\n   'N',\n   'W',\n   'E',\n   'E'],\n  ['E',\n   'W',\n   'W',\n   'S',\n   'W',\n   'S',\n   'N',\n   'S',\n   'N',\n   'W',\n   'E',\n   'S',\n   'E',\n   'E',\n   'N',\n   'W',\n   'W',\n   'E',\n   'E',\n   'E',\n   'N',\n   'S',\n   'W',\n   'S',\n   'S',\n   'N',\n   'S',\n   'W',\n   'W',\n   'E',\n   'W',\n   'N',\n   'E',\n   'S',\n   'E',\n   'E',\n   'N',\n   'W',\n   'N',\n   'N'],\n  ['E',\n   'S',\n   'E',\n   'N',\n   'N',\n   'N',\n   'W',\n   'N',\n   'N',\n   'S',\n   'N',\n   'E',\n   'W',\n   'W',\n   'S',\n   'S',\n   'S',\n   'W',\n   'W',\n   'E',\n   'N',\n   'W',\n   'N',\n   'E',\n   'S',\n   'E',\n   'W',\n   'S',\n   'N',\n   'S',\n   'N',\n   'E',\n   'N',\n   'S',\n   'W',\n   'S',\n   'E',\n   'E',\n   'S',\n   'W']],\n 42: [['E',\n   'E',\n   'W',\n   'W',\n   'E',\n   'S',\n   'E',\n   'S',\n   'S',\n   'N',\n   'S',\n   'W',\n   'N',\n   'S',\n   'N',\n   'W',\n   'N',\n   'E',\n   'S',\n   'W',\n   'S',\n   'S',\n   'E',\n   'N',\n   'W',\n   'E',\n   'W',\n   'N',\n   'N',\n   'N',\n   'S',\n   'E',\n   'E',\n   'S',\n   'W',\n   'N',\n   'N',\n   'N',\n   'S',\n   'W',\n   'E',\n   'W'],\n  ['S',\n   'S',\n   'N',\n   'E',\n   'N',\n   'N',\n   'S',\n   'S',\n   'E',\n   'S',\n   'W',\n   'S',\n   'W',\n   'W',\n   'E',\n   'N',\n   'W',\n   'N',\n   'S',\n   'N',\n   'E',\n   'S',\n   'N',\n   'W',\n   'E',\n   'W',\n   'N',\n   'N',\n   'S',\n   'E',\n   'N',\n   'S',\n   'N',\n   'W',\n   'W',\n   'S',\n   'E',\n   'E',\n   'W',\n   'W',\n   'E',\n   'E'],\n  ['W',\n   'E',\n   'S',\n   'N',\n   'W',\n   'S',\n   'N',\n   'E',\n   'W',\n   'E',\n   'S',\n   'N',\n   'E',\n   'N',\n   'W',\n   'W',\n   'E',\n   'N',\n   'E',\n   'N',\n   'S',\n   'S',\n   'S',\n   'E',\n   'N',\n   'N',\n   'W',\n   'S',\n   'N',\n   'S',\n   'N',\n   'S',\n   'N',\n   'W',\n   'N',\n   'S',\n   'N',\n   'S',\n   'W',\n   'S',\n   'E',\n   'S'],\n  ['E',\n   'E',\n   'N',\n   'N',\n   'N',\n   'W',\n   'E',\n   'S',\n   'E',\n   'E',\n   'N',\n   'N',\n   'W',\n   'E',\n   'N',\n   'N',\n   'W',\n   'S',\n   'S',\n   'W',\n   'W',\n   'W',\n   'E',\n   'W',\n   'N',\n   'S',\n   'S',\n   'E',\n   'E',\n   'W',\n   'S',\n   'S',\n   'W',\n   'S',\n   'N',\n   'N',\n   'S',\n   'E',\n   'E',\n   'W',\n   'W',\n   'S'],\n  ['N',\n   'S',\n   'N',\n   'S',\n   'S',\n   'N',\n   'E',\n   'E',\n   'N',\n   'W',\n   'N',\n   'N',\n   'N',\n   'N',\n   'E',\n   'N',\n   'E',\n   'S',\n   'W',\n   'S',\n   'W',\n   'W',\n   'S',\n   'W',\n   'S',\n   'S',\n   'N',\n   'W',\n   'W',\n   'S',\n   'S',\n   'S',\n   'N',\n   'E',\n   'S',\n   'N',\n   'E',\n   'E',\n   'W',\n   'E',\n   'S',\n   'N'],\n  ['S',\n   'S',\n   'S',\n   'N',\n   'W',\n   'N',\n   'N',\n   'E',\n   'S',\n   'E',\n   'N',\n   'S',\n   'S',\n   'W',\n   'W',\n   'S',\n   'S',\n   'E',\n   'S',\n   'E',\n   'E',\n   'E',\n   'W',\n   'N',\n   'N',\n   'N',\n   'E',\n   'W',\n   'N',\n   'S',\n   'N',\n   'S',\n   'E',\n   'W',\n   'W',\n   'N',\n   'N',\n   'S',\n   'N',\n   'W',\n   'E',\n   'W'],\n  ['E',\n   'S',\n   'W',\n   'E',\n   'S',\n   'W',\n   'W',\n   'E',\n   'N',\n   'E',\n   'S',\n   'E',\n   'N',\n   'W',\n   'N',\n   'E',\n   'W',\n   'W',\n   'S',\n   'W',\n   'N',\n   'N',\n   'W',\n   'N',\n   'S',\n   'W',\n   'W',\n   'S',\n   'S',\n   'E',\n   'W',\n   'S',\n   'E',\n   'E',\n   'W',\n   'S',\n   'E',\n   'E',\n   'E',\n   'N',\n   'N',\n   'N'],\n  ['E',\n   'S',\n   'E',\n   'W',\n   'W',\n   'N',\n   'E',\n   'E',\n   'W',\n   'S',\n   'S',\n   'N',\n   'E',\n   'W',\n   'W',\n   'W',\n   'E',\n   'S',\n   'E',\n   'N',\n   'S',\n   'S',\n   'E',\n   'E',\n   'E',\n   'W',\n   'W',\n   'W',\n   'E',\n   'E',\n   'N',\n   'W',\n   'S',\n   'E',\n   'W',\n   'N',\n   'W',\n   'N',\n   'W',\n   'E',\n   'W',\n   'N'],\n  ['N',\n   'W',\n   'W',\n   'E',\n   'E',\n   'N',\n   'N',\n   'E',\n   'E',\n   'E',\n   'S',\n   'E',\n   'E',\n   'E',\n   'S',\n   'N',\n   'S',\n   'E',\n   'N',\n   'S',\n   'W',\n   'W',\n   'W',\n   'N',\n   'E',\n   'W',\n   'W',\n   'S',\n   'N',\n   'W',\n   'S',\n   'E',\n   'S',\n   'S',\n   'S',\n   'W',\n   'W',\n   'W',\n   'N',\n   'N',\n   'S',\n   'N'],\n  ['W',\n   'N',\n   'N',\n   'E',\n   'W',\n   'S',\n   'N',\n   'S',\n   'E',\n   'S',\n   'E',\n   'W',\n   'E',\n   'E',\n   'N',\n   'W',\n   'W',\n   'W',\n   'S',\n   'N',\n   'E',\n   'W',\n   'W',\n   'S',\n   'S',\n   'E',\n   'N',\n   'N',\n   'W',\n   'S',\n   'E',\n   'S',\n   'S',\n   'E',\n   'N',\n   'S',\n   'S',\n   'N',\n   'E',\n   'N',\n   'N',\n   'W']],\n 44: [['W',\n   'E',\n   'W',\n   'S',\n   'E',\n   'S',\n   'E',\n   'E',\n   'W',\n   'W',\n   'W',\n   'W',\n   'W',\n   'W',\n   'S',\n   'W',\n   'E',\n   'W',\n   'N',\n   'S',\n   'N',\n   'N',\n   'E',\n   'E',\n   'S',\n   'N',\n   'W',\n   'S',\n   'E',\n   'N',\n   'E',\n   'E',\n   'N',\n   'W',\n   'S',\n   'W',\n   'W',\n   'W',\n   'E',\n   'E',\n   'E',\n   'E',\n   'E',\n   'N'],\n  ['E',\n   'W',\n   'W',\n   'N',\n   'W',\n   'W',\n   'S',\n   'N',\n   'S',\n   'W',\n   'N',\n   'W',\n   'S',\n   'W',\n   'S',\n   'N',\n   'N',\n   'N',\n   'S',\n   'S',\n   'W',\n   'E',\n   'W',\n   'E',\n   'E',\n   'N',\n   'E',\n   'E',\n   'E',\n   'S',\n   'E',\n   'S',\n   'S',\n   'N',\n   'E',\n   'S',\n   'N',\n   'N',\n   'S',\n   'N',\n   'N',\n   'S',\n   'W',\n   'E'],\n  ['E',\n   'N',\n   'S',\n   'N',\n   'S',\n   'S',\n   'S',\n   'S',\n   'E',\n   'W',\n   'N',\n   'W',\n   'W',\n   'N',\n   'S',\n   'W',\n   'E',\n   'E',\n   'N',\n   'N',\n   'N',\n   'N',\n   'N',\n   'S',\n   'N',\n   'S',\n   'E',\n   'S',\n   'W',\n   'E',\n   'S',\n   'E',\n   'E',\n   'W',\n   'E',\n   'E',\n   'W',\n   'W',\n   'N',\n   'S',\n   'N',\n   'S',\n   'W',\n   'W'],\n  ['S',\n   'W',\n   'S',\n   'N',\n   'W',\n   'S',\n   'N',\n   'E',\n   'E',\n   'E',\n   'W',\n   'E',\n   'W',\n   'W',\n   'S',\n   'N',\n   'N',\n   'W',\n   'N',\n   'N',\n   'S',\n   'S',\n   'S',\n   'N',\n   'S',\n   'W',\n   'S',\n   'E',\n   'N',\n   'W',\n   'E',\n   'E',\n   'E',\n   'E',\n   'N',\n   'N',\n   'S',\n   'E',\n   'E',\n   'W',\n   'W',\n   'W',\n   'S',\n   'N'],\n  ['S',\n   'E',\n   'E',\n   'S',\n   'E',\n   'E',\n   'S',\n   'W',\n   'E',\n   'E',\n   'E',\n   'W',\n   'S',\n   'E',\n   'S',\n   'W',\n   'N',\n   'W',\n   'E',\n   'N',\n   'N',\n   'E',\n   'N',\n   'E',\n   'W',\n   'E',\n   'N',\n   'N',\n   'N',\n   'W',\n   'W',\n   'S',\n   'W',\n   'S',\n   'N',\n   'W',\n   'W',\n   'S',\n   'E',\n   'W',\n   'S',\n   'W',\n   'N',\n   'W'],\n  ['E',\n   'N',\n   'S',\n   'N',\n   'N',\n   'N',\n   'S',\n   'W',\n   'W',\n   'S',\n   'S',\n   'E',\n   'W',\n   'W',\n   'W',\n   'N',\n   'S',\n   'E',\n   'W',\n   'S',\n   'E',\n   'E',\n   'W',\n   'E',\n   'E',\n   'N',\n   'E',\n   'N',\n   'N',\n   'W',\n   'S',\n   'N',\n   'W',\n   'S',\n   'S',\n   'N',\n   'W',\n   'S',\n   'E',\n   'N',\n   'S',\n   'E',\n   'N',\n   'S'],\n  ['S',\n   'W',\n   'W',\n   'E',\n   'S',\n   'N',\n   'E',\n   'S',\n   'S',\n   'E',\n   'E',\n   'N',\n   'E',\n   'E',\n   'E',\n   'W',\n   'N',\n   'W',\n   'W',\n   'W',\n   'N',\n   'S',\n   'E',\n   'W',\n   'E',\n   'E',\n   'W',\n   'W',\n   'E',\n   'N',\n   'W',\n   'E',\n   'S',\n   'E',\n   'N',\n   'W',\n   'W',\n   'N',\n   'E',\n   'W',\n   'W',\n   'E',\n   'S',\n   'W'],\n  ['N',\n   'S',\n   'W',\n   'W',\n   'E',\n   'N',\n   'E',\n   'W',\n   'S',\n   'E',\n   'S',\n   'N',\n   'N',\n   'S',\n   'E',\n   'W',\n   'S',\n   'E',\n   'E',\n   'S',\n   'N',\n   'N',\n   'S',\n   'W',\n   'N',\n   'N',\n   'E',\n   'N',\n   'W',\n   'W',\n   'W',\n   'E',\n   'S',\n   'W',\n   'N',\n   'N',\n   'W',\n   'S',\n   'S',\n   'N',\n   'S',\n   'E',\n   'E',\n   'S'],\n  ['N',\n   'S',\n   'N',\n   'S',\n   'S',\n   'E',\n   'N',\n   'E',\n   'W',\n   'S',\n   'S',\n   'S',\n   'N',\n   'N',\n   'S',\n   'W',\n   'S',\n   'N',\n   'N',\n   'N',\n   'S',\n   'E',\n   'E',\n   'N',\n   'W',\n   'W',\n   'E',\n   'E',\n   'S',\n   'S',\n   'N',\n   'S',\n   'E',\n   'W',\n   'E',\n   'S',\n   'W',\n   'E',\n   'W',\n   'N',\n   'N',\n   'W',\n   'W',\n   'N'],\n  ['N',\n   'S',\n   'N',\n   'S',\n   'N',\n   'S',\n   'W',\n   'S',\n   'S',\n   'W',\n   'S',\n   'W',\n   'E',\n   'N',\n   'N',\n   'E',\n   'E',\n   'W',\n   'E',\n   'N',\n   'W',\n   'W',\n   'E',\n   'W',\n   'E',\n   'S',\n   'S',\n   'N',\n   'S',\n   'W',\n   'E',\n   'S',\n   'S',\n   'S',\n   'N',\n   'N',\n   'E',\n   'E',\n   'S',\n   'N',\n   'N',\n   'N',\n   'W',\n   'N']],\n 46: [['N',\n   'N',\n   'S',\n   'N',\n   'N',\n   'W',\n   'S',\n   'S',\n   'N',\n   'N',\n   'N',\n   'W',\n   'W',\n   'W',\n   'N',\n   'W',\n   'S',\n   'W',\n   'W',\n   'S',\n   'S',\n   'E',\n   'N',\n   'E',\n   'S',\n   'N',\n   'N',\n   'S',\n   'E',\n   'N',\n   'S',\n   'E',\n   'S',\n   'N',\n   'W',\n   'S',\n   'E',\n   'S',\n   'W',\n   'S',\n   'E',\n   'S',\n   'E',\n   'E',\n   'N',\n   'E'],\n  ['W',\n   'S',\n   'S',\n   'W',\n   'S',\n   'E',\n   'N',\n   'N',\n   'W',\n   'W',\n   'E',\n   'S',\n   'E',\n   'E',\n   'E',\n   'N',\n   'N',\n   'N',\n   'S',\n   'S',\n   'S',\n   'W',\n   'E',\n   'W',\n   'E',\n   'E',\n   'S',\n   'E',\n   'S',\n   'N',\n   'W',\n   'E',\n   'N',\n   'W',\n   'W',\n   'W',\n   'N',\n   'S',\n   'N',\n   'E',\n   'W',\n   'W',\n   'E',\n   'S',\n   'N',\n   'N'],\n  ['N',\n   'E',\n   'S',\n   'N',\n   'N',\n   'S',\n   'S',\n   'S',\n   'S',\n   'W',\n   'N',\n   'W',\n   'N',\n   'S',\n   'S',\n   'N',\n   'W',\n   'S',\n   'W',\n   'E',\n   'E',\n   'N',\n   'S',\n   'S',\n   'E',\n   'N',\n   'E',\n   'W',\n   'W',\n   'S',\n   'E',\n   'N',\n   'W',\n   'W',\n   'W',\n   'E',\n   'N',\n   'S',\n   'E',\n   'N',\n   'N',\n   'N',\n   'N',\n   'S',\n   'E',\n   'S'],\n  ['W',\n   'N',\n   'E',\n   'E',\n   'W',\n   'N',\n   'S',\n   'E',\n   'E',\n   'N',\n   'N',\n   'W',\n   'N',\n   'E',\n   'W',\n   'S',\n   'E',\n   'W',\n   'W',\n   'E',\n   'S',\n   'W',\n   'N',\n   'S',\n   'W',\n   'S',\n   'E',\n   'S',\n   'E',\n   'S',\n   'E',\n   'N',\n   'S',\n   'S',\n   'W',\n   'W',\n   'S',\n   'E',\n   'W',\n   'N',\n   'E',\n   'S',\n   'N',\n   'N',\n   'N',\n   'W'],\n  ['E',\n   'S',\n   'E',\n   'N',\n   'W',\n   'N',\n   'S',\n   'E',\n   'S',\n   'W',\n   'N',\n   'N',\n   'N',\n   'N',\n   'W',\n   'S',\n   'N',\n   'W',\n   'S',\n   'E',\n   'N',\n   'N',\n   'S',\n   'N',\n   'W',\n   'W',\n   'N',\n   'N',\n   'N',\n   'W',\n   'W',\n   'S',\n   'S',\n   'E',\n   'S',\n   'S',\n   'N',\n   'W',\n   'E',\n   'E',\n   'E',\n   'S',\n   'E',\n   'S',\n   'S',\n   'S'],\n  ['E',\n   'E',\n   'E',\n   'W',\n   'E',\n   'W',\n   'N',\n   'N',\n   'N',\n   'S',\n   'N',\n   'S',\n   'E',\n   'E',\n   'W',\n   'W',\n   'S',\n   'W',\n   'N',\n   'W',\n   'W',\n   'E',\n   'S',\n   'W',\n   'S',\n   'S',\n   'S',\n   'E',\n   'E',\n   'E',\n   'W',\n   'N',\n   'W',\n   'W',\n   'N',\n   'E',\n   'S',\n   'W',\n   'W',\n   'N',\n   'N',\n   'N',\n   'S',\n   'S',\n   'E',\n   'E'],\n  ['W',\n   'W',\n   'W',\n   'E',\n   'E',\n   'S',\n   'E',\n   'N',\n   'N',\n   'E',\n   'N',\n   'S',\n   'E',\n   'N',\n   'W',\n   'N',\n   'S',\n   'E',\n   'E',\n   'W',\n   'W',\n   'W',\n   'W',\n   'S',\n   'E',\n   'E',\n   'S',\n   'W',\n   'S',\n   'W',\n   'S',\n   'W',\n   'E',\n   'S',\n   'N',\n   'E',\n   'N',\n   'E',\n   'S',\n   'W',\n   'N',\n   'E',\n   'N',\n   'S',\n   'N',\n   'W'],\n  ['N',\n   'E',\n   'S',\n   'W',\n   'N',\n   'N',\n   'W',\n   'N',\n   'E',\n   'S',\n   'W',\n   'S',\n   'W',\n   'E',\n   'W',\n   'W',\n   'N',\n   'W',\n   'W',\n   'E',\n   'S',\n   'E',\n   'W',\n   'E',\n   'S',\n   'S',\n   'W',\n   'N',\n   'E',\n   'W',\n   'E',\n   'S',\n   'S',\n   'S',\n   'E',\n   'E',\n   'N',\n   'N',\n   'E',\n   'E',\n   'W',\n   'N',\n   'S',\n   'N',\n   'W',\n   'E'],\n  ['S',\n   'S',\n   'N',\n   'W',\n   'W',\n   'N',\n   'S',\n   'N',\n   'N',\n   'N',\n   'W',\n   'E',\n   'E',\n   'S',\n   'N',\n   'W',\n   'E',\n   'E',\n   'E',\n   'S',\n   'E',\n   'N',\n   'S',\n   'W',\n   'W',\n   'W',\n   'S',\n   'E',\n   'S',\n   'N',\n   'N',\n   'N',\n   'E',\n   'W',\n   'S',\n   'S',\n   'E',\n   'N',\n   'S',\n   'W',\n   'W',\n   'S',\n   'E',\n   'E',\n   'N',\n   'W'],\n  ['N',\n   'S',\n   'S',\n   'W',\n   'N',\n   'N',\n   'S',\n   'S',\n   'S',\n   'W',\n   'N',\n   'N',\n   'N',\n   'N',\n   'N',\n   'W',\n   'S',\n   'E',\n   'S',\n   'N',\n   'E',\n   'W',\n   'S',\n   'E',\n   'E',\n   'W',\n   'S',\n   'E',\n   'E',\n   'E',\n   'W',\n   'N',\n   'W',\n   'W',\n   'S',\n   'E',\n   'E',\n   'S',\n   'E',\n   'W',\n   'W',\n   'W',\n   'E',\n   'E',\n   'W',\n   'N']],\n 48: [['W',\n   'S',\n   'W',\n   'N',\n   'W',\n   'E',\n   'S',\n   'E',\n   'N',\n   'S',\n   'E',\n   'E',\n   'S',\n   'N',\n   'W',\n   'E',\n   'E',\n   'W',\n   'S',\n   'E',\n   'S',\n   'N',\n   'S',\n   'E',\n   'W',\n   'S',\n   'N',\n   'E',\n   'S',\n   'W',\n   'N',\n   'S',\n   'E',\n   'W',\n   'E',\n   'N',\n   'W',\n   'W',\n   'N',\n   'N',\n   'N',\n   'W',\n   'W',\n   'N',\n   'S',\n   'S',\n   'N',\n   'E'],\n  ['S',\n   'E',\n   'E',\n   'E',\n   'E',\n   'W',\n   'N',\n   'N',\n   'E',\n   'E',\n   'S',\n   'W',\n   'S',\n   'S',\n   'W',\n   'W',\n   'N',\n   'S',\n   'S',\n   'W',\n   'S',\n   'N',\n   'E',\n   'N',\n   'W',\n   'E',\n   'W',\n   'W',\n   'W',\n   'W',\n   'E',\n   'W',\n   'N',\n   'W',\n   'E',\n   'N',\n   'E',\n   'W',\n   'N',\n   'E',\n   'S',\n   'S',\n   'E',\n   'S',\n   'W',\n   'E',\n   'N',\n   'N'],\n  ['E',\n   'W',\n   'E',\n   'W',\n   'W',\n   'N',\n   'N',\n   'S',\n   'W',\n   'S',\n   'S',\n   'S',\n   'S',\n   'N',\n   'S',\n   'W',\n   'N',\n   'E',\n   'E',\n   'E',\n   'E',\n   'W',\n   'N',\n   'E',\n   'W',\n   'W',\n   'E',\n   'W',\n   'N',\n   'N',\n   'S',\n   'N',\n   'E',\n   'E',\n   'E',\n   'S',\n   'E',\n   'W',\n   'N',\n   'N',\n   'E',\n   'N',\n   'W',\n   'W',\n   'S',\n   'W',\n   'S',\n   'S'],\n  ['W',\n   'S',\n   'S',\n   'N',\n   'W',\n   'E',\n   'E',\n   'S',\n   'N',\n   'E',\n   'S',\n   'S',\n   'N',\n   'N',\n   'S',\n   'W',\n   'W',\n   'E',\n   'N',\n   'W',\n   'N',\n   'E',\n   'N',\n   'E',\n   'N',\n   'N',\n   'W',\n   'E',\n   'E',\n   'W',\n   'N',\n   'S',\n   'E',\n   'S',\n   'S',\n   'N',\n   'E',\n   'W',\n   'S',\n   'W',\n   'W',\n   'S',\n   'E',\n   'W',\n   'W',\n   'S',\n   'E',\n   'N'],\n  ['N',\n   'E',\n   'N',\n   'E',\n   'W',\n   'W',\n   'S',\n   'W',\n   'W',\n   'E',\n   'E',\n   'N',\n   'E',\n   'W',\n   'S',\n   'W',\n   'N',\n   'N',\n   'S',\n   'N',\n   'W',\n   'W',\n   'N',\n   'E',\n   'S',\n   'W',\n   'E',\n   'S',\n   'S',\n   'E',\n   'W',\n   'S',\n   'N',\n   'S',\n   'E',\n   'N',\n   'S',\n   'E',\n   'S',\n   'W',\n   'W',\n   'E',\n   'N',\n   'E',\n   'N',\n   'S',\n   'W',\n   'E'],\n  ['E',\n   'W',\n   'W',\n   'E',\n   'W',\n   'S',\n   'N',\n   'E',\n   'W',\n   'S',\n   'E',\n   'E',\n   'E',\n   'S',\n   'W',\n   'N',\n   'S',\n   'W',\n   'S',\n   'N',\n   'N',\n   'N',\n   'W',\n   'N',\n   'E',\n   'S',\n   'N',\n   'N',\n   'W',\n   'S',\n   'S',\n   'S',\n   'W',\n   'N',\n   'N',\n   'S',\n   'S',\n   'S',\n   'E',\n   'N',\n   'N',\n   'E',\n   'N',\n   'S',\n   'W',\n   'E',\n   'N',\n   'S'],\n  ['W',\n   'N',\n   'W',\n   'N',\n   'N',\n   'S',\n   'S',\n   'E',\n   'E',\n   'E',\n   'N',\n   'W',\n   'N',\n   'W',\n   'S',\n   'N',\n   'E',\n   'E',\n   'N',\n   'N',\n   'W',\n   'E',\n   'S',\n   'W',\n   'W',\n   'E',\n   'W',\n   'W',\n   'W',\n   'S',\n   'N',\n   'W',\n   'E',\n   'S',\n   'W',\n   'E',\n   'S',\n   'S',\n   'E',\n   'W',\n   'E',\n   'E',\n   'S',\n   'W',\n   'E',\n   'N',\n   'S',\n   'E'],\n  ['N',\n   'N',\n   'S',\n   'N',\n   'S',\n   'N',\n   'E',\n   'N',\n   'S',\n   'E',\n   'S',\n   'W',\n   'N',\n   'W',\n   'E',\n   'N',\n   'N',\n   'S',\n   'W',\n   'N',\n   'S',\n   'W',\n   'N',\n   'N',\n   'N',\n   'W',\n   'S',\n   'W',\n   'S',\n   'S',\n   'E',\n   'E',\n   'W',\n   'E',\n   'S',\n   'E',\n   'S',\n   'W',\n   'N',\n   'W',\n   'E',\n   'W',\n   'W',\n   'S',\n   'E',\n   'S',\n   'E',\n   'E'],\n  ['W',\n   'N',\n   'W',\n   'W',\n   'S',\n   'E',\n   'E',\n   'S',\n   'S',\n   'W',\n   'E',\n   'W',\n   'E',\n   'N',\n   'E',\n   'S',\n   'N',\n   'S',\n   'E',\n   'E',\n   'N',\n   'N',\n   'N',\n   'N',\n   'S',\n   'S',\n   'E',\n   'W',\n   'S',\n   'W',\n   'E',\n   'N',\n   'E',\n   'W',\n   'W',\n   'N',\n   'E',\n   'N',\n   'W',\n   'S',\n   'S',\n   'W',\n   'N',\n   'W',\n   'S',\n   'E',\n   'W',\n   'E'],\n  ['E',\n   'S',\n   'E',\n   'E',\n   'W',\n   'W',\n   'W',\n   'E',\n   'W',\n   'E',\n   'E',\n   'S',\n   'E',\n   'S',\n   'E',\n   'W',\n   'W',\n   'N',\n   'N',\n   'S',\n   'N',\n   'E',\n   'W',\n   'N',\n   'N',\n   'E',\n   'W',\n   'E',\n   'N',\n   'S',\n   'W',\n   'N',\n   'S',\n   'E',\n   'W',\n   'W',\n   'N',\n   'N',\n   'S',\n   'S',\n   'S',\n   'N',\n   'W',\n   'E',\n   'E',\n   'W',\n   'W',\n   'S']]}"
     },
     "execution_count": 47,
     "metadata": {},
     "output_type": "execute_result"
    }
   ],
   "source": [
    "top_10_roundtrips"
   ],
   "metadata": {
    "collapsed": false,
    "pycharm": {
     "name": "#%%\n"
    }
   }
  },
  {
   "cell_type": "markdown",
   "metadata": {
    "pycharm": {
     "name": "#%% md\n"
    }
   },
   "source": [
    "## 03\n",
    "What is the average and median1 distance for walks of maximum lengths 5, 10, 15, 20, 25?\n",
    "\n",
    "Define a function which outputs average and median of a list of walks with their distance.\n",
    "The functions puts all distances for each walk into a list and sorts that list.\n",
    "Then using the statistics package the median and average are calculated.\n",
    "This is done for walks of max length 5, 10, 15, 20, 25"
   ]
  },
  {
   "cell_type": "code",
   "execution_count": 48,
   "metadata": {
    "pycharm": {
     "name": "#%%\n"
    }
   },
   "outputs": [
    {
     "name": "stdout",
     "output_type": "stream",
     "text": [
      "Walks of 5\n",
      "Average:  2.455\n",
      "Median1 3.0\n",
      "\n",
      "Walks of 10\n",
      "Average:  3.5178\n",
      "Median1 4.0\n",
      "\n",
      "Walks of 15\n",
      "Average:  4.3202\n",
      "Median1 5.0\n",
      "\n",
      "Walks of 20\n",
      "Average:  5.014\n",
      "Median1 4.0\n",
      "\n",
      "Walks of 25\n",
      "Average:  5.5866\n",
      "Median1 5.0\n"
     ]
    }
   ],
   "source": [
    "import statistics\n",
    "\n",
    "def average_median(w: list[tuple[list[str], int]]) -> None:\n",
    "    distances = sorted([dist for walk, dist in w])\n",
    "    print(\"Average: \", statistics.mean(distances))\n",
    "    print(\"Median1\", statistics.median(distances))\n",
    "\n",
    "\n",
    "print(\"Walks of 5\")\n",
    "walks5 = walks[5]\n",
    "average_median(walks5)\n",
    "print()\n",
    "\n",
    "print(\"Walks of 10\")\n",
    "walks10 = walks[10]\n",
    "average_median(walks10)\n",
    "print()\n",
    "\n",
    "print(\"Walks of 15\")\n",
    "walks15 = walks[15]\n",
    "average_median(walks15)\n",
    "print()\n",
    "\n",
    "print(\"Walks of 20\")\n",
    "walks20 = walks[20]\n",
    "average_median(walks20)\n",
    "print()\n",
    "\n",
    "print(\"Walks of 25\")\n",
    "walks25 = walks[25]\n",
    "average_median(walks25)"
   ]
  },
  {
   "cell_type": "markdown",
   "metadata": {},
   "source": [
    "## 04\n",
    "What is the percentage of walks that end at a position with a maximum possible\n",
    "distance from the starting distance per maximum walk length?\n",
    "\n",
    "First flatten the walks dictionary, so all walk lists are in the resulting list and the calculate the length, so we have the total number of walks.\n",
    "This can also be done by multiplying 50 * 10.000, but this way we can be sure."
   ]
  },
  {
   "cell_type": "code",
   "execution_count": 49,
   "metadata": {
    "pycharm": {
     "name": "#%%\n"
    }
   },
   "outputs": [],
   "source": [
    "total_number_of_walks = len([walk for key in walks for walk, dist in walks[key]])"
   ]
  },
  {
   "cell_type": "markdown",
   "source": [
    "Then find all walks, which have reached the max distance,\n",
    "this is done by iterating over the walks dictionary\n",
    "and checking if the distance of each walk is the same as the key of the dictionary."
   ],
   "metadata": {
    "collapsed": false,
    "pycharm": {
     "name": "#%% md\n"
    }
   }
  },
  {
   "cell_type": "code",
   "execution_count": 50,
   "outputs": [],
   "source": [
    "walks_with_max_dist = [walk for key in walks for walk, dist in walks[key] if dist == key]"
   ],
   "metadata": {
    "collapsed": false,
    "pycharm": {
     "name": "#%%\n"
    }
   }
  },
  {
   "cell_type": "markdown",
   "source": [
    "Percentage of max walks"
   ],
   "metadata": {
    "collapsed": false,
    "pycharm": {
     "name": "#%% md\n"
    }
   }
  },
  {
   "cell_type": "code",
   "execution_count": 51,
   "outputs": [
    {
     "data": {
      "text/plain": "'5.44%'"
     },
     "execution_count": 51,
     "metadata": {},
     "output_type": "execute_result"
    }
   ],
   "source": [
    "f\"{round((len(walks_with_max_dist) / total_number_of_walks) * 100, 2)}%\""
   ],
   "metadata": {
    "collapsed": false,
    "pycharm": {
     "name": "#%%\n"
    }
   }
  },
  {
   "cell_type": "markdown",
   "metadata": {
    "pycharm": {
     "name": "#%% md\n"
    }
   },
   "source": [
    "## 05\n",
    "Which distinct straight walks have been generated; walks that continue in the\n",
    "same direction? Therefore, you have to implement a predicate function\n",
    "`def checkEqual(iterator)` that checks whether an iterator consists only of\n",
    "one  different  element.  Try  to  avoid  additional  memory  allocation  within  the\n",
    "checkEqual function.\n",
    "\n",
    "First implement the `check_equal` function, it checks if each element is qualto the first in an iterator.\n",
    "Then iterate over each walk and use the `check_equal` function to check if they are straight walks.\n",
    "To check if the walks are distinct use the same algorithm as in task 02.\n",
    "Convert each walk into a tuple, put them into a set\n",
    " and then convert each tuple back into a list and put the resulting lists into another list."
   ]
  },
  {
   "cell_type": "code",
   "execution_count": 54,
   "metadata": {
    "pycharm": {
     "name": "#%%\n"
    }
   },
   "outputs": [
    {
     "data": {
      "text/plain": "[['E'],\n ['E', 'E'],\n ['E', 'E', 'E'],\n ['E', 'E', 'E', 'E'],\n ['E', 'E', 'E', 'E', 'E'],\n ['E', 'E', 'E', 'E', 'E', 'E'],\n ['N'],\n ['N', 'N'],\n ['N', 'N', 'N'],\n ['N', 'N', 'N', 'N'],\n ['N', 'N', 'N', 'N', 'N'],\n ['N', 'N', 'N', 'N', 'N', 'N'],\n ['S'],\n ['S', 'S'],\n ['S', 'S', 'S'],\n ['S', 'S', 'S', 'S'],\n ['S', 'S', 'S', 'S', 'S'],\n ['S', 'S', 'S', 'S', 'S', 'S'],\n ['W'],\n ['W', 'W'],\n ['W', 'W', 'W'],\n ['W', 'W', 'W', 'W'],\n ['W', 'W', 'W', 'W', 'W'],\n ['W', 'W', 'W', 'W', 'W', 'W'],\n ['W', 'W', 'W', 'W', 'W', 'W', 'W'],\n ['W', 'W', 'W', 'W', 'W', 'W', 'W', 'W']]"
     },
     "execution_count": 54,
     "metadata": {},
     "output_type": "execute_result"
    }
   ],
   "source": [
    "def check_equal(iterator) -> bool:\n",
    "    if len(iterator) == 0:\n",
    "        return True\n",
    "    for d in iterator:\n",
    "        if d != iterator[0]:\n",
    "            return False\n",
    "    return True\n",
    "\n",
    "\n",
    "straight_walks = [list(x) for x in set(tuple(walk) for key in walks for walk, dist in walks[key] if check_equal(walk))]\n",
    "sorted(straight_walks)\n"
   ]
  }
 ],
 "metadata": {
  "kernelspec": {
   "display_name": "Python 3 (ipykernel)",
   "language": "python",
   "name": "python3"
  },
  "language_info": {
   "codemirror_mode": {
    "name": "ipython",
    "version": 3
   },
   "file_extension": ".py",
   "mimetype": "text/x-python",
   "name": "python",
   "nbconvert_exporter": "python",
   "pygments_lexer": "ipython3",
   "version": "3.9.5"
  }
 },
 "nbformat": 4,
 "nbformat_minor": 1
}