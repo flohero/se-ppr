{
 "cells": [
  {
   "cell_type": "markdown",
   "metadata": {},
   "source": [
    "## Exercise 2: Pickle\n",
    "This exercise should help you to understand, how Pickle works, what serialization and deserialization is and how you can store and load data using Pickle"
   ]
  },
  {
   "cell_type": "code",
   "execution_count": 1,
   "metadata": {},
   "outputs": [],
   "source": [
    "# import neccessary packages here\n",
    "import os\n",
    "import pickle\n",
    "\n",
    "import pandas as pd"
   ]
  },
  {
   "cell_type": "markdown",
   "metadata": {},
   "source": [
    "### a) Download file and load it into Python\n",
    "Download the file https://www.kaggle.com/jiashenliu/515k-hotel-reviews-data-in-europe?select=Hotel_Reviews.csv and load it into a Pandas DataFrame. User the code \"import pandas; df = pandas.read_csv(file)\""
   ]
  },
  {
   "cell_type": "code",
   "execution_count": 2,
   "metadata": {},
   "outputs": [],
   "source": [
    "csv = \"Hotel_Reviews.csv\"\n",
    "df = pd.read_csv(csv)"
   ]
  },
  {
   "cell_type": "markdown",
   "metadata": {},
   "source": [
    "### b) Serializing\n",
    "Serialize the object with pickle and store it to the file system. Compare the size of the original and the serialized data."
   ]
  },
  {
   "cell_type": "code",
   "execution_count": 3,
   "metadata": {},
   "outputs": [],
   "source": [
    "pickle_file = \"hotel_reviews.pickle\"\n",
    "with open(pickle_file, \"wb\") as hotel_reviews:\n",
    "    pickle.dump(df, hotel_reviews)"
   ]
  },
  {
   "cell_type": "markdown",
   "metadata": {},
   "source": [
    "### c) Deserializing\n",
    "Load the serialized object into Python and show the first few rows using \"df.head()\""
   ]
  },
  {
   "cell_type": "code",
   "execution_count": 4,
   "metadata": {},
   "outputs": [
    {
     "data": {
      "text/plain": "                                       Hotel_Address  \\\n0   s Gravesandestraat 55 Oost 1092 AA Amsterdam ...   \n1   s Gravesandestraat 55 Oost 1092 AA Amsterdam ...   \n2   s Gravesandestraat 55 Oost 1092 AA Amsterdam ...   \n3   s Gravesandestraat 55 Oost 1092 AA Amsterdam ...   \n4   s Gravesandestraat 55 Oost 1092 AA Amsterdam ...   \n\n   Additional_Number_of_Scoring Review_Date  Average_Score   Hotel_Name  \\\n0                           194    8/3/2017            7.7  Hotel Arena   \n1                           194    8/3/2017            7.7  Hotel Arena   \n2                           194   7/31/2017            7.7  Hotel Arena   \n3                           194   7/31/2017            7.7  Hotel Arena   \n4                           194   7/24/2017            7.7  Hotel Arena   \n\n  Reviewer_Nationality                                    Negative_Review  \\\n0              Russia    I am so angry that i made this post available...   \n1             Ireland                                         No Negative   \n2           Australia    Rooms are nice but for elderly a bit difficul...   \n3      United Kingdom    My room was dirty and I was afraid to walk ba...   \n4         New Zealand    You When I booked with your company on line y...   \n\n   Review_Total_Negative_Word_Counts  Total_Number_of_Reviews  \\\n0                                397                     1403   \n1                                  0                     1403   \n2                                 42                     1403   \n3                                210                     1403   \n4                                140                     1403   \n\n                                     Positive_Review  \\\n0   Only the park outside of the hotel was beauti...   \n1   No real complaints the hotel was great great ...   \n2   Location was good and staff were ok It is cut...   \n3   Great location in nice surroundings the bar a...   \n4    Amazing location and building Romantic setting    \n\n   Review_Total_Positive_Word_Counts  \\\n0                                 11   \n1                                105   \n2                                 21   \n3                                 26   \n4                                  8   \n\n   Total_Number_of_Reviews_Reviewer_Has_Given  Reviewer_Score  \\\n0                                           7             2.9   \n1                                           7             7.5   \n2                                           9             7.1   \n3                                           1             3.8   \n4                                           3             6.7   \n\n                                                Tags days_since_review  \\\n0  [' Leisure trip ', ' Couple ', ' Duplex Double...            0 days   \n1  [' Leisure trip ', ' Couple ', ' Duplex Double...            0 days   \n2  [' Leisure trip ', ' Family with young childre...            3 days   \n3  [' Leisure trip ', ' Solo traveler ', ' Duplex...            3 days   \n4  [' Leisure trip ', ' Couple ', ' Suite ', ' St...           10 days   \n\n         lat       lng  \n0  52.360576  4.915968  \n1  52.360576  4.915968  \n2  52.360576  4.915968  \n3  52.360576  4.915968  \n4  52.360576  4.915968  ",
      "text/html": "<div>\n<style scoped>\n    .dataframe tbody tr th:only-of-type {\n        vertical-align: middle;\n    }\n\n    .dataframe tbody tr th {\n        vertical-align: top;\n    }\n\n    .dataframe thead th {\n        text-align: right;\n    }\n</style>\n<table border=\"1\" class=\"dataframe\">\n  <thead>\n    <tr style=\"text-align: right;\">\n      <th></th>\n      <th>Hotel_Address</th>\n      <th>Additional_Number_of_Scoring</th>\n      <th>Review_Date</th>\n      <th>Average_Score</th>\n      <th>Hotel_Name</th>\n      <th>Reviewer_Nationality</th>\n      <th>Negative_Review</th>\n      <th>Review_Total_Negative_Word_Counts</th>\n      <th>Total_Number_of_Reviews</th>\n      <th>Positive_Review</th>\n      <th>Review_Total_Positive_Word_Counts</th>\n      <th>Total_Number_of_Reviews_Reviewer_Has_Given</th>\n      <th>Reviewer_Score</th>\n      <th>Tags</th>\n      <th>days_since_review</th>\n      <th>lat</th>\n      <th>lng</th>\n    </tr>\n  </thead>\n  <tbody>\n    <tr>\n      <th>0</th>\n      <td>s Gravesandestraat 55 Oost 1092 AA Amsterdam ...</td>\n      <td>194</td>\n      <td>8/3/2017</td>\n      <td>7.7</td>\n      <td>Hotel Arena</td>\n      <td>Russia</td>\n      <td>I am so angry that i made this post available...</td>\n      <td>397</td>\n      <td>1403</td>\n      <td>Only the park outside of the hotel was beauti...</td>\n      <td>11</td>\n      <td>7</td>\n      <td>2.9</td>\n      <td>[' Leisure trip ', ' Couple ', ' Duplex Double...</td>\n      <td>0 days</td>\n      <td>52.360576</td>\n      <td>4.915968</td>\n    </tr>\n    <tr>\n      <th>1</th>\n      <td>s Gravesandestraat 55 Oost 1092 AA Amsterdam ...</td>\n      <td>194</td>\n      <td>8/3/2017</td>\n      <td>7.7</td>\n      <td>Hotel Arena</td>\n      <td>Ireland</td>\n      <td>No Negative</td>\n      <td>0</td>\n      <td>1403</td>\n      <td>No real complaints the hotel was great great ...</td>\n      <td>105</td>\n      <td>7</td>\n      <td>7.5</td>\n      <td>[' Leisure trip ', ' Couple ', ' Duplex Double...</td>\n      <td>0 days</td>\n      <td>52.360576</td>\n      <td>4.915968</td>\n    </tr>\n    <tr>\n      <th>2</th>\n      <td>s Gravesandestraat 55 Oost 1092 AA Amsterdam ...</td>\n      <td>194</td>\n      <td>7/31/2017</td>\n      <td>7.7</td>\n      <td>Hotel Arena</td>\n      <td>Australia</td>\n      <td>Rooms are nice but for elderly a bit difficul...</td>\n      <td>42</td>\n      <td>1403</td>\n      <td>Location was good and staff were ok It is cut...</td>\n      <td>21</td>\n      <td>9</td>\n      <td>7.1</td>\n      <td>[' Leisure trip ', ' Family with young childre...</td>\n      <td>3 days</td>\n      <td>52.360576</td>\n      <td>4.915968</td>\n    </tr>\n    <tr>\n      <th>3</th>\n      <td>s Gravesandestraat 55 Oost 1092 AA Amsterdam ...</td>\n      <td>194</td>\n      <td>7/31/2017</td>\n      <td>7.7</td>\n      <td>Hotel Arena</td>\n      <td>United Kingdom</td>\n      <td>My room was dirty and I was afraid to walk ba...</td>\n      <td>210</td>\n      <td>1403</td>\n      <td>Great location in nice surroundings the bar a...</td>\n      <td>26</td>\n      <td>1</td>\n      <td>3.8</td>\n      <td>[' Leisure trip ', ' Solo traveler ', ' Duplex...</td>\n      <td>3 days</td>\n      <td>52.360576</td>\n      <td>4.915968</td>\n    </tr>\n    <tr>\n      <th>4</th>\n      <td>s Gravesandestraat 55 Oost 1092 AA Amsterdam ...</td>\n      <td>194</td>\n      <td>7/24/2017</td>\n      <td>7.7</td>\n      <td>Hotel Arena</td>\n      <td>New Zealand</td>\n      <td>You When I booked with your company on line y...</td>\n      <td>140</td>\n      <td>1403</td>\n      <td>Amazing location and building Romantic setting</td>\n      <td>8</td>\n      <td>3</td>\n      <td>6.7</td>\n      <td>[' Leisure trip ', ' Couple ', ' Suite ', ' St...</td>\n      <td>10 days</td>\n      <td>52.360576</td>\n      <td>4.915968</td>\n    </tr>\n  </tbody>\n</table>\n</div>"
     },
     "execution_count": 4,
     "metadata": {},
     "output_type": "execute_result"
    }
   ],
   "source": [
    "with open(pickle_file, \"rb\") as hotel_reviews:\n",
    "    df_loaded = pickle.load(hotel_reviews)\n",
    "\n",
    "df_loaded.head()"
   ]
  },
  {
   "cell_type": "markdown",
   "metadata": {},
   "source": [
    "### d) Deserializing multiple objects\n",
    "Download objects.zip from elearning and unpack it. There are multiple serialized objects in the folder. Load them to Python, get the type of the object and print its value or analyze its function."
   ]
  },
  {
   "cell_type": "code",
   "execution_count": 9,
   "metadata": {},
   "outputs": [
    {
     "data": {
      "text/plain": "\"<class 'bool'> with value True\""
     },
     "metadata": {},
     "output_type": "display_data"
    },
    {
     "data": {
      "text/plain": "\"<class 'tuple'> with value (3, 4, 6)\""
     },
     "metadata": {},
     "output_type": "display_data"
    },
    {
     "data": {
      "text/plain": "\"<class 'type'> with value <class 'pandas.core.frame.DataFrame'>\""
     },
     "metadata": {},
     "output_type": "display_data"
    },
    {
     "data": {
      "text/plain": "\"<class 'int'> with value 1\""
     },
     "metadata": {},
     "output_type": "display_data"
    },
    {
     "data": {
      "text/plain": "\"<class 'dict'> with value {'a': 1, 'b': True, 'c': 'hello'}\""
     },
     "metadata": {},
     "output_type": "display_data"
    },
    {
     "data": {
      "text/plain": "\"<class 'type'> with value <class '__main__.MyClass'>\""
     },
     "metadata": {},
     "output_type": "display_data"
    },
    {
     "data": {
      "text/plain": "\"<class 'NoneType'> with value None\""
     },
     "metadata": {},
     "output_type": "display_data"
    },
    {
     "data": {
      "text/plain": "\"<class 'list'> with value [1, 3, 5]\""
     },
     "metadata": {},
     "output_type": "display_data"
    },
    {
     "data": {
      "text/plain": "\"<class 'numpy.ndarray'> with value [1 3 5]\""
     },
     "metadata": {},
     "output_type": "display_data"
    }
   ],
   "source": [
    "from IPython.core.display import display\n",
    "\n",
    "f = None\n",
    "class MyClass:\n",
    "    pass\n",
    "\n",
    "for filename in os.listdir(\"objects/\"):\n",
    "    with open(\"objects/%s\" % filename, \"rb\") as pickled_files:\n",
    "        obj = pickle.load(pickled_files)\n",
    "        display(f\"{type(obj)} with value {obj}\")"
   ]
  },
  {
   "cell_type": "code",
   "execution_count": null,
   "outputs": [],
   "source": [],
   "metadata": {
    "collapsed": false,
    "pycharm": {
     "name": "#%%\n"
    }
   }
  }
 ],
 "metadata": {
  "kernelspec": {
   "display_name": "Python 3",
   "language": "python",
   "name": "python3"
  },
  "language_info": {
   "codemirror_mode": {
    "name": "ipython",
    "version": 3
   },
   "file_extension": ".py",
   "mimetype": "text/x-python",
   "name": "python",
   "nbconvert_exporter": "python",
   "pygments_lexer": "ipython3",
   "version": "3.7.9"
  }
 },
 "nbformat": 4,
 "nbformat_minor": 4
}