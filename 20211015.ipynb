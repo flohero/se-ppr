{
 "cells": [
  {
   "cell_type": "code",
   "execution_count": 1,
   "metadata": {
    "collapsed": true
   },
   "outputs": [
    {
     "name": "stdout",
     "output_type": "stream",
     "text": [
      "Door 1 open\n",
      "Door 4 open\n",
      "Door 9 open\n",
      "Door 16 open\n",
      "Door 25 open\n",
      "Door 36 open\n",
      "Door 49 open\n",
      "Door 64 open\n",
      "Door 81 open\n",
      "Door 100 open\n"
     ]
    }
   ],
   "source": [
    "doors = [False] * 100\n",
    "for i in range(1, 11):\n",
    "    doors[(i * i) - 1] = True\n",
    "\n",
    "\n",
    "doors2 = [(i ** 0.5) % 1 == 0 for i in range(1, 101)]\n",
    "\n",
    "for i in range(100):\n",
    "    if doors2[i]:\n",
    "        print(f\"Door {i + 1} open\")\n"
   ]
  }
 ],
 "metadata": {
  "kernelspec": {
   "display_name": "Python 3",
   "language": "python",
   "name": "python3"
  },
  "language_info": {
   "codemirror_mode": {
    "name": "ipython",
    "version": 2
   },
   "file_extension": ".py",
   "mimetype": "text/x-python",
   "name": "python",
   "nbconvert_exporter": "python",
   "pygments_lexer": "ipython2",
   "version": "2.7.6"
  },
  "pycharm": {
   "stem_cell": {
    "cell_type": "raw",
    "source": [
     "Doors"
    ],
    "metadata": {
     "collapsed": false
    }
   }
  }
 },
 "nbformat": 4,
 "nbformat_minor": 0
}