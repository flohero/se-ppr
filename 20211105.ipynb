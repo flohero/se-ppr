{
 "cells": [
  {
   "cell_type": "code",
   "execution_count": null,
   "outputs": [],
   "source": [
    "# 20211105"
   ],
   "metadata": {
    "collapsed": false,
    "pycharm": {
     "name": "#%%md\n"
    }
   }
  },
  {
   "cell_type": "code",
   "execution_count": 15,
   "metadata": {
    "collapsed": true
   },
   "outputs": [
    {
     "name": "stdout",
     "output_type": "stream",
     "text": [
      "Help on function square in module __main__:\n",
      "\n",
      "square(x)\n",
      "    Square returns the square of parameter x\n",
      "    :param x: value to be squared\n",
      "    :return: squared value\n",
      "\n",
      "<function square at 0x7fa69452c040>\n"
     ]
    }
   ],
   "source": [
    "from functools import wraps\n",
    "\n",
    "\n",
    "def my_dec(func):\n",
    "    @wraps(func)\n",
    "    def my_dec_wrapper(x):\n",
    "        print(\"before execution\")\n",
    "        res = func(x)\n",
    "        print(res)\n",
    "        print(\"after execution\")\n",
    "        return res\n",
    "\n",
    "    return my_dec_wrapper\n",
    "\n",
    "\n",
    "@my_dec\n",
    "def square(x):\n",
    "    \"\"\"\n",
    "    Square returns the square of parameter x\n",
    "    :param x: value to be squared\n",
    "    :return: squared value\n",
    "    \"\"\"\n",
    "    return x ** 2\n",
    "\n",
    "\n",
    "help(square)\n",
    "square = my_dec(square)\n",
    "print(square)"
   ]
  },
  {
   "cell_type": "markdown",
   "source": [
    "## Update Wrapper"
   ],
   "metadata": {
    "collapsed": false,
    "pycharm": {
     "name": "#%% md\n"
    }
   }
  },
  {
   "cell_type": "code",
   "execution_count": 16,
   "outputs": [
    {
     "name": "stdout",
     "output_type": "stream",
     "text": [
      "square\n",
      "Help on function square in module __main__:\n",
      "\n",
      "square(x)\n",
      "    Square returns the square of parameter x\n",
      "    :param x: value to be squared\n",
      "    :return: squared value\n",
      "\n"
     ]
    }
   ],
   "source": [
    "from functools import update_wrapper\n",
    "\n",
    "\n",
    "def square(x):\n",
    "    \"\"\"\n",
    "    Square returns the square of parameter x\n",
    "    :param x: value to be squared\n",
    "    :return: squared value\n",
    "    \"\"\"\n",
    "    return x ** 2\n",
    "\n",
    "\n",
    "print(square.__name__)\n",
    "help(square)\n"
   ],
   "metadata": {
    "collapsed": false,
    "pycharm": {
     "name": "#%%\n"
    }
   }
  },
  {
   "cell_type": "markdown",
   "source": [
    "## Scopes"
   ],
   "metadata": {
    "collapsed": false,
    "pycharm": {
     "name": "#%% md\n"
    }
   }
  },
  {
   "cell_type": "code",
   "execution_count": 18,
   "outputs": [
    {
     "name": "stdout",
     "output_type": "stream",
     "text": [
      "x:  global\n",
      "x:  global\n",
      "x:  f\n",
      "x:  global\n"
     ]
    }
   ],
   "source": [
    "def f1():\n",
    "    print(\"x: \", x)\n",
    "\n",
    "\n",
    "x = \"global\"\n",
    "f1()\n",
    "print(\"x: \", x)"
   ],
   "metadata": {
    "collapsed": false,
    "pycharm": {
     "name": "#%%\n"
    }
   }
  },
  {
   "cell_type": "code",
   "execution_count": 22,
   "outputs": [
    {
     "name": "stdout",
     "output_type": "stream",
     "text": [
      "x:  f\n",
      "x:  global\n"
     ]
    }
   ],
   "source": [
    "def f2():\n",
    "    x = \"f\"\n",
    "    print(\"x: \",x)\n",
    "x = \"global\"\n",
    "f2()\n",
    "print(\"x: \",x)"
   ],
   "metadata": {
    "collapsed": false,
    "pycharm": {
     "name": "#%%\n"
    }
   }
  },
  {
   "cell_type": "code",
   "execution_count": 26,
   "outputs": [
    {
     "name": "stdout",
     "output_type": "stream",
     "text": [
      "x:  global\n",
      "x:  f\n"
     ]
    }
   ],
   "source": [
    "def f3():\n",
    "    print(\"x: \",x)\n",
    "    x = \"f\"\n",
    "\n",
    "x = \"global\"\n",
    "f3()\n",
    "print(\"x: \",x)"
   ],
   "metadata": {
    "collapsed": false,
    "pycharm": {
     "name": "#%%\n"
    }
   }
  }
 ],
 "metadata": {
  "kernelspec": {
   "display_name": "Python 3",
   "language": "python",
   "name": "python3"
  },
  "language_info": {
   "codemirror_mode": {
    "name": "ipython",
    "version": 2
   },
   "file_extension": ".py",
   "mimetype": "text/x-python",
   "name": "python",
   "nbconvert_exporter": "python",
   "pygments_lexer": "ipython2",
   "version": "2.7.6"
  }
 },
 "nbformat": 4,
 "nbformat_minor": 0
}