{
 "cells": [
  {
   "cell_type": "markdown",
   "metadata": {},
   "source": [
    "## Exercises NumPy"
   ]
  },
  {
   "cell_type": "markdown",
   "metadata": {},
   "source": [
    "### NumPy"
   ]
  },
  {
   "cell_type": "markdown",
   "metadata": {},
   "source": [
    "Please solve the following exercises. If necessary provide test cases:\\\n",
    "a) Create a NumPy Array \"a\" of size 50 with random numbers between 0 and 100.\\\n",
    "b) Create a NumPy Array \"b\" of size 10*10 with random numbers less than 0.\\\n",
    "c) Calculate the sum and average of each column and each row of \"b\".\\\n",
    "d) Print all values of \"a\" that are greater than 1 but smaller than 6. How many percent of the numbers are in that range?\\\n",
    "e) Create a NumPy Array \"c\" of size 30 with the repeating sequence \"1, 2, 3, 4\".\\\n",
    "f) Create a 3×3 NumPy Array \"d\" of all True’s\\\n",
    "g) Extract all odd numbers from \"a\".\\\n",
    "h) Write a NumPy program to get the powers of an array values element-wise. (First element to the power of the second element, second element to the power of the third element, ...).\\\n",
    "i) Write a NumPy program to multiply a 5x3 matrix by a 3x2 matrix and create a real matrix product.\\\n",
    "j) Write a NumPy program to convert angles from degrees to radians for all elements in a given array.\\\n",
    "k) Find all the peaks in \"a\". Peaks are points surrounded by smaller values on both sides.\\\n",
    "l) Given an array of a non-continuous sequence of dates. Make it a continuous sequence of dates, by filling in the missing dates.\\\n",
    "m) Create a rank array of the same shape as \"b\".\\\n",
    "n) Write a function that has a 2D array as input parameter. If this matrix is squared and its shape is a square number return sliced arrays (horizontal and vertical) with size of the square root of the dimenstions. If this matrix is not squared return an information why the operation could not be performed.\\\n",
    "o) Provide an overview of the frequency of each number of \"b\".\\\n",
    "p) Solve the system of equations:\\\n",
    "$$4x + 3y + 2z = 25$$\n",
    "$$-2x + 2y + 3z = -10$$\n",
    "$$3x -5y + 2z = -4$$"
   ]
  },
  {
   "cell_type": "markdown",
   "metadata": {},
   "source": [
    "Data for exercise l)"
   ]
  },
  {
   "cell_type": "code",
   "execution_count": 1,
   "metadata": {},
   "outputs": [
    {
     "data": {
      "text/plain": "array(['2020-04-01', '2020-04-03', '2020-04-05', '2020-04-07',\n       '2020-04-09', '2020-04-11', '2020-04-13', '2020-04-15',\n       '2020-04-17', '2020-04-19', '2020-04-21', '2020-04-23',\n       '2020-04-25', '2020-04-27', '2020-04-29'], dtype='datetime64[D]')"
     },
     "execution_count": 1,
     "metadata": {},
     "output_type": "execute_result"
    }
   ],
   "source": [
    "import numpy as np\n",
    "dates = np.arange(np.datetime64('2020-04-01'), np.datetime64('2020-04-30'), 2)\n",
    "dates"
   ]
  },
  {
   "cell_type": "markdown",
   "metadata": {},
   "source": [
    "a) *Your code...*"
   ]
  },
  {
   "cell_type": "code",
   "source": [
    "a = np.random.randint(0, 101, size=50)\n",
    "a"
   ],
   "metadata": {
    "collapsed": false,
    "pycharm": {
     "name": "#%%\n"
    }
   },
   "execution_count": 5,
   "outputs": [
    {
     "data": {
      "text/plain": "array([60, 54,  9, 94, 27, 55, 34, 32, 44, 40, 75, 59, 89, 95, 78, 57, 30,\n       98, 96, 27, 22, 93, 40, 94,  5, 41, 30,  2, 33, 96, 23, 76, 80, 77,\n       33, 89,  5, 68, 21, 59, 45, 22, 60, 11,  6, 75, 60,  1, 64, 15])"
     },
     "execution_count": 5,
     "metadata": {},
     "output_type": "execute_result"
    }
   ]
  },
  {
   "cell_type": "markdown",
   "metadata": {
    "pycharm": {
     "name": "#%% md\n"
    }
   },
   "source": [
    "b) *Your code...*"
   ]
  },
  {
   "cell_type": "code",
   "source": [
    "b = np.random.randint(-100, 0, size=(10, 10))\n",
    "b"
   ],
   "metadata": {
    "collapsed": false,
    "pycharm": {
     "name": "#%%\n"
    }
   },
   "execution_count": 8,
   "outputs": [
    {
     "data": {
      "text/plain": "array([[ -83,   -6,  -81,  -97,  -67,  -32,  -31,  -64,  -29,   -4],\n       [ -64,  -67,  -45,  -32,   -9,  -33,  -81, -100,  -65,  -20],\n       [ -42,  -36,  -11,  -29,  -56,  -90,  -78,  -23,   -7,  -62],\n       [ -69,  -81,  -14,  -77,  -44,  -97,  -93,  -10,  -51,  -60],\n       [ -27,  -21,  -53,  -47,  -59,  -66,  -15,  -27,  -68,  -20],\n       [ -79,  -63,  -35,   -3,  -34,  -50,  -92,  -47,  -15,  -66],\n       [ -95,  -11,  -20,  -55,  -87,  -97,  -63,  -35,  -66,  -50],\n       [ -24,  -66,  -71,  -80,  -10,   -6,  -78,  -76,  -78,  -59],\n       [ -22,  -41,  -46,  -83,  -81,  -20,  -61,  -11,  -26,  -84],\n       [ -22,   -9,   -9,  -54,  -83,  -41,  -67,  -56,  -93,  -40]])"
     },
     "execution_count": 8,
     "metadata": {},
     "output_type": "execute_result"
    }
   ]
  },
  {
   "cell_type": "markdown",
   "metadata": {},
   "source": [
    "c) *Your code...*"
   ]
  },
  {
   "cell_type": "code",
   "source": [
    "display(np.sum(b))\n",
    "display(np.sum(b, axis=0))\n",
    "display(np.average(b))\n",
    "display(np.average(b, axis=0))"
   ],
   "metadata": {
    "collapsed": false,
    "pycharm": {
     "name": "#%%\n"
    }
   },
   "execution_count": 9,
   "outputs": [
    {
     "data": {
      "text/plain": "-5003"
     },
     "metadata": {},
     "output_type": "display_data"
    },
    {
     "data": {
      "text/plain": "array([-527, -401, -385, -557, -530, -532, -659, -449, -498, -465])"
     },
     "metadata": {},
     "output_type": "display_data"
    }
   ]
  },
  {
   "cell_type": "markdown",
   "metadata": {},
   "source": [
    "d) *Your code...*"
   ]
  },
  {
   "cell_type": "code",
   "source": [
    "res = a[(a > 1) & ( a < 6)]\n",
    "print(f\"res: {res}, {len(res) / len(a)}\")"
   ],
   "metadata": {
    "collapsed": false,
    "pycharm": {
     "name": "#%%\n"
    }
   },
   "execution_count": 10,
   "outputs": [
    {
     "name": "stdout",
     "output_type": "stream",
     "text": [
      "res: [5 2 5], 0.06\n"
     ]
    }
   ]
  },
  {
   "cell_type": "markdown",
   "metadata": {},
   "source": [
    "e) *Your code...*"
   ]
  },
  {
   "cell_type": "code",
   "source": [
    "c = np.resize(np.arange(1,5), 30)\n",
    "c"
   ],
   "metadata": {
    "collapsed": false,
    "pycharm": {
     "name": "#%%\n"
    }
   },
   "execution_count": 11,
   "outputs": [
    {
     "data": {
      "text/plain": "array([1, 2, 3, 4, 1, 2, 3, 4, 1, 2, 3, 4, 1, 2, 3, 4, 1, 2, 3, 4, 1, 2,\n       3, 4, 1, 2, 3, 4, 1, 2])"
     },
     "execution_count": 11,
     "metadata": {},
     "output_type": "execute_result"
    }
   ]
  },
  {
   "cell_type": "markdown",
   "metadata": {},
   "source": [
    "f) *Your code...*"
   ]
  },
  {
   "cell_type": "code",
   "source": [
    "d = np.full((3,3), True)\n",
    "d"
   ],
   "metadata": {
    "collapsed": false,
    "pycharm": {
     "name": "#%%\n"
    }
   },
   "execution_count": 13,
   "outputs": [
    {
     "data": {
      "text/plain": "array([[ True,  True,  True],\n       [ True,  True,  True],\n       [ True,  True,  True]])"
     },
     "execution_count": 13,
     "metadata": {},
     "output_type": "execute_result"
    }
   ]
  },
  {
   "cell_type": "markdown",
   "metadata": {},
   "source": [
    "g)  Extract all odd numbers from “a”"
   ]
  },
  {
   "cell_type": "code",
   "source": [
    "a[a % 2 == 1]"
   ],
   "metadata": {
    "collapsed": false,
    "pycharm": {
     "name": "#%%\n"
    }
   },
   "execution_count": 14,
   "outputs": [
    {
     "data": {
      "text/plain": "array([ 9, 27, 55, 75, 59, 89, 95, 57, 27, 93,  5, 41, 33, 23, 77, 33, 89,\n        5, 21, 59, 45, 11, 75,  1, 15])"
     },
     "execution_count": 14,
     "metadata": {},
     "output_type": "execute_result"
    }
   ]
  },
  {
   "cell_type": "markdown",
   "metadata": {},
   "source": [
    "h) Write a NumPy program to get the powers of an array values element-wise. (First element to the power of the second element, second element to the power of the third element, ...)."
   ]
  },
  {
   "cell_type": "code",
   "source": [
    "elements = np.array([0, 1, 2, 3, 4, 5])\n",
    "np.power(elements, np.roll(elements, -1))\n",
    "#np.roll(elements, -1)"
   ],
   "metadata": {
    "collapsed": false,
    "pycharm": {
     "name": "#%%\n"
    }
   },
   "execution_count": 15,
   "outputs": [
    {
     "data": {
      "text/plain": "array([1, 2, 3, 4, 5, 0])"
     },
     "execution_count": 15,
     "metadata": {},
     "output_type": "execute_result"
    }
   ]
  },
  {
   "cell_type": "markdown",
   "metadata": {},
   "source": [
    "i) Write a NumPy program to multiply a 5x3 matrix by a 3x2 matrix and create a real matrix product."
   ]
  },
  {
   "cell_type": "code",
   "source": [
    "def matrix_mult(x1, x2):\n",
    "    return np.matmul(x1, x2)\n",
    "x1 = np.random.random((5, 3))\n",
    "x2 = np.random.random((3, 2))\n",
    "matrix_mult(x1, x2)"
   ],
   "metadata": {
    "collapsed": false,
    "pycharm": {
     "name": "#%%\n"
    }
   },
   "execution_count": 9,
   "outputs": [
    {
     "data": {
      "text/plain": "array([[0.67323434, 0.82069568],\n       [1.07368453, 1.21532487],\n       [0.83356427, 1.08735871],\n       [0.4069558 , 0.83931212],\n       [1.26525585, 1.31275029]])"
     },
     "execution_count": 9,
     "metadata": {},
     "output_type": "execute_result"
    }
   ]
  },
  {
   "cell_type": "markdown",
   "metadata": {},
   "source": [
    "j) Write a NumPy program to convert angles from degrees to radians for all elements in a given array."
   ]
  },
  {
   "cell_type": "code",
   "source": [
    "def deg2rad(degs):\n",
    "    return np.deg2rad(degs)\n",
    "\n",
    "deg2rad(np.array([90, 180, 360]))"
   ],
   "metadata": {
    "collapsed": false,
    "pycharm": {
     "name": "#%%\n"
    }
   },
   "execution_count": 16,
   "outputs": [
    {
     "data": {
      "text/plain": "array([1.57079633, 3.14159265, 6.28318531])"
     },
     "execution_count": 16,
     "metadata": {},
     "output_type": "execute_result"
    }
   ]
  },
  {
   "cell_type": "markdown",
   "metadata": {},
   "source": [
    "k) Find all the peaks in \"a\". Peaks are points surrounded by smaller values on both sides."
   ]
  },
  {
   "cell_type": "code",
   "source": [
    "for i in range(len(a)):\n",
    "    if a[i-1] < a[i] > a[(i + 1) % len(a)]:\n",
    "        print(f\"Peak: {a[i]} at {i}\")"
   ],
   "metadata": {
    "collapsed": false,
    "pycharm": {
     "name": "#%%\n"
    }
   },
   "execution_count": 18,
   "outputs": [
    {
     "name": "stdout",
     "output_type": "stream",
     "text": [
      "Peak: 60 at 0\n",
      "Peak: 94 at 3\n",
      "Peak: 55 at 5\n",
      "Peak: 44 at 8\n",
      "Peak: 75 at 10\n",
      "Peak: 95 at 13\n",
      "Peak: 98 at 17\n",
      "Peak: 93 at 21\n",
      "Peak: 94 at 23\n",
      "Peak: 41 at 25\n",
      "Peak: 96 at 29\n",
      "Peak: 80 at 32\n",
      "Peak: 89 at 35\n",
      "Peak: 68 at 37\n",
      "Peak: 59 at 39\n",
      "Peak: 60 at 42\n",
      "Peak: 75 at 45\n",
      "Peak: 64 at 48\n"
     ]
    }
   ]
  },
  {
   "cell_type": "markdown",
   "metadata": {},
   "source": [
    "l) Given an array of a non-continuous sequence of dates. Make it a continuous sequence of dates, by filling in the missing dates."
   ]
  },
  {
   "cell_type": "code",
   "source": [
    "l = np.arange(min(dates), max(dates), dtype=\"datetime64[D]\")\n",
    "l"
   ],
   "metadata": {
    "collapsed": false,
    "pycharm": {
     "name": "#%%\n"
    }
   },
   "execution_count": 20,
   "outputs": [
    {
     "data": {
      "text/plain": "array(['2020-04-01', '2020-04-02', '2020-04-03', '2020-04-04',\n       '2020-04-05', '2020-04-06', '2020-04-07', '2020-04-08',\n       '2020-04-09', '2020-04-10', '2020-04-11', '2020-04-12',\n       '2020-04-13', '2020-04-14', '2020-04-15', '2020-04-16',\n       '2020-04-17', '2020-04-18', '2020-04-19', '2020-04-20',\n       '2020-04-21', '2020-04-22', '2020-04-23', '2020-04-24',\n       '2020-04-25', '2020-04-26', '2020-04-27', '2020-04-28'],\n      dtype='datetime64[D]')"
     },
     "execution_count": 20,
     "metadata": {},
     "output_type": "execute_result"
    }
   ]
  },
  {
   "cell_type": "markdown",
   "metadata": {},
   "source": [
    "m) *Your code...*"
   ]
  },
  {
   "cell_type": "code",
   "source": [],
   "metadata": {
    "collapsed": false,
    "pycharm": {
     "name": "#%%\n"
    }
   },
   "execution_count": null,
   "outputs": []
  },
  {
   "cell_type": "markdown",
   "metadata": {},
   "source": [
    "n) Write a function that has a 2D array as input parameter. If this matrix is squared and its shape is a square number return sliced arrays (horizontal and vertical) with size of the square root of the dimensions. If this matrix is not squared return an information why the operation could not be performed."
   ]
  },
  {
   "cell_type": "code",
   "source": [
    "def sliced_square_array(matrix):\n",
    "    (x, y) = matrix.shape\n",
    "    if x != y:\n",
    "        return 'Not square'\n",
    "    is_square = x ** 0.5 % 1 == 0\n",
    "    if not is_square:\n",
    "        return 'Dimension not square'\n",
    "    return matrix[0:x ** 0.5, 0:x ** 0.5]\n",
    "sliced_square_array(np.random.random((9, 9)))"
   ],
   "metadata": {
    "collapsed": false,
    "pycharm": {
     "name": "#%%\n"
    }
   },
   "execution_count": 12,
   "outputs": [
    {
     "data": {
      "text/plain": "matrix([[3., 3.]])"
     },
     "execution_count": 12,
     "metadata": {},
     "output_type": "execute_result"
    }
   ]
  },
  {
   "cell_type": "markdown",
   "metadata": {},
   "source": [
    "o) *Your code...*"
   ]
  },
  {
   "cell_type": "code",
   "source": [
    "a, count = np.unique(b, return_counts=True)\n",
    "print(f\"{a}: {count}\")"
   ],
   "metadata": {
    "collapsed": false,
    "pycharm": {
     "name": "#%%\n"
    }
   },
   "execution_count": null,
   "outputs": []
  },
  {
   "cell_type": "markdown",
   "metadata": {
    "pycharm": {
     "name": "#%% md\n"
    }
   },
   "source": [
    "p) *Your code...*"
   ]
  },
  {
   "cell_type": "code",
   "source": [],
   "metadata": {
    "collapsed": false,
    "pycharm": {
     "name": "#%%\n"
    }
   },
   "execution_count": null,
   "outputs": []
  }
 ],
 "metadata": {
  "kernelspec": {
   "display_name": "Python 3",
   "language": "python",
   "name": "python3"
  },
  "language_info": {
   "codemirror_mode": {
    "name": "ipython",
    "version": 3
   },
   "file_extension": ".py",
   "mimetype": "text/x-python",
   "name": "python",
   "nbconvert_exporter": "python",
   "pygments_lexer": "ipython3",
   "version": "3.7.9"
  }
 },
 "nbformat": 4,
 "nbformat_minor": 4
}