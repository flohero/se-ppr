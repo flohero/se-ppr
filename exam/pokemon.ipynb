{
 "cells": [
  {
   "cell_type": "code",
   "execution_count": 2,
   "metadata": {
    "collapsed": true
   },
   "outputs": [],
   "source": [
    "import pandas as pd\n",
    "df = pd.read_csv(\"pokemon.csv\")\n"
   ]
  },
  {
   "cell_type": "code",
   "execution_count": 4,
   "outputs": [
    {
     "data": {
      "text/plain": "   #                       Name Type 1  Type 2  Total  HP  Attack  Defense  \\\n0  1                  Bulbasaur  Grass  Poison    318  45      49       49   \n1  2                    Ivysaur  Grass  Poison    405  60      62       63   \n2  3                   Venusaur  Grass  Poison    525  80      82       83   \n3  3      VenusaurMega Venusaur  Grass  Poison    625  80     100      123   \n4  4                 Charmander   Fire     NaN    309  39      52       43   \n5  5                 Charmeleon   Fire     NaN    405  58      64       58   \n6  6                  Charizard   Fire  Flying    534  78      84       78   \n7  6  CharizardMega Charizard X   Fire  Dragon    634  78     130      111   \n8  6  CharizardMega Charizard Y   Fire  Flying    634  78     104       78   \n9  7                   Squirtle  Water     NaN    314  44      48       65   \n\n   Sp. Atk  Sp. Def  Speed  Generation  Legendary  \n0       65       65     45           1      False  \n1       80       80     60           1      False  \n2      100      100     80           1      False  \n3      122      120     80           1      False  \n4       60       50     65           1      False  \n5       80       65     80           1      False  \n6      109       85    100           1      False  \n7      130       85    100           1      False  \n8      159      115    100           1      False  \n9       50       64     43           1      False  ",
      "text/html": "<div>\n<style scoped>\n    .dataframe tbody tr th:only-of-type {\n        vertical-align: middle;\n    }\n\n    .dataframe tbody tr th {\n        vertical-align: top;\n    }\n\n    .dataframe thead th {\n        text-align: right;\n    }\n</style>\n<table border=\"1\" class=\"dataframe\">\n  <thead>\n    <tr style=\"text-align: right;\">\n      <th></th>\n      <th>#</th>\n      <th>Name</th>\n      <th>Type 1</th>\n      <th>Type 2</th>\n      <th>Total</th>\n      <th>HP</th>\n      <th>Attack</th>\n      <th>Defense</th>\n      <th>Sp. Atk</th>\n      <th>Sp. Def</th>\n      <th>Speed</th>\n      <th>Generation</th>\n      <th>Legendary</th>\n    </tr>\n  </thead>\n  <tbody>\n    <tr>\n      <th>0</th>\n      <td>1</td>\n      <td>Bulbasaur</td>\n      <td>Grass</td>\n      <td>Poison</td>\n      <td>318</td>\n      <td>45</td>\n      <td>49</td>\n      <td>49</td>\n      <td>65</td>\n      <td>65</td>\n      <td>45</td>\n      <td>1</td>\n      <td>False</td>\n    </tr>\n    <tr>\n      <th>1</th>\n      <td>2</td>\n      <td>Ivysaur</td>\n      <td>Grass</td>\n      <td>Poison</td>\n      <td>405</td>\n      <td>60</td>\n      <td>62</td>\n      <td>63</td>\n      <td>80</td>\n      <td>80</td>\n      <td>60</td>\n      <td>1</td>\n      <td>False</td>\n    </tr>\n    <tr>\n      <th>2</th>\n      <td>3</td>\n      <td>Venusaur</td>\n      <td>Grass</td>\n      <td>Poison</td>\n      <td>525</td>\n      <td>80</td>\n      <td>82</td>\n      <td>83</td>\n      <td>100</td>\n      <td>100</td>\n      <td>80</td>\n      <td>1</td>\n      <td>False</td>\n    </tr>\n    <tr>\n      <th>3</th>\n      <td>3</td>\n      <td>VenusaurMega Venusaur</td>\n      <td>Grass</td>\n      <td>Poison</td>\n      <td>625</td>\n      <td>80</td>\n      <td>100</td>\n      <td>123</td>\n      <td>122</td>\n      <td>120</td>\n      <td>80</td>\n      <td>1</td>\n      <td>False</td>\n    </tr>\n    <tr>\n      <th>4</th>\n      <td>4</td>\n      <td>Charmander</td>\n      <td>Fire</td>\n      <td>NaN</td>\n      <td>309</td>\n      <td>39</td>\n      <td>52</td>\n      <td>43</td>\n      <td>60</td>\n      <td>50</td>\n      <td>65</td>\n      <td>1</td>\n      <td>False</td>\n    </tr>\n    <tr>\n      <th>5</th>\n      <td>5</td>\n      <td>Charmeleon</td>\n      <td>Fire</td>\n      <td>NaN</td>\n      <td>405</td>\n      <td>58</td>\n      <td>64</td>\n      <td>58</td>\n      <td>80</td>\n      <td>65</td>\n      <td>80</td>\n      <td>1</td>\n      <td>False</td>\n    </tr>\n    <tr>\n      <th>6</th>\n      <td>6</td>\n      <td>Charizard</td>\n      <td>Fire</td>\n      <td>Flying</td>\n      <td>534</td>\n      <td>78</td>\n      <td>84</td>\n      <td>78</td>\n      <td>109</td>\n      <td>85</td>\n      <td>100</td>\n      <td>1</td>\n      <td>False</td>\n    </tr>\n    <tr>\n      <th>7</th>\n      <td>6</td>\n      <td>CharizardMega Charizard X</td>\n      <td>Fire</td>\n      <td>Dragon</td>\n      <td>634</td>\n      <td>78</td>\n      <td>130</td>\n      <td>111</td>\n      <td>130</td>\n      <td>85</td>\n      <td>100</td>\n      <td>1</td>\n      <td>False</td>\n    </tr>\n    <tr>\n      <th>8</th>\n      <td>6</td>\n      <td>CharizardMega Charizard Y</td>\n      <td>Fire</td>\n      <td>Flying</td>\n      <td>634</td>\n      <td>78</td>\n      <td>104</td>\n      <td>78</td>\n      <td>159</td>\n      <td>115</td>\n      <td>100</td>\n      <td>1</td>\n      <td>False</td>\n    </tr>\n    <tr>\n      <th>9</th>\n      <td>7</td>\n      <td>Squirtle</td>\n      <td>Water</td>\n      <td>NaN</td>\n      <td>314</td>\n      <td>44</td>\n      <td>48</td>\n      <td>65</td>\n      <td>50</td>\n      <td>64</td>\n      <td>43</td>\n      <td>1</td>\n      <td>False</td>\n    </tr>\n  </tbody>\n</table>\n</div>"
     },
     "execution_count": 4,
     "metadata": {},
     "output_type": "execute_result"
    }
   ],
   "source": [
    "df[:10]"
   ],
   "metadata": {
    "collapsed": false,
    "pycharm": {
     "name": "#%%\n"
    }
   }
  },
  {
   "cell_type": "code",
   "execution_count": 6,
   "outputs": [
    {
     "data": {
      "text/plain": "                #      Total          HP      Attack     Defense     Sp. Atk  \\\ncount  800.000000  800.00000  800.000000  800.000000  800.000000  800.000000   \nmean   362.813750  435.10250   69.258750   79.001250   73.842500   72.820000   \nstd    208.343798  119.96304   25.534669   32.457366   31.183501   32.722294   \nmin      1.000000  180.00000    1.000000    5.000000    5.000000   10.000000   \n25%    184.750000  330.00000   50.000000   55.000000   50.000000   49.750000   \n50%    364.500000  450.00000   65.000000   75.000000   70.000000   65.000000   \n75%    539.250000  515.00000   80.000000  100.000000   90.000000   95.000000   \nmax    721.000000  780.00000  255.000000  190.000000  230.000000  194.000000   \n\n          Sp. Def       Speed  Generation  \ncount  800.000000  800.000000   800.00000  \nmean    71.902500   68.277500     3.32375  \nstd     27.828916   29.060474     1.66129  \nmin     20.000000    5.000000     1.00000  \n25%     50.000000   45.000000     2.00000  \n50%     70.000000   65.000000     3.00000  \n75%     90.000000   90.000000     5.00000  \nmax    230.000000  180.000000     6.00000  ",
      "text/html": "<div>\n<style scoped>\n    .dataframe tbody tr th:only-of-type {\n        vertical-align: middle;\n    }\n\n    .dataframe tbody tr th {\n        vertical-align: top;\n    }\n\n    .dataframe thead th {\n        text-align: right;\n    }\n</style>\n<table border=\"1\" class=\"dataframe\">\n  <thead>\n    <tr style=\"text-align: right;\">\n      <th></th>\n      <th>#</th>\n      <th>Total</th>\n      <th>HP</th>\n      <th>Attack</th>\n      <th>Defense</th>\n      <th>Sp. Atk</th>\n      <th>Sp. Def</th>\n      <th>Speed</th>\n      <th>Generation</th>\n    </tr>\n  </thead>\n  <tbody>\n    <tr>\n      <th>count</th>\n      <td>800.000000</td>\n      <td>800.00000</td>\n      <td>800.000000</td>\n      <td>800.000000</td>\n      <td>800.000000</td>\n      <td>800.000000</td>\n      <td>800.000000</td>\n      <td>800.000000</td>\n      <td>800.00000</td>\n    </tr>\n    <tr>\n      <th>mean</th>\n      <td>362.813750</td>\n      <td>435.10250</td>\n      <td>69.258750</td>\n      <td>79.001250</td>\n      <td>73.842500</td>\n      <td>72.820000</td>\n      <td>71.902500</td>\n      <td>68.277500</td>\n      <td>3.32375</td>\n    </tr>\n    <tr>\n      <th>std</th>\n      <td>208.343798</td>\n      <td>119.96304</td>\n      <td>25.534669</td>\n      <td>32.457366</td>\n      <td>31.183501</td>\n      <td>32.722294</td>\n      <td>27.828916</td>\n      <td>29.060474</td>\n      <td>1.66129</td>\n    </tr>\n    <tr>\n      <th>min</th>\n      <td>1.000000</td>\n      <td>180.00000</td>\n      <td>1.000000</td>\n      <td>5.000000</td>\n      <td>5.000000</td>\n      <td>10.000000</td>\n      <td>20.000000</td>\n      <td>5.000000</td>\n      <td>1.00000</td>\n    </tr>\n    <tr>\n      <th>25%</th>\n      <td>184.750000</td>\n      <td>330.00000</td>\n      <td>50.000000</td>\n      <td>55.000000</td>\n      <td>50.000000</td>\n      <td>49.750000</td>\n      <td>50.000000</td>\n      <td>45.000000</td>\n      <td>2.00000</td>\n    </tr>\n    <tr>\n      <th>50%</th>\n      <td>364.500000</td>\n      <td>450.00000</td>\n      <td>65.000000</td>\n      <td>75.000000</td>\n      <td>70.000000</td>\n      <td>65.000000</td>\n      <td>70.000000</td>\n      <td>65.000000</td>\n      <td>3.00000</td>\n    </tr>\n    <tr>\n      <th>75%</th>\n      <td>539.250000</td>\n      <td>515.00000</td>\n      <td>80.000000</td>\n      <td>100.000000</td>\n      <td>90.000000</td>\n      <td>95.000000</td>\n      <td>90.000000</td>\n      <td>90.000000</td>\n      <td>5.00000</td>\n    </tr>\n    <tr>\n      <th>max</th>\n      <td>721.000000</td>\n      <td>780.00000</td>\n      <td>255.000000</td>\n      <td>190.000000</td>\n      <td>230.000000</td>\n      <td>194.000000</td>\n      <td>230.000000</td>\n      <td>180.000000</td>\n      <td>6.00000</td>\n    </tr>\n  </tbody>\n</table>\n</div>"
     },
     "execution_count": 6,
     "metadata": {},
     "output_type": "execute_result"
    }
   ],
   "source": [
    "df.describe()"
   ],
   "metadata": {
    "collapsed": false,
    "pycharm": {
     "name": "#%%\n"
    }
   }
  },
  {
   "cell_type": "code",
   "execution_count": 8,
   "outputs": [
    {
     "name": "stdout",
     "output_type": "stream",
     "text": [
      "<class 'pandas.core.frame.DataFrame'>\n",
      "RangeIndex: 800 entries, 0 to 799\n",
      "Data columns (total 13 columns):\n",
      " #   Column      Non-Null Count  Dtype \n",
      "---  ------      --------------  ----- \n",
      " 0   #           800 non-null    int64 \n",
      " 1   Name        800 non-null    object\n",
      " 2   Type 1      800 non-null    object\n",
      " 3   Type 2      414 non-null    object\n",
      " 4   Total       800 non-null    int64 \n",
      " 5   HP          800 non-null    int64 \n",
      " 6   Attack      800 non-null    int64 \n",
      " 7   Defense     800 non-null    int64 \n",
      " 8   Sp. Atk     800 non-null    int64 \n",
      " 9   Sp. Def     800 non-null    int64 \n",
      " 10  Speed       800 non-null    int64 \n",
      " 11  Generation  800 non-null    int64 \n",
      " 12  Legendary   800 non-null    bool  \n",
      "dtypes: bool(1), int64(9), object(3)\n",
      "memory usage: 75.9+ KB\n"
     ]
    }
   ],
   "source": [
    "df.info()"
   ],
   "metadata": {
    "collapsed": false,
    "pycharm": {
     "name": "#%%\n"
    }
   }
  },
  {
   "cell_type": "code",
   "execution_count": 13,
   "outputs": [
    {
     "data": {
      "text/plain": "0                  Bulbasaur\n1                    Ivysaur\n2                   Venusaur\n3      VenusaurMega Venusaur\n4                 Charmander\n               ...          \n795                  Diancie\n796      DiancieMega Diancie\n797      HoopaHoopa Confined\n798       HoopaHoopa Unbound\n799                Volcanion\nName: Name, Length: 800, dtype: object"
     },
     "execution_count": 13,
     "metadata": {},
     "output_type": "execute_result"
    }
   ],
   "source": [
    "df[\"Name\"]"
   ],
   "metadata": {
    "collapsed": false,
    "pycharm": {
     "name": "#%%\n"
    }
   }
  },
  {
   "cell_type": "code",
   "execution_count": 22,
   "outputs": [
    {
     "data": {
      "text/plain": "                        Name  Speed\n431        DeoxysSpeed Forme    180\n315                  Ninjask    160\n429       DeoxysAttack Forme    150\n428       DeoxysNormal Forme    150\n71     AlakazamMega Alakazam    150\n..                       ...    ...\n22                   Pidgeot    101\n708  LandorusIncarnate Forme    101\n573                 Simisear    101\n571                 Simisage    101\n705   ThundurusTherian Forme    101\n\n[106 rows x 2 columns]",
      "text/html": "<div>\n<style scoped>\n    .dataframe tbody tr th:only-of-type {\n        vertical-align: middle;\n    }\n\n    .dataframe tbody tr th {\n        vertical-align: top;\n    }\n\n    .dataframe thead th {\n        text-align: right;\n    }\n</style>\n<table border=\"1\" class=\"dataframe\">\n  <thead>\n    <tr style=\"text-align: right;\">\n      <th></th>\n      <th>Name</th>\n      <th>Speed</th>\n    </tr>\n  </thead>\n  <tbody>\n    <tr>\n      <th>431</th>\n      <td>DeoxysSpeed Forme</td>\n      <td>180</td>\n    </tr>\n    <tr>\n      <th>315</th>\n      <td>Ninjask</td>\n      <td>160</td>\n    </tr>\n    <tr>\n      <th>429</th>\n      <td>DeoxysAttack Forme</td>\n      <td>150</td>\n    </tr>\n    <tr>\n      <th>428</th>\n      <td>DeoxysNormal Forme</td>\n      <td>150</td>\n    </tr>\n    <tr>\n      <th>71</th>\n      <td>AlakazamMega Alakazam</td>\n      <td>150</td>\n    </tr>\n    <tr>\n      <th>...</th>\n      <td>...</td>\n      <td>...</td>\n    </tr>\n    <tr>\n      <th>22</th>\n      <td>Pidgeot</td>\n      <td>101</td>\n    </tr>\n    <tr>\n      <th>708</th>\n      <td>LandorusIncarnate Forme</td>\n      <td>101</td>\n    </tr>\n    <tr>\n      <th>573</th>\n      <td>Simisear</td>\n      <td>101</td>\n    </tr>\n    <tr>\n      <th>571</th>\n      <td>Simisage</td>\n      <td>101</td>\n    </tr>\n    <tr>\n      <th>705</th>\n      <td>ThundurusTherian Forme</td>\n      <td>101</td>\n    </tr>\n  </tbody>\n</table>\n<p>106 rows × 2 columns</p>\n</div>"
     },
     "execution_count": 22,
     "metadata": {},
     "output_type": "execute_result"
    }
   ],
   "source": [
    "df[df[\"Speed\"] > 100][[\"Name\", \"Speed\"]].sort_values(\"Speed\", ascending=False)"
   ],
   "metadata": {
    "collapsed": false,
    "pycharm": {
     "name": "#%%\n"
    }
   }
  },
  {
   "cell_type": "code",
   "execution_count": 29,
   "outputs": [
    {
     "data": {
      "text/plain": "                 HP\nType 1             \nBug       56.884058\nDark      66.806452\nDragon    83.312500\nElectric  59.795455\nFairy     74.117647\nFighting  69.851852\nFire      69.903846\nFlying    70.750000\nGhost     64.437500\nGrass     67.271429\nGround    73.781250\nIce       72.000000\nNormal    77.275510\nPoison    67.250000\nPsychic   70.631579\nRock      65.363636\nSteel     65.222222\nWater     72.062500",
      "text/html": "<div>\n<style scoped>\n    .dataframe tbody tr th:only-of-type {\n        vertical-align: middle;\n    }\n\n    .dataframe tbody tr th {\n        vertical-align: top;\n    }\n\n    .dataframe thead th {\n        text-align: right;\n    }\n</style>\n<table border=\"1\" class=\"dataframe\">\n  <thead>\n    <tr style=\"text-align: right;\">\n      <th></th>\n      <th>HP</th>\n    </tr>\n    <tr>\n      <th>Type 1</th>\n      <th></th>\n    </tr>\n  </thead>\n  <tbody>\n    <tr>\n      <th>Bug</th>\n      <td>56.884058</td>\n    </tr>\n    <tr>\n      <th>Dark</th>\n      <td>66.806452</td>\n    </tr>\n    <tr>\n      <th>Dragon</th>\n      <td>83.312500</td>\n    </tr>\n    <tr>\n      <th>Electric</th>\n      <td>59.795455</td>\n    </tr>\n    <tr>\n      <th>Fairy</th>\n      <td>74.117647</td>\n    </tr>\n    <tr>\n      <th>Fighting</th>\n      <td>69.851852</td>\n    </tr>\n    <tr>\n      <th>Fire</th>\n      <td>69.903846</td>\n    </tr>\n    <tr>\n      <th>Flying</th>\n      <td>70.750000</td>\n    </tr>\n    <tr>\n      <th>Ghost</th>\n      <td>64.437500</td>\n    </tr>\n    <tr>\n      <th>Grass</th>\n      <td>67.271429</td>\n    </tr>\n    <tr>\n      <th>Ground</th>\n      <td>73.781250</td>\n    </tr>\n    <tr>\n      <th>Ice</th>\n      <td>72.000000</td>\n    </tr>\n    <tr>\n      <th>Normal</th>\n      <td>77.275510</td>\n    </tr>\n    <tr>\n      <th>Poison</th>\n      <td>67.250000</td>\n    </tr>\n    <tr>\n      <th>Psychic</th>\n      <td>70.631579</td>\n    </tr>\n    <tr>\n      <th>Rock</th>\n      <td>65.363636</td>\n    </tr>\n    <tr>\n      <th>Steel</th>\n      <td>65.222222</td>\n    </tr>\n    <tr>\n      <th>Water</th>\n      <td>72.062500</td>\n    </tr>\n  </tbody>\n</table>\n</div>"
     },
     "execution_count": 29,
     "metadata": {},
     "output_type": "execute_result"
    }
   ],
   "source": [
    "df[[\"Type 1\", \"HP\"]].groupby(\"Type 1\").mean()"
   ],
   "metadata": {
    "collapsed": false,
    "pycharm": {
     "name": "#%%\n"
    }
   }
  },
  {
   "cell_type": "code",
   "execution_count": 32,
   "outputs": [
    {
     "data": {
      "text/plain": "        variable value\n0              #     1\n1              #     2\n2              #     3\n3              #     3\n4              #     4\n...          ...   ...\n10395  Legendary  True\n10396  Legendary  True\n10397  Legendary  True\n10398  Legendary  True\n10399  Legendary  True\n\n[10400 rows x 2 columns]",
      "text/html": "<div>\n<style scoped>\n    .dataframe tbody tr th:only-of-type {\n        vertical-align: middle;\n    }\n\n    .dataframe tbody tr th {\n        vertical-align: top;\n    }\n\n    .dataframe thead th {\n        text-align: right;\n    }\n</style>\n<table border=\"1\" class=\"dataframe\">\n  <thead>\n    <tr style=\"text-align: right;\">\n      <th></th>\n      <th>variable</th>\n      <th>value</th>\n    </tr>\n  </thead>\n  <tbody>\n    <tr>\n      <th>0</th>\n      <td>#</td>\n      <td>1</td>\n    </tr>\n    <tr>\n      <th>1</th>\n      <td>#</td>\n      <td>2</td>\n    </tr>\n    <tr>\n      <th>2</th>\n      <td>#</td>\n      <td>3</td>\n    </tr>\n    <tr>\n      <th>3</th>\n      <td>#</td>\n      <td>3</td>\n    </tr>\n    <tr>\n      <th>4</th>\n      <td>#</td>\n      <td>4</td>\n    </tr>\n    <tr>\n      <th>...</th>\n      <td>...</td>\n      <td>...</td>\n    </tr>\n    <tr>\n      <th>10395</th>\n      <td>Legendary</td>\n      <td>True</td>\n    </tr>\n    <tr>\n      <th>10396</th>\n      <td>Legendary</td>\n      <td>True</td>\n    </tr>\n    <tr>\n      <th>10397</th>\n      <td>Legendary</td>\n      <td>True</td>\n    </tr>\n    <tr>\n      <th>10398</th>\n      <td>Legendary</td>\n      <td>True</td>\n    </tr>\n    <tr>\n      <th>10399</th>\n      <td>Legendary</td>\n      <td>True</td>\n    </tr>\n  </tbody>\n</table>\n<p>10400 rows × 2 columns</p>\n</div>"
     },
     "execution_count": 32,
     "metadata": {},
     "output_type": "execute_result"
    }
   ],
   "source": [
    "df.melt()"
   ],
   "metadata": {
    "collapsed": false,
    "pycharm": {
     "name": "#%%\n"
    }
   }
  }
 ],
 "metadata": {
  "kernelspec": {
   "display_name": "Python 3",
   "language": "python",
   "name": "python3"
  },
  "language_info": {
   "codemirror_mode": {
    "name": "ipython",
    "version": 2
   },
   "file_extension": ".py",
   "mimetype": "text/x-python",
   "name": "python",
   "nbconvert_exporter": "python",
   "pygments_lexer": "ipython2",
   "version": "2.7.6"
  }
 },
 "nbformat": 4,
 "nbformat_minor": 0
}