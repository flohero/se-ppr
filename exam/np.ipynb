{
 "cells": [
  {
   "cell_type": "markdown",
   "metadata": {
    "collapsed": true,
    "pycharm": {
     "name": "#%% md\n"
    }
   },
   "source": [
    "# NumPy\n",
    "## ndarray sorting"
   ]
  },
  {
   "cell_type": "code",
   "execution_count": 2,
   "outputs": [
    {
     "data": {
      "text/plain": "array([[            27331328,   753057079118094712,   748834950222015790,\n             113739410505728, -8038362384898756096, -6845335087181958144,\n         2308708857841611361,   723441445811352178,  2308668953702003314,\n         2314885530818447973],\n       [            27331328,  2314885436548132141,  2323362894317625376,\n           13073193254280818,           5955911680,                    0,\n         2325032996649902182,  2308784694146393453,  2308707431035514157,\n         7018051270194110565],\n       [     139704662327984,  3255307777494491168,  3184145384580595262,\n          732223240535370611,         341215019008,          12884901890,\n         2334102019056430368,  2314861397616176429,  2314861724910645857,\n         7163375924030107424],\n       [     139704662327984,  4404627226679459360,  3472601203671458162,\n         2314885530447928617,         843726192640,       33479270072387,\n         7143307423181185056,  2336927755148816928,  2324174205049905184,\n         7305798935033946144],\n       [ 7020395416078265459,  4981016510220339812,  3900165871102603552,\n         2318273423810186784,       95047626260571,  2308657759031812353,\n         7307218078066286695,  3255307777712594976,  2336349433641923438,\n         7309940825439303022],\n       [ 7160552319299576173,  7308061682622754925,  4476613351954852137,\n         3185769160620139875,     1968125813721202,  2954452621513030659,\n         7596573254461890676,  6998705320233035375,  3251634253310096238,\n         7596482291381313568],\n       [ 7234306519740544111,  7867332720621284896,  6727596228705001516,\n         3186059677312576627,   608550059306909964,  8247626271117287456,\n         7956000642205512549,  7021781765788278816,  6998704207690948973,\n         7598819895964362851],\n       [ 7450191143958309747,  8241973677867627361,  7002658089035456882,\n         7020388844531903861,  2377900603252175616,  8316297073240601454,\n         8007527064174685283,  7234309775409112096,  7236757085254393888,\n         7814625402741093491],\n       [ 7935377865775412069,  8459846373828682591,  7020318454559292704,\n         7308901626606794784,  5652580482308534784,  8358772169594270208,\n         8246776339205678435,  8026294562432704800,  7308613649271451247,\n         7957614441873630057],\n       [ 8462111311863770735,  8461246789758186863,  7810137174769037422,\n         7596573506685378592,  8215314487742375026,  8431429002115251457,\n         8316213519203530092,  8319678436673680494,  8247626271117287456,\n         8391166443839430771]])"
     },
     "execution_count": 2,
     "metadata": {},
     "output_type": "execute_result"
    }
   ],
   "source": [
    "import numpy as np\n",
    "arr = np.ndarray(shape=(10,10), dtype=int, order='F')\n",
    "a = np.array([('a', 2), ('c', 1)], dtype=[('x', 'S1'), ('y', int)])\n",
    "arr.sort(axis=0) # This is relevant\n",
    "arr"
   ],
   "metadata": {
    "collapsed": false,
    "pycharm": {
     "name": "#%%\n"
    }
   }
  },
  {
   "cell_type": "markdown",
   "source": [],
   "metadata": {
    "collapsed": false,
    "pycharm": {
     "name": "#%% md\n"
    }
   }
  },
  {
   "cell_type": "code",
   "execution_count": 30,
   "outputs": [
    {
     "data": {
      "text/plain": "13148621604353008"
     },
     "execution_count": 30,
     "metadata": {},
     "output_type": "execute_result"
    }
   ],
   "source": [
    "arr = np.ndarray(shape=(10,10), dtype=int)\n",
    "sum(sum(arr))"
   ],
   "metadata": {
    "collapsed": false,
    "pycharm": {
     "name": "#%%\n"
    }
   }
  },
  {
   "cell_type": "code",
   "execution_count": 5,
   "outputs": [
    {
     "data": {
      "text/plain": "array([[ True,  True,  True],\n       [ True,  True,  True],\n       [ True,  True,  True]])"
     },
     "execution_count": 5,
     "metadata": {},
     "output_type": "execute_result"
    }
   ],
   "source": [
    "np.ones(shape=(3, 3), dtype=bool)"
   ],
   "metadata": {
    "collapsed": false,
    "pycharm": {
     "name": "#%%\n"
    }
   }
  },
  {
   "cell_type": "code",
   "execution_count": 13,
   "outputs": [
    {
     "data": {
      "text/plain": "array([[0.25121377, 0.22947432, 0.18968366],\n       [0.75553707, 0.09717432, 0.24342275],\n       [0.16084961, 0.25312596, 0.00254757],\n       [0.92891262, 0.07489568, 0.35544328]])"
     },
     "execution_count": 13,
     "metadata": {},
     "output_type": "execute_result"
    }
   ],
   "source": [
    "m = np.random.rand(4, 3)\n",
    "m"
   ],
   "metadata": {
    "collapsed": false,
    "pycharm": {
     "name": "#%%\n"
    }
   }
  },
  {
   "cell_type": "code",
   "execution_count": 17,
   "outputs": [
    {
     "data": {
      "text/plain": "array([[0.18968366, 0.24342275, 0.00254757, 0.35544328],\n       [0.22947432, 0.09717432, 0.25312596, 0.07489568],\n       [0.25121377, 0.75553707, 0.16084961, 0.92891262]])"
     },
     "execution_count": 17,
     "metadata": {},
     "output_type": "execute_result"
    }
   ],
   "source": [
    "np.rot90(m)"
   ],
   "metadata": {
    "collapsed": false,
    "pycharm": {
     "name": "#%%\n"
    }
   }
  },
  {
   "cell_type": "code",
   "execution_count": 19,
   "outputs": [
    {
     "data": {
      "text/plain": "array([[0.11029644, 0.34454889, 0.3615742 , 0.31997908],\n       [0.15973132, 0.59130406, 0.51217364, 0.77535047],\n       [0.09755368, 0.16577806, 0.21264003, 0.17670597],\n       [0.18521646, 0.75474611, 0.64191786, 0.96727012]])"
     },
     "execution_count": 19,
     "metadata": {},
     "output_type": "execute_result"
    }
   ],
   "source": [
    "m2 = np.random.rand(3, 4)\n",
    "np.matmul(m, m2)"
   ],
   "metadata": {
    "collapsed": false,
    "pycharm": {
     "name": "#%%\n"
    }
   }
  }
 ],
 "metadata": {
  "kernelspec": {
   "display_name": "Python 3",
   "language": "python",
   "name": "python3"
  },
  "language_info": {
   "codemirror_mode": {
    "name": "ipython",
    "version": 2
   },
   "file_extension": ".py",
   "mimetype": "text/x-python",
   "name": "python",
   "nbconvert_exporter": "python",
   "pygments_lexer": "ipython2",
   "version": "2.7.6"
  }
 },
 "nbformat": 4,
 "nbformat_minor": 0
}