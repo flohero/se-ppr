{
 "cells": [
  {
   "cell_type": "markdown",
   "metadata": {
    "collapsed": true,
    "pycharm": {
     "name": "#%% md\n"
    }
   },
   "source": [
    "# Pandas\n",
    "## Series"
   ]
  },
  {
   "cell_type": "code",
   "execution_count": 15,
   "outputs": [
    {
     "data": {
      "text/plain": "0    Hello\n1    Kevin\ndtype: object"
     },
     "metadata": {},
     "output_type": "display_data"
    },
    {
     "data": {
      "text/plain": "a             Hello\ncool label    Kevin\ndtype: object"
     },
     "execution_count": 15,
     "metadata": {},
     "output_type": "execute_result"
    }
   ],
   "source": [
    "from IPython.core.display_functions import display\n",
    "import pandas as pd\n",
    "display(pd.Series([\"Hello\", \"Kevin\"]))\n",
    "pd.Series({\"a\": \"Hello\", \"cool label\": \"Kevin\"})"
   ],
   "metadata": {
    "collapsed": false,
    "pycharm": {
     "name": "#%%\n"
    }
   }
  },
  {
   "cell_type": "markdown",
   "source": [
    "### Series with labels"
   ],
   "metadata": {
    "collapsed": false,
    "pycharm": {
     "name": "#%% md\n"
    }
   }
  },
  {
   "cell_type": "code",
   "execution_count": 40,
   "outputs": [
    {
     "data": {
      "text/plain": "count     26\nunique    26\ntop        a\nfreq       1\ndtype: object"
     },
     "execution_count": 40,
     "metadata": {},
     "output_type": "execute_result"
    }
   ],
   "source": [
    "s = pd.Series([chr(x) for x in range(ord(\"a\"), ord(\"z\")+1)], index=range(1, 27))\n",
    "s.describe()"
   ],
   "metadata": {
    "collapsed": false,
    "pycharm": {
     "name": "#%%\n"
    }
   }
  },
  {
   "cell_type": "markdown",
   "source": [
    "## Dataframe"
   ],
   "metadata": {
    "collapsed": false,
    "pycharm": {
     "name": "#%% md\n"
    }
   }
  },
  {
   "cell_type": "code",
   "execution_count": 57,
   "outputs": [
    {
     "data": {
      "text/plain": "    char\nord     \n97     a\n98     b\n99     c\n100    d\n101    e\n102    f\n103    g\n104    h\n105    i\n106    j\n107    k\n108    l\n109    m\n110    n\n111    o\n112    p\n113    q\n114    r\n115    s\n116    t\n117    u\n118    v\n119    w\n120    x\n121    y\n122    z",
      "text/html": "<div>\n<style scoped>\n    .dataframe tbody tr th:only-of-type {\n        vertical-align: middle;\n    }\n\n    .dataframe tbody tr th {\n        vertical-align: top;\n    }\n\n    .dataframe thead th {\n        text-align: right;\n    }\n</style>\n<table border=\"1\" class=\"dataframe\">\n  <thead>\n    <tr style=\"text-align: right;\">\n      <th></th>\n      <th>char</th>\n    </tr>\n    <tr>\n      <th>ord</th>\n      <th></th>\n    </tr>\n  </thead>\n  <tbody>\n    <tr>\n      <th>97</th>\n      <td>a</td>\n    </tr>\n    <tr>\n      <th>98</th>\n      <td>b</td>\n    </tr>\n    <tr>\n      <th>99</th>\n      <td>c</td>\n    </tr>\n    <tr>\n      <th>100</th>\n      <td>d</td>\n    </tr>\n    <tr>\n      <th>101</th>\n      <td>e</td>\n    </tr>\n    <tr>\n      <th>102</th>\n      <td>f</td>\n    </tr>\n    <tr>\n      <th>103</th>\n      <td>g</td>\n    </tr>\n    <tr>\n      <th>104</th>\n      <td>h</td>\n    </tr>\n    <tr>\n      <th>105</th>\n      <td>i</td>\n    </tr>\n    <tr>\n      <th>106</th>\n      <td>j</td>\n    </tr>\n    <tr>\n      <th>107</th>\n      <td>k</td>\n    </tr>\n    <tr>\n      <th>108</th>\n      <td>l</td>\n    </tr>\n    <tr>\n      <th>109</th>\n      <td>m</td>\n    </tr>\n    <tr>\n      <th>110</th>\n      <td>n</td>\n    </tr>\n    <tr>\n      <th>111</th>\n      <td>o</td>\n    </tr>\n    <tr>\n      <th>112</th>\n      <td>p</td>\n    </tr>\n    <tr>\n      <th>113</th>\n      <td>q</td>\n    </tr>\n    <tr>\n      <th>114</th>\n      <td>r</td>\n    </tr>\n    <tr>\n      <th>115</th>\n      <td>s</td>\n    </tr>\n    <tr>\n      <th>116</th>\n      <td>t</td>\n    </tr>\n    <tr>\n      <th>117</th>\n      <td>u</td>\n    </tr>\n    <tr>\n      <th>118</th>\n      <td>v</td>\n    </tr>\n    <tr>\n      <th>119</th>\n      <td>w</td>\n    </tr>\n    <tr>\n      <th>120</th>\n      <td>x</td>\n    </tr>\n    <tr>\n      <th>121</th>\n      <td>y</td>\n    </tr>\n    <tr>\n      <th>122</th>\n      <td>z</td>\n    </tr>\n  </tbody>\n</table>\n</div>"
     },
     "execution_count": 57,
     "metadata": {},
     "output_type": "execute_result"
    }
   ],
   "source": [
    "df = pd.DataFrame([{\"ord\": x, \"char\":chr(x)} for x in range(ord(\"a\"), ord(\"z\")+1)] )\n",
    "df.set_index(\"ord\")"
   ],
   "metadata": {
    "collapsed": false,
    "pycharm": {
     "name": "#%%\n"
    }
   }
  },
  {
   "cell_type": "code",
   "execution_count": 42,
   "outputs": [
    {
     "data": {
      "text/plain": "              ord\ncount   26.000000\nmean   109.500000\nstd      7.648529\nmin     97.000000\n25%    103.250000\n50%    109.500000\n75%    115.750000\nmax    122.000000",
      "text/html": "<div>\n<style scoped>\n    .dataframe tbody tr th:only-of-type {\n        vertical-align: middle;\n    }\n\n    .dataframe tbody tr th {\n        vertical-align: top;\n    }\n\n    .dataframe thead th {\n        text-align: right;\n    }\n</style>\n<table border=\"1\" class=\"dataframe\">\n  <thead>\n    <tr style=\"text-align: right;\">\n      <th></th>\n      <th>ord</th>\n    </tr>\n  </thead>\n  <tbody>\n    <tr>\n      <th>count</th>\n      <td>26.000000</td>\n    </tr>\n    <tr>\n      <th>mean</th>\n      <td>109.500000</td>\n    </tr>\n    <tr>\n      <th>std</th>\n      <td>7.648529</td>\n    </tr>\n    <tr>\n      <th>min</th>\n      <td>97.000000</td>\n    </tr>\n    <tr>\n      <th>25%</th>\n      <td>103.250000</td>\n    </tr>\n    <tr>\n      <th>50%</th>\n      <td>109.500000</td>\n    </tr>\n    <tr>\n      <th>75%</th>\n      <td>115.750000</td>\n    </tr>\n    <tr>\n      <th>max</th>\n      <td>122.000000</td>\n    </tr>\n  </tbody>\n</table>\n</div>"
     },
     "execution_count": 42,
     "metadata": {},
     "output_type": "execute_result"
    }
   ],
   "source": [
    "df.describe()"
   ],
   "metadata": {
    "collapsed": false,
    "pycharm": {
     "name": "#%%\n"
    }
   }
  },
  {
   "cell_type": "code",
   "execution_count": 44,
   "outputs": [
    {
     "name": "stdout",
     "output_type": "stream",
     "text": [
      "<class 'pandas.core.frame.DataFrame'>\n",
      "RangeIndex: 26 entries, 0 to 25\n",
      "Data columns (total 2 columns):\n",
      " #   Column  Non-Null Count  Dtype \n",
      "---  ------  --------------  ----- \n",
      " 0   ord     26 non-null     int64 \n",
      " 1   char    26 non-null     object\n",
      "dtypes: int64(1), object(1)\n",
      "memory usage: 544.0+ bytes\n"
     ]
    }
   ],
   "source": [
    "df.info()"
   ],
   "metadata": {
    "collapsed": false,
    "pycharm": {
     "name": "#%%\n"
    }
   }
  },
  {
   "cell_type": "code",
   "execution_count": 114,
   "outputs": [
    {
     "data": {
      "text/plain": "0      97\n1      98\n2      99\n3     100\n4     101\n5     102\n6     103\n7     104\n8     105\n9     106\n10    107\n11    108\n12    109\n13    110\n14    111\n15    112\n16    113\n17    114\n18    115\n19    116\n20    117\n21    118\n22    119\n23    120\n24    121\n25    122\nName: ord, dtype: int64"
     },
     "metadata": {},
     "output_type": "display_data"
    },
    {
     "data": {
      "text/plain": "    ord\n25  122\n24  121\n23  120\n22  119\n21  118\n20  117\n19  116\n18  115\n17  114\n16  113\n15  112\n14  111\n13  110\n12  109\n11  108\n10  107\n9   106\n8   105\n7   104\n6   103\n5   102\n4   101\n3   100\n2    99\n1    98\n0    97",
      "text/html": "<div>\n<style scoped>\n    .dataframe tbody tr th:only-of-type {\n        vertical-align: middle;\n    }\n\n    .dataframe tbody tr th {\n        vertical-align: top;\n    }\n\n    .dataframe thead th {\n        text-align: right;\n    }\n</style>\n<table border=\"1\" class=\"dataframe\">\n  <thead>\n    <tr style=\"text-align: right;\">\n      <th></th>\n      <th>ord</th>\n    </tr>\n  </thead>\n  <tbody>\n    <tr>\n      <th>25</th>\n      <td>122</td>\n    </tr>\n    <tr>\n      <th>24</th>\n      <td>121</td>\n    </tr>\n    <tr>\n      <th>23</th>\n      <td>120</td>\n    </tr>\n    <tr>\n      <th>22</th>\n      <td>119</td>\n    </tr>\n    <tr>\n      <th>21</th>\n      <td>118</td>\n    </tr>\n    <tr>\n      <th>20</th>\n      <td>117</td>\n    </tr>\n    <tr>\n      <th>19</th>\n      <td>116</td>\n    </tr>\n    <tr>\n      <th>18</th>\n      <td>115</td>\n    </tr>\n    <tr>\n      <th>17</th>\n      <td>114</td>\n    </tr>\n    <tr>\n      <th>16</th>\n      <td>113</td>\n    </tr>\n    <tr>\n      <th>15</th>\n      <td>112</td>\n    </tr>\n    <tr>\n      <th>14</th>\n      <td>111</td>\n    </tr>\n    <tr>\n      <th>13</th>\n      <td>110</td>\n    </tr>\n    <tr>\n      <th>12</th>\n      <td>109</td>\n    </tr>\n    <tr>\n      <th>11</th>\n      <td>108</td>\n    </tr>\n    <tr>\n      <th>10</th>\n      <td>107</td>\n    </tr>\n    <tr>\n      <th>9</th>\n      <td>106</td>\n    </tr>\n    <tr>\n      <th>8</th>\n      <td>105</td>\n    </tr>\n    <tr>\n      <th>7</th>\n      <td>104</td>\n    </tr>\n    <tr>\n      <th>6</th>\n      <td>103</td>\n    </tr>\n    <tr>\n      <th>5</th>\n      <td>102</td>\n    </tr>\n    <tr>\n      <th>4</th>\n      <td>101</td>\n    </tr>\n    <tr>\n      <th>3</th>\n      <td>100</td>\n    </tr>\n    <tr>\n      <th>2</th>\n      <td>99</td>\n    </tr>\n    <tr>\n      <th>1</th>\n      <td>98</td>\n    </tr>\n    <tr>\n      <th>0</th>\n      <td>97</td>\n    </tr>\n  </tbody>\n</table>\n</div>"
     },
     "execution_count": 114,
     "metadata": {},
     "output_type": "execute_result"
    }
   ],
   "source": [
    "df.ord\n",
    "display(df[\"ord\"])\n",
    "df.loc[[10, 20]]\n",
    "df.loc[::-1,[\"ord\"]]"
   ],
   "metadata": {
    "collapsed": false,
    "pycharm": {
     "name": "#%%\n"
    }
   }
  },
  {
   "cell_type": "code",
   "execution_count": 102,
   "outputs": [
    {
     "data": {
      "text/plain": "    ord char\n0    97    a\n1    98    b\n2    99    c\n3   100    d\n4   101    e\n5   102    f\n6   103    g\n7   104    h\n8   105    i\n9   106    j\n10  107    k\n11  108    l\n12  109    m\n13  110    n\n14  111    o\n15  112    p\n16  113    q\n17  114    r\n18  115    s\n19  116    t\n20  117    u\n21  118    v\n22  119    w\n23  120    x\n24  121    y\n25  122    z",
      "text/html": "<div>\n<style scoped>\n    .dataframe tbody tr th:only-of-type {\n        vertical-align: middle;\n    }\n\n    .dataframe tbody tr th {\n        vertical-align: top;\n    }\n\n    .dataframe thead th {\n        text-align: right;\n    }\n</style>\n<table border=\"1\" class=\"dataframe\">\n  <thead>\n    <tr style=\"text-align: right;\">\n      <th></th>\n      <th>ord</th>\n      <th>char</th>\n    </tr>\n  </thead>\n  <tbody>\n    <tr>\n      <th>0</th>\n      <td>97</td>\n      <td>a</td>\n    </tr>\n    <tr>\n      <th>1</th>\n      <td>98</td>\n      <td>b</td>\n    </tr>\n    <tr>\n      <th>2</th>\n      <td>99</td>\n      <td>c</td>\n    </tr>\n    <tr>\n      <th>3</th>\n      <td>100</td>\n      <td>d</td>\n    </tr>\n    <tr>\n      <th>4</th>\n      <td>101</td>\n      <td>e</td>\n    </tr>\n    <tr>\n      <th>5</th>\n      <td>102</td>\n      <td>f</td>\n    </tr>\n    <tr>\n      <th>6</th>\n      <td>103</td>\n      <td>g</td>\n    </tr>\n    <tr>\n      <th>7</th>\n      <td>104</td>\n      <td>h</td>\n    </tr>\n    <tr>\n      <th>8</th>\n      <td>105</td>\n      <td>i</td>\n    </tr>\n    <tr>\n      <th>9</th>\n      <td>106</td>\n      <td>j</td>\n    </tr>\n    <tr>\n      <th>10</th>\n      <td>107</td>\n      <td>k</td>\n    </tr>\n    <tr>\n      <th>11</th>\n      <td>108</td>\n      <td>l</td>\n    </tr>\n    <tr>\n      <th>12</th>\n      <td>109</td>\n      <td>m</td>\n    </tr>\n    <tr>\n      <th>13</th>\n      <td>110</td>\n      <td>n</td>\n    </tr>\n    <tr>\n      <th>14</th>\n      <td>111</td>\n      <td>o</td>\n    </tr>\n    <tr>\n      <th>15</th>\n      <td>112</td>\n      <td>p</td>\n    </tr>\n    <tr>\n      <th>16</th>\n      <td>113</td>\n      <td>q</td>\n    </tr>\n    <tr>\n      <th>17</th>\n      <td>114</td>\n      <td>r</td>\n    </tr>\n    <tr>\n      <th>18</th>\n      <td>115</td>\n      <td>s</td>\n    </tr>\n    <tr>\n      <th>19</th>\n      <td>116</td>\n      <td>t</td>\n    </tr>\n    <tr>\n      <th>20</th>\n      <td>117</td>\n      <td>u</td>\n    </tr>\n    <tr>\n      <th>21</th>\n      <td>118</td>\n      <td>v</td>\n    </tr>\n    <tr>\n      <th>22</th>\n      <td>119</td>\n      <td>w</td>\n    </tr>\n    <tr>\n      <th>23</th>\n      <td>120</td>\n      <td>x</td>\n    </tr>\n    <tr>\n      <th>24</th>\n      <td>121</td>\n      <td>y</td>\n    </tr>\n    <tr>\n      <th>25</th>\n      <td>122</td>\n      <td>z</td>\n    </tr>\n  </tbody>\n</table>\n</div>"
     },
     "execution_count": 102,
     "metadata": {},
     "output_type": "execute_result"
    }
   ],
   "source": [
    "df[:]"
   ],
   "metadata": {
    "collapsed": false,
    "pycharm": {
     "name": "#%%\n"
    }
   }
  },
  {
   "cell_type": "code",
   "execution_count": 116,
   "outputs": [
    {
     "data": {
      "text/plain": "    ord char\n14  111    o\n15  112    p\n16  113    q\n17  114    r\n18  115    s\n19  116    t\n20  117    u\n21  118    v\n22  119    w\n23  120    x\n24  121    y\n25  122    z",
      "text/html": "<div>\n<style scoped>\n    .dataframe tbody tr th:only-of-type {\n        vertical-align: middle;\n    }\n\n    .dataframe tbody tr th {\n        vertical-align: top;\n    }\n\n    .dataframe thead th {\n        text-align: right;\n    }\n</style>\n<table border=\"1\" class=\"dataframe\">\n  <thead>\n    <tr style=\"text-align: right;\">\n      <th></th>\n      <th>ord</th>\n      <th>char</th>\n    </tr>\n  </thead>\n  <tbody>\n    <tr>\n      <th>14</th>\n      <td>111</td>\n      <td>o</td>\n    </tr>\n    <tr>\n      <th>15</th>\n      <td>112</td>\n      <td>p</td>\n    </tr>\n    <tr>\n      <th>16</th>\n      <td>113</td>\n      <td>q</td>\n    </tr>\n    <tr>\n      <th>17</th>\n      <td>114</td>\n      <td>r</td>\n    </tr>\n    <tr>\n      <th>18</th>\n      <td>115</td>\n      <td>s</td>\n    </tr>\n    <tr>\n      <th>19</th>\n      <td>116</td>\n      <td>t</td>\n    </tr>\n    <tr>\n      <th>20</th>\n      <td>117</td>\n      <td>u</td>\n    </tr>\n    <tr>\n      <th>21</th>\n      <td>118</td>\n      <td>v</td>\n    </tr>\n    <tr>\n      <th>22</th>\n      <td>119</td>\n      <td>w</td>\n    </tr>\n    <tr>\n      <th>23</th>\n      <td>120</td>\n      <td>x</td>\n    </tr>\n    <tr>\n      <th>24</th>\n      <td>121</td>\n      <td>y</td>\n    </tr>\n    <tr>\n      <th>25</th>\n      <td>122</td>\n      <td>z</td>\n    </tr>\n  </tbody>\n</table>\n</div>"
     },
     "execution_count": 116,
     "metadata": {},
     "output_type": "execute_result"
    }
   ],
   "source": [
    "df.loc[ df[\"ord\"] > 110]"
   ],
   "metadata": {
    "collapsed": false,
    "pycharm": {
     "name": "#%%\n"
    }
   }
  },
  {
   "cell_type": "code",
   "execution_count": 116,
   "outputs": [],
   "source": [],
   "metadata": {
    "collapsed": false,
    "pycharm": {
     "name": "#%%\n"
    }
   }
  }
 ],
 "metadata": {
  "kernelspec": {
   "display_name": "Python 3",
   "language": "python",
   "name": "python3"
  },
  "language_info": {
   "codemirror_mode": {
    "name": "ipython",
    "version": 2
   },
   "file_extension": ".py",
   "mimetype": "text/x-python",
   "name": "python",
   "nbconvert_exporter": "python",
   "pygments_lexer": "ipython2",
   "version": "2.7.6"
  }
 },
 "nbformat": 4,
 "nbformat_minor": 0
}