{
 "cells": [
  {
   "cell_type": "markdown",
   "metadata": {
    "collapsed": true,
    "pycharm": {
     "name": "#%% md\n"
    }
   },
   "source": [
    "# Exam\n",
    "## Leading Dunder Score"
   ]
  },
  {
   "cell_type": "code",
   "execution_count": 5,
   "outputs": [
    {
     "data": {
      "text/plain": "['_A__super_secret',\n '__class__',\n '__delattr__',\n '__dict__',\n '__dir__',\n '__doc__',\n '__eq__',\n '__format__',\n '__ge__',\n '__getattribute__',\n '__gt__',\n '__hash__',\n '__init__',\n '__init_subclass__',\n '__le__',\n '__lt__',\n '__module__',\n '__ne__',\n '__new__',\n '__reduce__',\n '__reduce_ex__',\n '__repr__',\n '__setattr__',\n '__sizeof__',\n '__str__',\n '__subclasshook__',\n '__weakref__',\n '_secret']"
     },
     "metadata": {},
     "output_type": "display_data"
    },
    {
     "data": {
      "text/plain": "['_A__super_secret',\n '_B__super_secret',\n '__class__',\n '__delattr__',\n '__dict__',\n '__dir__',\n '__doc__',\n '__eq__',\n '__format__',\n '__ge__',\n '__getattribute__',\n '__gt__',\n '__hash__',\n '__init__',\n '__init_subclass__',\n '__le__',\n '__lt__',\n '__module__',\n '__ne__',\n '__new__',\n '__reduce__',\n '__reduce_ex__',\n '__repr__',\n '__setattr__',\n '__sizeof__',\n '__str__',\n '__subclasshook__',\n '__weakref__',\n '_secret']"
     },
     "metadata": {},
     "output_type": "display_data"
    }
   ],
   "source": [
    "import calendar\n",
    "import datetime\n",
    "import random\n",
    "\n",
    "from IPython.core.display_functions import display\n",
    "\n",
    "\n",
    "class A:\n",
    "    def _secret(self):\n",
    "        pass\n",
    "\n",
    "    def __super_secret(self):\n",
    "        pass\n",
    "\n",
    "\n",
    "class B(A):\n",
    "    def _secret(self):\n",
    "        pass\n",
    "\n",
    "    def __super_secret(self):\n",
    "        pass\n",
    "\n",
    "\n",
    "display(dir(A()))\n",
    "display(dir(B()))"
   ],
   "metadata": {
    "collapsed": false,
    "pycharm": {
     "name": "#%%\n"
    }
   }
  },
  {
   "cell_type": "code",
   "source": [
    "# Square root\n",
    "16 ** 0.5"
   ],
   "metadata": {
    "collapsed": false,
    "pycharm": {
     "name": "#%%\n"
    }
   },
   "execution_count": 8,
   "outputs": [
    {
     "data": {
      "text/plain": "4.0"
     },
     "execution_count": 8,
     "metadata": {},
     "output_type": "execute_result"
    }
   ]
  },
  {
   "cell_type": "code",
   "execution_count": 9,
   "outputs": [
    {
     "data": {
      "text/plain": "['Hello', 'World']"
     },
     "execution_count": 9,
     "metadata": {},
     "output_type": "execute_result"
    }
   ],
   "source": [
    "\"Hello\\nWorld\".splitlines()"
   ],
   "metadata": {
    "collapsed": false,
    "pycharm": {
     "name": "#%%\n"
    }
   }
  },
  {
   "cell_type": "code",
   "execution_count": 13,
   "outputs": [
    {
     "data": {
      "text/plain": "datetime.timedelta(days=731)"
     },
     "execution_count": 13,
     "metadata": {},
     "output_type": "execute_result"
    }
   ],
   "source": [
    "import datetime\n",
    "\n",
    "datetime.datetime(2022, 2, 5) - datetime.datetime(2020, 2, 5)"
   ],
   "metadata": {
    "collapsed": false,
    "pycharm": {
     "name": "#%%\n"
    }
   }
  },
  {
   "cell_type": "code",
   "execution_count": 34,
   "outputs": [
    {
     "data": {
      "text/plain": "'Test'"
     },
     "metadata": {},
     "output_type": "display_data"
    }
   ],
   "source": [
    "while False:\n",
    "    pass\n",
    "else:\n",
    "    display(\"Test\")"
   ],
   "metadata": {
    "collapsed": false,
    "pycharm": {
     "name": "#%%\n"
    }
   }
  },
  {
   "cell_type": "code",
   "execution_count": 26,
   "outputs": [
    {
     "name": "stdout",
     "output_type": "stream",
     "text": [
      "(10, 20)\n",
      "(1, 40)\n",
      "(10, 20)\n"
     ]
    }
   ],
   "source": [
    "class Point:\n",
    "    x: int\n",
    "    y: int\n",
    "\n",
    "    def __repr__(self):\n",
    "        return f\"({self.x}, {self.y})\"\n",
    "\n",
    "\n",
    "p1 = Point()\n",
    "p1.x = 10\n",
    "p1.y = 20\n",
    "print(p1)\n",
    "p2 = Point()\n",
    "p2.x = 1\n",
    "p2.y = 40\n",
    "print(p2)\n",
    "print(p1)"
   ],
   "metadata": {
    "collapsed": false,
    "pycharm": {
     "name": "#%%\n"
    }
   }
  },
  {
   "cell_type": "code",
   "execution_count": 38,
   "outputs": [
    {
     "name": "stdout",
     "output_type": "stream",
     "text": [
      "Hello\n",
      "Test\n",
      "{'obj': 'World', 'stop': 1}\n"
     ]
    }
   ],
   "source": [
    "def params(x, *args):\n",
    "    print(x)\n",
    "    for arg in args:\n",
    "        print(arg)\n",
    "\n",
    "\n",
    "def named_params(x, y=\"Test\", **kwargs):\n",
    "    print(x)\n",
    "    print(y)\n",
    "    print(kwargs)\n",
    "\n",
    "\n",
    "named_params(\"Hello\", obj=\"World\", stop=1)"
   ],
   "metadata": {
    "collapsed": false,
    "pycharm": {
     "name": "#%%\n"
    }
   }
  },
  {
   "cell_type": "code",
   "execution_count": 43,
   "outputs": [
    {
     "name": "stdout",
     "output_type": "stream",
     "text": [
      "Wrong Way!\n"
     ]
    },
    {
     "data": {
      "text/plain": "['Test']"
     },
     "metadata": {},
     "output_type": "display_data"
    },
    {
     "data": {
      "text/plain": "['Test', 'Test']"
     },
     "metadata": {},
     "output_type": "display_data"
    },
    {
     "name": "stdout",
     "output_type": "stream",
     "text": [
      "Correct Way!\n"
     ]
    },
    {
     "data": {
      "text/plain": "['Test']"
     },
     "metadata": {},
     "output_type": "display_data"
    },
    {
     "data": {
      "text/plain": "['Test']"
     },
     "metadata": {},
     "output_type": "display_data"
    }
   ],
   "source": [
    "def default_params_wrong(value=[]):\n",
    "    value.append(\"Test\")\n",
    "    display(value)\n",
    "\n",
    "\n",
    "def default_params_right(value=None):\n",
    "    if value is None:\n",
    "        value = []\n",
    "    value.append(\"Test\")\n",
    "    display(value)\n",
    "\n",
    "\n",
    "print(\"Wrong Way!\")\n",
    "default_params_wrong()\n",
    "default_params_wrong()\n",
    "\n",
    "print(\"Correct Way!\")\n",
    "default_params_right()\n",
    "default_params_right()"
   ],
   "metadata": {
    "collapsed": false,
    "pycharm": {
     "name": "#%%\n"
    }
   }
  },
  {
   "cell_type": "code",
   "execution_count": 57,
   "outputs": [
    {
     "name": "stdout",
     "output_type": "stream",
     "text": [
      "a b\n",
      "1: 2\n"
     ]
    },
    {
     "ename": "KeyError",
     "evalue": "'c'",
     "output_type": "error",
     "traceback": [
      "\u001B[0;31m---------------------------------------------------------------------------\u001B[0m",
      "\u001B[0;31mKeyError\u001B[0m                                  Traceback (most recent call last)",
      "Input \u001B[0;32mIn [57]\u001B[0m, in \u001B[0;36m<module>\u001B[0;34m\u001B[0m\n\u001B[1;32m      2\u001B[0m \u001B[38;5;28mprint\u001B[39m(\u001B[38;5;241m*\u001B[39mvals)\n\u001B[1;32m      3\u001B[0m \u001B[38;5;28mprint\u001B[39m(\u001B[38;5;124m\"\u001B[39m\u001B[38;5;132;01m{a}\u001B[39;00m\u001B[38;5;124m: \u001B[39m\u001B[38;5;132;01m{b}\u001B[39;00m\u001B[38;5;124m\"\u001B[39m\u001B[38;5;241m.\u001B[39mformat(\u001B[38;5;241m*\u001B[39m\u001B[38;5;241m*\u001B[39mvals))\n\u001B[0;32m----> 4\u001B[0m \u001B[38;5;28mprint\u001B[39m(\u001B[38;5;124;43m\"\u001B[39;49m\u001B[38;5;132;43;01m{a}\u001B[39;49;00m\u001B[38;5;124;43m: \u001B[39;49m\u001B[38;5;132;43;01m{c}\u001B[39;49;00m\u001B[38;5;124;43m\"\u001B[39;49m\u001B[38;5;241;43m.\u001B[39;49m\u001B[43mformat\u001B[49m\u001B[43m(\u001B[49m\u001B[38;5;241;43m*\u001B[39;49m\u001B[38;5;241;43m*\u001B[39;49m\u001B[43mvals\u001B[49m\u001B[43m)\u001B[49m)\n",
      "\u001B[0;31mKeyError\u001B[0m: 'c'"
     ]
    }
   ],
   "source": [
    "vals = {\"a\": 1, \"b\": 2}\n",
    "print(*vals)\n",
    "print(\"{a}: {b}\".format(**vals))\n",
    "print(\"{a}: {c}\".format(**vals))"
   ],
   "metadata": {
    "collapsed": false,
    "pycharm": {
     "name": "#%%\n"
    }
   }
  },
  {
   "cell_type": "code",
   "execution_count": 64,
   "outputs": [
    {
     "name": "stdout",
     "output_type": "stream",
     "text": [
      "this is\\traw\n",
      "this is not\t raw\n"
     ]
    }
   ],
   "source": [
    "print(r\"this is\\traw\")\n",
    "print(\"this is not\\t raw\")"
   ],
   "metadata": {
    "collapsed": false,
    "pycharm": {
     "name": "#%%\n"
    }
   }
  },
  {
   "cell_type": "code",
   "execution_count": 66,
   "outputs": [
    {
     "data": {
      "text/plain": "[1, 2, 1, 2]"
     },
     "execution_count": 66,
     "metadata": {},
     "output_type": "execute_result"
    }
   ],
   "source": [
    "[1, 2] * 2"
   ],
   "metadata": {
    "collapsed": false,
    "pycharm": {
     "name": "#%%\n"
    }
   }
  },
  {
   "cell_type": "code",
   "execution_count": 70,
   "outputs": [
    {
     "data": {
      "text/plain": "[10, 20]"
     },
     "execution_count": 70,
     "metadata": {},
     "output_type": "execute_result"
    }
   ],
   "source": [
    "l = []\n",
    "l.insert(0, 10)\n",
    "l.append(20)\n",
    "l"
   ],
   "metadata": {
    "collapsed": false,
    "pycharm": {
     "name": "#%%\n"
    }
   }
  },
  {
   "cell_type": "code",
   "execution_count": 75,
   "outputs": [
    {
     "data": {
      "text/plain": "['andi', 'kevin', 'lea']"
     },
     "metadata": {},
     "output_type": "display_data"
    },
    {
     "ename": "TypeError",
     "evalue": "'dict' object is not callable",
     "output_type": "error",
     "traceback": [
      "\u001B[0;31m---------------------------------------------------------------------------\u001B[0m",
      "\u001B[0;31mTypeError\u001B[0m                                 Traceback (most recent call last)",
      "Input \u001B[0;32mIn [75]\u001B[0m, in \u001B[0;36m<module>\u001B[0;34m\u001B[0m\n\u001B[1;32m      1\u001B[0m d \u001B[38;5;241m=\u001B[39m {\u001B[38;5;124m\"\u001B[39m\u001B[38;5;124mandi\u001B[39m\u001B[38;5;124m\"\u001B[39m: \u001B[38;5;241m4\u001B[39m, \u001B[38;5;124m\"\u001B[39m\u001B[38;5;124mkevin\u001B[39m\u001B[38;5;124m\"\u001B[39m: \u001B[38;5;241m1\u001B[39m, \u001B[38;5;124m\"\u001B[39m\u001B[38;5;124mlea\u001B[39m\u001B[38;5;124m\"\u001B[39m: \u001B[38;5;241m2\u001B[39m}\n\u001B[1;32m      2\u001B[0m display(\u001B[38;5;28mlist\u001B[39m(d))\n\u001B[0;32m----> 3\u001B[0m d2 \u001B[38;5;241m=\u001B[39m \u001B[38;5;28;43mdict\u001B[39;49m\u001B[43m(\u001B[49m\u001B[38;5;28;43mlist\u001B[39;49m\u001B[43m(\u001B[49m\u001B[43md\u001B[49m\u001B[43m)\u001B[49m\u001B[43m)\u001B[49m\n\u001B[1;32m      4\u001B[0m display(d2)\n",
      "\u001B[0;31mTypeError\u001B[0m: 'dict' object is not callable"
     ]
    }
   ],
   "source": [
    "d = {\"andi\": 4, \"kevin\": 1, \"lea\": 2}\n",
    "display(list(d))\n",
    "d2 = dict(list(d))\n",
    "display(d2)"
   ],
   "metadata": {
    "collapsed": false,
    "pycharm": {
     "name": "#%%\n"
    }
   }
  },
  {
   "cell_type": "markdown",
   "source": [
    "## Slicing"
   ],
   "metadata": {
    "collapsed": false,
    "pycharm": {
     "name": "#%% md\n"
    }
   }
  },
  {
   "cell_type": "code",
   "execution_count": 3,
   "outputs": [
    {
     "data": {
      "text/plain": "'Forward'"
     },
     "metadata": {},
     "output_type": "display_data"
    },
    {
     "data": {
      "text/plain": "(0, 1)"
     },
     "metadata": {},
     "output_type": "display_data"
    },
    {
     "data": {
      "text/plain": "(3, 4, 5, 6)"
     },
     "metadata": {},
     "output_type": "display_data"
    },
    {
     "data": {
      "text/plain": "(0, 1, 2, 3)"
     },
     "metadata": {},
     "output_type": "display_data"
    },
    {
     "data": {
      "text/plain": "(5, 6, 7, 8, 9)"
     },
     "metadata": {},
     "output_type": "display_data"
    },
    {
     "data": {
      "text/plain": "'Backward'"
     },
     "metadata": {},
     "output_type": "display_data"
    },
    {
     "data": {
      "text/plain": "(2, 3, 4, 5, 6, 7, 8)"
     },
     "metadata": {},
     "output_type": "display_data"
    },
    {
     "data": {
      "text/plain": "(7, 8, 9)"
     },
     "metadata": {},
     "output_type": "display_data"
    },
    {
     "data": {
      "text/plain": "(0, 1, 2, 3, 4, 5, 6, 7)"
     },
     "metadata": {},
     "output_type": "display_data"
    },
    {
     "data": {
      "text/plain": "(5, 6, 7)"
     },
     "metadata": {},
     "output_type": "display_data"
    },
    {
     "data": {
      "text/plain": "'Increment'"
     },
     "metadata": {},
     "output_type": "display_data"
    },
    {
     "data": {
      "text/plain": "(3, 5)"
     },
     "metadata": {},
     "output_type": "display_data"
    },
    {
     "data": {
      "text/plain": "(0, 2)"
     },
     "metadata": {},
     "output_type": "display_data"
    },
    {
     "data": {
      "text/plain": "(6, 8)"
     },
     "metadata": {},
     "output_type": "display_data"
    },
    {
     "data": {
      "text/plain": "'Reverse'"
     },
     "metadata": {},
     "output_type": "display_data"
    },
    {
     "data": {
      "text/plain": "(9, 8, 7, 6, 5, 4, 3, 2, 1, 0)"
     },
     "metadata": {},
     "output_type": "display_data"
    },
    {
     "data": {
      "text/plain": "(5, 4, 3)"
     },
     "metadata": {},
     "output_type": "display_data"
    },
    {
     "data": {
      "text/plain": "(9, 8, 7)"
     },
     "metadata": {},
     "output_type": "display_data"
    },
    {
     "data": {
      "text/plain": "(0, 1, 2, 3, 4, 5, 6, 7, 8, 9)"
     },
     "metadata": {},
     "output_type": "display_data"
    }
   ],
   "source": [
    "tup = tuple(range(0, 10))\n",
    "display(\"Forward\")\n",
    "display(tup[0:2])\n",
    "display(tup[3:7])\n",
    "display(tup[:4])\n",
    "display(tup[5:])\n",
    "\n",
    "display(\"Backward\")\n",
    "display(tup[2:-1])\n",
    "display(tup[-3:])\n",
    "display(tup[:-2])\n",
    "display(tup[-5:-2])\n",
    "\n",
    "display(\"Increment\")\n",
    "display(tup[3:7:2])\n",
    "display(tup[:4:2])\n",
    "display(tup[-4::2])\n",
    "\n",
    "display(\"Reverse\")\n",
    "display(tup[::-1])\n",
    "display(tup[5:2:-1])\n",
    "display(tup[-1:-4:-1])\n",
    "\n",
    "display(tup[0:10])"
   ],
   "metadata": {
    "collapsed": false,
    "pycharm": {
     "name": "#%%\n"
    }
   }
  },
  {
   "cell_type": "markdown",
   "source": [
    "## Containers"
   ],
   "metadata": {
    "collapsed": false,
    "pycharm": {
     "name": "#%% md\n"
    }
   }
  },
  {
   "cell_type": "code",
   "execution_count": 6,
   "outputs": [
    {
     "data": {
      "text/plain": "dict"
     },
     "execution_count": 6,
     "metadata": {},
     "output_type": "execute_result"
    }
   ],
   "source": [
    "type({})"
   ],
   "metadata": {
    "collapsed": false,
    "pycharm": {
     "name": "#%%\n"
    }
   }
  },
  {
   "cell_type": "markdown",
   "source": [
    "## Comprehensions"
   ],
   "metadata": {
    "collapsed": false,
    "pycharm": {
     "name": "#%% md\n"
    }
   }
  },
  {
   "cell_type": "code",
   "execution_count": 9,
   "outputs": [
    {
     "data": {
      "text/plain": "[0, 0, 0, 2, 0, 2, 0, 2, 4, 0, 2, 4, 0, 2, 4, 6, 0, 2, 4, 6, 0, 2, 4, 6, 8]"
     },
     "metadata": {},
     "output_type": "display_data"
    }
   ],
   "source": [
    "display([x for y in range(0, 10) for x in range(0, y) if x % 2 == 0])\n",
    "\n",
    "l = []\n",
    "for y in range(0, 10):\n",
    "    for x in range(0, y):\n",
    "        if x % 2 == 0:\n",
    "            l.append(x)"
   ],
   "metadata": {
    "collapsed": false,
    "pycharm": {
     "name": "#%%\n"
    }
   }
  },
  {
   "cell_type": "code",
   "execution_count": 17,
   "outputs": [
    {
     "data": {
      "text/plain": "{'a': 37,\n 'b': 77,\n 'c': 34,\n 'd': 18,\n 'e': 46,\n 'f': 25,\n 'g': 42,\n 'h': 27,\n 'i': 19,\n 'j': 73,\n 'k': 57,\n 'l': 17,\n 'm': 50,\n 'n': 96,\n 'o': 70,\n 'p': 100,\n 'q': 61,\n 'r': 24,\n 's': 3,\n 't': 88,\n 'u': 91,\n 'v': 57,\n 'w': 93,\n 'x': 76,\n 'y': 19,\n 'z': 79}"
     },
     "execution_count": 17,
     "metadata": {},
     "output_type": "execute_result"
    }
   ],
   "source": [
    "import random\n",
    "\n",
    "rand = random.Random()\n",
    "{chr(k): rand.randint(0, 100) for k in range(ord('a'), ord('z') + 1)}"
   ],
   "metadata": {
    "collapsed": false,
    "pycharm": {
     "name": "#%%\n"
    }
   }
  },
  {
   "cell_type": "code",
   "execution_count": 1,
   "outputs": [
    {
     "ename": "NameError",
     "evalue": "name 'random' is not defined",
     "output_type": "error",
     "traceback": [
      "\u001B[0;31m---------------------------------------------------------------------------\u001B[0m",
      "\u001B[0;31mNameError\u001B[0m                                 Traceback (most recent call last)",
      "Input \u001B[0;32mIn [1]\u001B[0m, in \u001B[0;36m<module>\u001B[0;34m\u001B[0m\n\u001B[0;32m----> 1\u001B[0m rand \u001B[38;5;241m=\u001B[39m \u001B[43mrandom\u001B[49m\u001B[38;5;241m.\u001B[39mRandom()\n\u001B[1;32m      2\u001B[0m {rand\u001B[38;5;241m.\u001B[39mrandint(\u001B[38;5;241m0\u001B[39m, \u001B[38;5;241m10\u001B[39m) \u001B[38;5;28;01mfor\u001B[39;00m _ \u001B[38;5;129;01min\u001B[39;00m \u001B[38;5;28mrange\u001B[39m(\u001B[38;5;241m0\u001B[39m, \u001B[38;5;241m100\u001B[39m)}\n",
      "\u001B[0;31mNameError\u001B[0m: name 'random' is not defined"
     ]
    }
   ],
   "source": [
    "rand = random.Random()\n",
    "{rand.randint(0, 10) for _ in range(0, 100)}"
   ],
   "metadata": {
    "collapsed": false,
    "pycharm": {
     "name": "#%%\n"
    }
   }
  },
  {
   "cell_type": "markdown",
   "source": [
    "## Iterators"
   ],
   "metadata": {
    "collapsed": false,
    "pycharm": {
     "name": "#%% md\n"
    }
   }
  },
  {
   "cell_type": "code",
   "execution_count": 29,
   "outputs": [
    {
     "name": "stdout",
     "output_type": "stream",
     "text": [
      "Getting Iterated\n",
      "NEXT!\n",
      "Found Item 54\n",
      "NEXT!\n",
      "Found Item 45\n",
      "NEXT!\n",
      "Found Item 47\n",
      "NEXT!\n",
      "Found Item 21\n",
      "NEXT!\n",
      "Found Item 76\n",
      "NEXT!\n",
      "Found Item 54\n",
      "NEXT!\n",
      "Found Item 100\n",
      "NEXT!\n",
      "Found Item 65\n",
      "NEXT!\n",
      "Found Item 76\n",
      "NEXT!\n",
      "Found Item 92\n",
      "NEXT!\n",
      "Found Item 58\n",
      "NEXT!\n"
     ]
    },
    {
     "ename": "StopIteration",
     "evalue": "",
     "output_type": "error",
     "traceback": [
      "\u001B[0;31m---------------------------------------------------------------------------\u001B[0m",
      "\u001B[0;31mStopIteration\u001B[0m                             Traceback (most recent call last)",
      "Input \u001B[0;32mIn [29]\u001B[0m, in \u001B[0;36m<module>\u001B[0;34m\u001B[0m\n\u001B[1;32m     19\u001B[0m \u001B[38;5;28;01mwhile\u001B[39;00m x:\n\u001B[1;32m     20\u001B[0m     \u001B[38;5;28mprint\u001B[39m(\u001B[38;5;124m\"\u001B[39m\u001B[38;5;124mFound Item\u001B[39m\u001B[38;5;124m\"\u001B[39m, x)\n\u001B[0;32m---> 21\u001B[0m     x \u001B[38;5;241m=\u001B[39m \u001B[38;5;28;43mnext\u001B[39;49m\u001B[43m(\u001B[49m\u001B[43mit\u001B[49m\u001B[43m)\u001B[49m\n\u001B[1;32m     23\u001B[0m \u001B[38;5;28;01mfor\u001B[39;00m x \u001B[38;5;129;01min\u001B[39;00m \u001B[38;5;28miter\u001B[39m(AllTheNumbers()):\n\u001B[1;32m     24\u001B[0m     display(x)\n",
      "Input \u001B[0;32mIn [29]\u001B[0m, in \u001B[0;36mAllTheNumbers.__next__\u001B[0;34m(self)\u001B[0m\n\u001B[1;32m      7\u001B[0m \u001B[38;5;28;01mif\u001B[39;00m \u001B[38;5;28mself\u001B[39m\u001B[38;5;241m.\u001B[39mcounter \u001B[38;5;241m<\u001B[39m \u001B[38;5;241m0\u001B[39m:\n\u001B[1;32m      8\u001B[0m     \u001B[38;5;28mself\u001B[39m\u001B[38;5;241m.\u001B[39mcounter \u001B[38;5;241m=\u001B[39m \u001B[38;5;241m10\u001B[39m\n\u001B[0;32m----> 9\u001B[0m     \u001B[38;5;28;01mraise\u001B[39;00m \u001B[38;5;167;01mStopIteration\u001B[39;00m()\n\u001B[1;32m     10\u001B[0m \u001B[38;5;28mself\u001B[39m\u001B[38;5;241m.\u001B[39mcounter \u001B[38;5;241m-\u001B[39m\u001B[38;5;241m=\u001B[39m \u001B[38;5;241m1\u001B[39m\n\u001B[1;32m     11\u001B[0m \u001B[38;5;28;01mreturn\u001B[39;00m rand\u001B[38;5;241m.\u001B[39mrandint(\u001B[38;5;241m0\u001B[39m, \u001B[38;5;241m100\u001B[39m)\n",
      "\u001B[0;31mStopIteration\u001B[0m: "
     ]
    }
   ],
   "source": [
    "class AllTheNumbers:\n",
    "    counter = 10\n",
    "    rand = random.Random()\n",
    "\n",
    "    def __next__(self):\n",
    "        print(\"NEXT!\")\n",
    "        if self.counter < 0:\n",
    "            self.counter = 10\n",
    "            raise StopIteration()\n",
    "        self.counter -= 1\n",
    "        return rand.randint(0, 100)\n",
    "\n",
    "    def __iter__(self):\n",
    "        print(\"Getting Iterated\")\n",
    "        return self\n",
    "\n",
    "\n",
    "it = iter(AllTheNumbers())\n",
    "x = next(it)\n",
    "while x:\n",
    "    print(\"Found Item\", x)\n",
    "    x = next(it)\n",
    "else:\n",
    "    print(\"Stopped\")\n",
    "\n",
    "for x in iter(AllTheNumbers()):\n",
    "    display(x)"
   ],
   "metadata": {
    "collapsed": false,
    "pycharm": {
     "name": "#%%\n"
    }
   }
  },
  {
   "cell_type": "markdown",
   "source": [
    "## Zip Operator"
   ],
   "metadata": {
    "collapsed": false,
    "pycharm": {
     "name": "#%% md\n"
    }
   }
  },
  {
   "cell_type": "code",
   "execution_count": 40,
   "outputs": [
    {
     "data": {
      "text/plain": "[(0, 0), (1, 1), (2, 2), (3, 3), (4, 4), (5, 5), (6, 6), (7, 7)]"
     },
     "metadata": {},
     "output_type": "display_data"
    },
    {
     "data": {
      "text/plain": "[(1, 4), (2, 5), (3, 6)]"
     },
     "metadata": {},
     "output_type": "display_data"
    },
    {
     "data": {
      "text/plain": "(1, 2, 3)"
     },
     "metadata": {},
     "output_type": "display_data"
    },
    {
     "data": {
      "text/plain": "(4, 5, 6)"
     },
     "metadata": {},
     "output_type": "display_data"
    }
   ],
   "source": [
    "display(list(zip(range(0, 10), range(0, 8))))\n",
    "x = [1, 2, 3]\n",
    "y = [4, 5, 6]\n",
    "z = list(zip(x, y))\n",
    "display(list(z))\n",
    "x2, y2 = zip(*z)\n",
    "display(x2)\n",
    "display(y2)"
   ],
   "metadata": {
    "collapsed": false,
    "pycharm": {
     "name": "#%%\n"
    }
   }
  },
  {
   "cell_type": "markdown",
   "source": [
    "## Generators"
   ],
   "metadata": {
    "collapsed": false,
    "pycharm": {
     "name": "#%% md\n"
    }
   }
  },
  {
   "cell_type": "code",
   "execution_count": 44,
   "outputs": [
    {
     "data": {
      "text/plain": "0"
     },
     "metadata": {},
     "output_type": "display_data"
    }
   ],
   "source": [
    "def gen_rand():\n",
    "    rand = random.Random()\n",
    "    for _ in range(10):\n",
    "        yield rand.randint(0, 10)\n",
    "\n",
    "\n",
    "display(next(iter(gen_rand())))  # Works like an iterator"
   ],
   "metadata": {
    "collapsed": false,
    "pycharm": {
     "name": "#%%\n"
    }
   }
  },
  {
   "cell_type": "markdown",
   "source": [
    "## Iter Tools"
   ],
   "metadata": {
    "collapsed": false,
    "pycharm": {
     "name": "#%% md\n"
    }
   }
  },
  {
   "cell_type": "code",
   "execution_count": 1,
   "outputs": [
    {
     "data": {
      "text/plain": "range(0, 10)"
     },
     "metadata": {},
     "output_type": "display_data"
    },
    {
     "data": {
      "text/plain": "range(0, 10)"
     },
     "metadata": {},
     "output_type": "display_data"
    },
    {
     "data": {
      "text/plain": "range(0, 10)"
     },
     "metadata": {},
     "output_type": "display_data"
    },
    {
     "data": {
      "text/plain": "range(0, 10)"
     },
     "metadata": {},
     "output_type": "display_data"
    },
    {
     "data": {
      "text/plain": "range(0, 10)"
     },
     "metadata": {},
     "output_type": "display_data"
    },
    {
     "data": {
      "text/plain": "range(0, 10)"
     },
     "metadata": {},
     "output_type": "display_data"
    },
    {
     "data": {
      "text/plain": "range(0, 10)"
     },
     "metadata": {},
     "output_type": "display_data"
    },
    {
     "data": {
      "text/plain": "range(0, 10)"
     },
     "metadata": {},
     "output_type": "display_data"
    },
    {
     "data": {
      "text/plain": "range(0, 10)"
     },
     "metadata": {},
     "output_type": "display_data"
    },
    {
     "data": {
      "text/plain": "range(0, 10)"
     },
     "metadata": {},
     "output_type": "display_data"
    }
   ],
   "source": [
    "import itertools\n",
    "\n",
    "count = 0\n",
    "\n",
    "for x in itertools.repeat(range(10), 10):\n",
    "    display(x)\n",
    "    count += 1\n",
    "    if count > 100:\n",
    "        break"
   ],
   "metadata": {
    "collapsed": false,
    "pycharm": {
     "name": "#%%\n"
    }
   }
  },
  {
   "cell_type": "markdown",
   "source": [
    "## Comprehensions"
   ],
   "metadata": {
    "collapsed": false,
    "pycharm": {
     "name": "#%% md\n"
    }
   }
  },
  {
   "cell_type": "code",
   "execution_count": 3,
   "outputs": [
    {
     "data": {
      "text/plain": "[0,\n 7,\n 14,\n 21,\n 28,\n 35,\n 42,\n 49,\n 56,\n 63,\n 70,\n 77,\n 84,\n 91,\n 98,\n 105,\n 112,\n 119,\n 126,\n 133,\n 140,\n 147,\n 154,\n 161,\n 168,\n 175,\n 182,\n 189,\n 196,\n 203,\n 210,\n 217,\n 224,\n 231,\n 238,\n 245,\n 252,\n 259,\n 266,\n 273,\n 280,\n 287,\n 294,\n 301,\n 308,\n 315,\n 322,\n 329,\n 336,\n 343,\n 350,\n 357,\n 364,\n 371,\n 378,\n 385,\n 392,\n 399,\n 406,\n 413,\n 420,\n 427,\n 434,\n 441,\n 448,\n 455,\n 462,\n 469,\n 476,\n 483,\n 490,\n 497,\n 504,\n 511,\n 518,\n 525,\n 532,\n 539,\n 546,\n 553,\n 560,\n 567,\n 574,\n 581,\n 588,\n 595,\n 602,\n 609,\n 616,\n 623,\n 630,\n 637,\n 644,\n 651,\n 658,\n 665,\n 672,\n 679,\n 686,\n 693,\n 700,\n 707,\n 714,\n 721,\n 728,\n 735,\n 742,\n 749,\n 756,\n 763,\n 770,\n 777,\n 784,\n 791,\n 798,\n 805,\n 812,\n 819,\n 826,\n 833,\n 840,\n 847,\n 854,\n 861,\n 868,\n 875,\n 882,\n 889,\n 896,\n 903,\n 910,\n 917,\n 924,\n 931,\n 938,\n 945,\n 952,\n 959,\n 966,\n 973,\n 980,\n 987,\n 994]"
     },
     "execution_count": 3,
     "metadata": {},
     "output_type": "execute_result"
    }
   ],
   "source": [
    "[x for x in range(1001) if x % 7 == 0]"
   ],
   "metadata": {
    "collapsed": false,
    "pycharm": {
     "name": "#%%\n"
    }
   }
  },
  {
   "cell_type": "code",
   "execution_count": 5,
   "outputs": [
    {
     "data": {
      "text/plain": "[3,\n 13,\n 23,\n 30,\n 31,\n 32,\n 33,\n 34,\n 35,\n 36,\n 37,\n 38,\n 39,\n 43,\n 53,\n 63,\n 73,\n 83,\n 93,\n 103,\n 113,\n 123,\n 130,\n 131,\n 132,\n 133,\n 134,\n 135,\n 136,\n 137,\n 138,\n 139,\n 143,\n 153,\n 163,\n 173,\n 183,\n 193,\n 203,\n 213,\n 223,\n 230,\n 231,\n 232,\n 233,\n 234,\n 235,\n 236,\n 237,\n 238,\n 239,\n 243,\n 253,\n 263,\n 273,\n 283,\n 293,\n 300,\n 301,\n 302,\n 303,\n 304,\n 305,\n 306,\n 307,\n 308,\n 309,\n 310,\n 311,\n 312,\n 313,\n 314,\n 315,\n 316,\n 317,\n 318,\n 319,\n 320,\n 321,\n 322,\n 323,\n 324,\n 325,\n 326,\n 327,\n 328,\n 329,\n 330,\n 331,\n 332,\n 333,\n 334,\n 335,\n 336,\n 337,\n 338,\n 339,\n 340,\n 341,\n 342,\n 343,\n 344,\n 345,\n 346,\n 347,\n 348,\n 349,\n 350,\n 351,\n 352,\n 353,\n 354,\n 355,\n 356,\n 357,\n 358,\n 359,\n 360,\n 361,\n 362,\n 363,\n 364,\n 365,\n 366,\n 367,\n 368,\n 369,\n 370,\n 371,\n 372,\n 373,\n 374,\n 375,\n 376,\n 377,\n 378,\n 379,\n 380,\n 381,\n 382,\n 383,\n 384,\n 385,\n 386,\n 387,\n 388,\n 389,\n 390,\n 391,\n 392,\n 393,\n 394,\n 395,\n 396,\n 397,\n 398,\n 399,\n 403,\n 413,\n 423,\n 430,\n 431,\n 432,\n 433,\n 434,\n 435,\n 436,\n 437,\n 438,\n 439,\n 443,\n 453,\n 463,\n 473,\n 483,\n 493,\n 503,\n 513,\n 523,\n 530,\n 531,\n 532,\n 533,\n 534,\n 535,\n 536,\n 537,\n 538,\n 539,\n 543,\n 553,\n 563,\n 573,\n 583,\n 593,\n 603,\n 613,\n 623,\n 630,\n 631,\n 632,\n 633,\n 634,\n 635,\n 636,\n 637,\n 638,\n 639,\n 643,\n 653,\n 663,\n 673,\n 683,\n 693,\n 703,\n 713,\n 723,\n 730,\n 731,\n 732,\n 733,\n 734,\n 735,\n 736,\n 737,\n 738,\n 739,\n 743,\n 753,\n 763,\n 773,\n 783,\n 793,\n 803,\n 813,\n 823,\n 830,\n 831,\n 832,\n 833,\n 834,\n 835,\n 836,\n 837,\n 838,\n 839,\n 843,\n 853,\n 863,\n 873,\n 883,\n 893,\n 903,\n 913,\n 923,\n 930,\n 931,\n 932,\n 933,\n 934,\n 935,\n 936,\n 937,\n 938,\n 939,\n 943,\n 953,\n 963,\n 973,\n 983,\n 993]"
     },
     "execution_count": 5,
     "metadata": {},
     "output_type": "execute_result"
    }
   ],
   "source": [
    "[x for x in range(1001) if \"3\" in str(x)]"
   ],
   "metadata": {
    "collapsed": false,
    "pycharm": {
     "name": "#%%\n"
    }
   }
  },
  {
   "cell_type": "code",
   "execution_count": 16,
   "outputs": [
    {
     "name": "stdout",
     "output_type": "stream",
     "text": [
      "Door #1 is open\t\tDoor #1 is open\n",
      "Door #2 is closed\t\tDoor #2 is closed\n",
      "Door #3 is closed\t\tDoor #3 is closed\n",
      "Door #4 is open\t\tDoor #4 is open\n",
      "Door #5 is closed\t\tDoor #5 is closed\n",
      "Door #6 is closed\t\tDoor #6 is closed\n",
      "Door #7 is closed\t\tDoor #7 is closed\n",
      "Door #8 is closed\t\tDoor #8 is closed\n",
      "Door #9 is open\t\tDoor #9 is open\n",
      "Door #10 is closed\t\tDoor #10 is closed\n",
      "Door #11 is closed\t\tDoor #11 is closed\n",
      "Door #12 is closed\t\tDoor #12 is closed\n",
      "Door #13 is closed\t\tDoor #13 is closed\n",
      "Door #14 is closed\t\tDoor #14 is closed\n",
      "Door #15 is closed\t\tDoor #15 is closed\n",
      "Door #16 is open\t\tDoor #16 is open\n",
      "Door #17 is closed\t\tDoor #17 is closed\n",
      "Door #18 is closed\t\tDoor #18 is closed\n",
      "Door #19 is closed\t\tDoor #19 is closed\n",
      "Door #20 is closed\t\tDoor #20 is closed\n",
      "Door #21 is closed\t\tDoor #21 is closed\n",
      "Door #22 is closed\t\tDoor #22 is closed\n",
      "Door #23 is closed\t\tDoor #23 is closed\n",
      "Door #24 is closed\t\tDoor #24 is closed\n",
      "Door #25 is open\t\tDoor #25 is open\n",
      "Door #26 is closed\t\tDoor #26 is closed\n",
      "Door #27 is closed\t\tDoor #27 is closed\n",
      "Door #28 is closed\t\tDoor #28 is closed\n",
      "Door #29 is closed\t\tDoor #29 is closed\n",
      "Door #30 is closed\t\tDoor #30 is closed\n",
      "Door #31 is closed\t\tDoor #31 is closed\n",
      "Door #32 is closed\t\tDoor #32 is closed\n",
      "Door #33 is closed\t\tDoor #33 is closed\n",
      "Door #34 is closed\t\tDoor #34 is closed\n",
      "Door #35 is closed\t\tDoor #35 is closed\n",
      "Door #36 is open\t\tDoor #36 is open\n",
      "Door #37 is closed\t\tDoor #37 is closed\n",
      "Door #38 is closed\t\tDoor #38 is closed\n",
      "Door #39 is closed\t\tDoor #39 is closed\n",
      "Door #40 is closed\t\tDoor #40 is closed\n",
      "Door #41 is closed\t\tDoor #41 is closed\n",
      "Door #42 is closed\t\tDoor #42 is closed\n",
      "Door #43 is closed\t\tDoor #43 is closed\n",
      "Door #44 is closed\t\tDoor #44 is closed\n",
      "Door #45 is closed\t\tDoor #45 is closed\n",
      "Door #46 is closed\t\tDoor #46 is closed\n",
      "Door #47 is closed\t\tDoor #47 is closed\n",
      "Door #48 is closed\t\tDoor #48 is closed\n",
      "Door #49 is open\t\tDoor #49 is open\n",
      "Door #50 is closed\t\tDoor #50 is closed\n",
      "Door #51 is closed\t\tDoor #51 is closed\n",
      "Door #52 is closed\t\tDoor #52 is closed\n",
      "Door #53 is closed\t\tDoor #53 is closed\n",
      "Door #54 is closed\t\tDoor #54 is closed\n",
      "Door #55 is closed\t\tDoor #55 is closed\n",
      "Door #56 is closed\t\tDoor #56 is closed\n",
      "Door #57 is closed\t\tDoor #57 is closed\n",
      "Door #58 is closed\t\tDoor #58 is closed\n",
      "Door #59 is closed\t\tDoor #59 is closed\n",
      "Door #60 is closed\t\tDoor #60 is closed\n",
      "Door #61 is closed\t\tDoor #61 is closed\n",
      "Door #62 is closed\t\tDoor #62 is closed\n",
      "Door #63 is closed\t\tDoor #63 is closed\n",
      "Door #64 is open\t\tDoor #64 is open\n",
      "Door #65 is closed\t\tDoor #65 is closed\n",
      "Door #66 is closed\t\tDoor #66 is closed\n",
      "Door #67 is closed\t\tDoor #67 is closed\n",
      "Door #68 is closed\t\tDoor #68 is closed\n",
      "Door #69 is closed\t\tDoor #69 is closed\n",
      "Door #70 is closed\t\tDoor #70 is closed\n",
      "Door #71 is closed\t\tDoor #71 is closed\n",
      "Door #72 is closed\t\tDoor #72 is closed\n",
      "Door #73 is closed\t\tDoor #73 is closed\n",
      "Door #74 is closed\t\tDoor #74 is closed\n",
      "Door #75 is closed\t\tDoor #75 is closed\n",
      "Door #76 is closed\t\tDoor #76 is closed\n",
      "Door #77 is closed\t\tDoor #77 is closed\n",
      "Door #78 is closed\t\tDoor #78 is closed\n",
      "Door #79 is closed\t\tDoor #79 is closed\n",
      "Door #80 is closed\t\tDoor #80 is closed\n",
      "Door #81 is open\t\tDoor #81 is open\n",
      "Door #82 is closed\t\tDoor #82 is closed\n",
      "Door #83 is closed\t\tDoor #83 is closed\n",
      "Door #84 is closed\t\tDoor #84 is closed\n",
      "Door #85 is closed\t\tDoor #85 is closed\n",
      "Door #86 is closed\t\tDoor #86 is closed\n",
      "Door #87 is closed\t\tDoor #87 is closed\n",
      "Door #88 is closed\t\tDoor #88 is closed\n",
      "Door #89 is closed\t\tDoor #89 is closed\n",
      "Door #90 is closed\t\tDoor #90 is closed\n",
      "Door #91 is closed\t\tDoor #91 is closed\n",
      "Door #92 is closed\t\tDoor #92 is closed\n",
      "Door #93 is closed\t\tDoor #93 is closed\n",
      "Door #94 is closed\t\tDoor #94 is closed\n",
      "Door #95 is closed\t\tDoor #95 is closed\n",
      "Door #96 is closed\t\tDoor #96 is closed\n",
      "Door #97 is closed\t\tDoor #97 is closed\n",
      "Door #98 is closed\t\tDoor #98 is closed\n",
      "Door #99 is closed\t\tDoor #99 is closed\n",
      "Door #100 is open\t\tDoor #100 is open\n"
     ]
    }
   ],
   "source": [
    "doors = [False] * 100\n",
    "\n",
    "for i in range(101):\n",
    "    for d in range(len(doors)):\n",
    "        if (d + 1) % (i + 1) == 0:\n",
    "            doors[d] = not doors[d]\n",
    "\n",
    "\n",
    "doors2 = ([(i ** 0.5) % 1 == 0 for i in range(1, 101)])\n",
    "\n",
    "for i, d in enumerate(doors):\n",
    "    print(f\"Door #{i + 1} is {'open' if d else 'closed'}\\t\\tDoor #{i + 1} is {'open' if doors2[i] else 'closed'}\")"
   ],
   "metadata": {
    "collapsed": false,
    "pycharm": {
     "name": "#%%\n"
    }
   }
  },
  {
   "cell_type": "code",
   "execution_count": 20,
   "outputs": [
    {
     "data": {
      "text/plain": "['January',\n 'February',\n 'March',\n 'April',\n 'May',\n 'June',\n 'July',\n 'August',\n 'September',\n 'October',\n 'November',\n 'December']"
     },
     "execution_count": 20,
     "metadata": {},
     "output_type": "execute_result"
    }
   ],
   "source": [
    "import calendar\n",
    "[calendar.month_name[x] for x in range(1, 13)]"
   ],
   "metadata": {
    "collapsed": false,
    "pycharm": {
     "name": "#%%\n"
    }
   }
  },
  {
   "cell_type": "code",
   "execution_count": 22,
   "outputs": [
    {
     "data": {
      "text/plain": "['May', 'June', 'July', 'August']"
     },
     "execution_count": 22,
     "metadata": {},
     "output_type": "execute_result"
    }
   ],
   "source": [
    "[calendar.month_name[x] for x in range(1, 13) if \"r\" not in calendar.month_name[x]]"
   ],
   "metadata": {
    "collapsed": false,
    "pycharm": {
     "name": "#%%\n"
    }
   }
  },
  {
   "cell_type": "code",
   "execution_count": 24,
   "outputs": [
    {
     "data": {
      "text/plain": "[(1, 'x'), (1, 'y'), (3, 'x'), (3, 'y')]"
     },
     "execution_count": 24,
     "metadata": {},
     "output_type": "execute_result"
    }
   ],
   "source": [
    "[(a, b) for a in [1, 3] for b in [\"x\", \"y\"]]"
   ],
   "metadata": {
    "collapsed": false,
    "pycharm": {
     "name": "#%%\n"
    }
   }
  },
  {
   "cell_type": "code",
   "execution_count": 2,
   "outputs": [
    {
     "data": {
      "text/plain": "{'a': 97,\n 'b': 98,\n 'c': 99,\n 'd': 100,\n 'e': 101,\n 'f': 102,\n 'g': 103,\n 'h': 104,\n 'i': 105,\n 'j': 106,\n 'k': 107,\n 'l': 108,\n 'm': 109,\n 'n': 110,\n 'o': 111,\n 'p': 112,\n 'q': 113,\n 'r': 114,\n 's': 115,\n 't': 116,\n 'u': 117,\n 'v': 118,\n 'w': 119,\n 'x': 120,\n 'y': 121,\n 'z': 122}"
     },
     "execution_count": 2,
     "metadata": {},
     "output_type": "execute_result"
    }
   ],
   "source": [
    "{chr(k):k for k in range(ord(\"a\"), ord(\"z\") + 1)}"
   ],
   "metadata": {
    "collapsed": false,
    "pycharm": {
     "name": "#%%\n"
    }
   }
  },
  {
   "cell_type": "code",
   "execution_count": 5,
   "outputs": [
    {
     "data": {
      "text/plain": "['PPR', 'WEA']"
     },
     "execution_count": 5,
     "metadata": {},
     "output_type": "execute_result"
    }
   ],
   "source": [
    "l = [\"PPR\", \"WEA\", \"SWK\", \"ITR\", \"VIR\", \"VPS\", \"SWE\", \"SSD\", \"MAS\", \"EIR\"]\n",
    "l[0:2]"
   ],
   "metadata": {
    "collapsed": false,
    "pycharm": {
     "name": "#%%\n"
    }
   }
  },
  {
   "cell_type": "code",
   "execution_count": 7,
   "outputs": [
    {
     "data": {
      "text/plain": "['ITR', 'VIR', 'VPS', 'SWE']"
     },
     "execution_count": 7,
     "metadata": {},
     "output_type": "execute_result"
    }
   ],
   "source": [
    "l[3:7]"
   ],
   "metadata": {
    "collapsed": false,
    "pycharm": {
     "name": "#%%\n"
    }
   }
  },
  {
   "cell_type": "code",
   "execution_count": 9,
   "outputs": [
    {
     "data": {
      "text/plain": "['PPR', 'WEA', 'SWK', 'ITR']"
     },
     "execution_count": 9,
     "metadata": {},
     "output_type": "execute_result"
    }
   ],
   "source": [
    "l[:4]"
   ],
   "metadata": {
    "collapsed": false,
    "pycharm": {
     "name": "#%%\n"
    }
   }
  },
  {
   "cell_type": "code",
   "execution_count": 12,
   "outputs": [
    {
     "data": {
      "text/plain": "['VPS', 'SWE', 'SSD', 'MAS', 'EIR']"
     },
     "execution_count": 12,
     "metadata": {},
     "output_type": "execute_result"
    }
   ],
   "source": [
    "l[5:]"
   ],
   "metadata": {
    "collapsed": false,
    "pycharm": {
     "name": "#%%\n"
    }
   }
  },
  {
   "cell_type": "code",
   "execution_count": 15,
   "outputs": [
    {
     "data": {
      "text/plain": "['SWK', 'ITR', 'VIR', 'VPS', 'SWE', 'SSD', 'MAS']"
     },
     "execution_count": 15,
     "metadata": {},
     "output_type": "execute_result"
    }
   ],
   "source": [
    "l[2:-1]"
   ],
   "metadata": {
    "collapsed": false,
    "pycharm": {
     "name": "#%%\n"
    }
   }
  },
  {
   "cell_type": "code",
   "execution_count": 17,
   "outputs": [
    {
     "data": {
      "text/plain": "['SSD', 'MAS', 'EIR']"
     },
     "execution_count": 17,
     "metadata": {},
     "output_type": "execute_result"
    }
   ],
   "source": [
    "l[-3:]"
   ],
   "metadata": {
    "collapsed": false,
    "pycharm": {
     "name": "#%%\n"
    }
   }
  },
  {
   "cell_type": "code",
   "execution_count": 19,
   "outputs": [
    {
     "data": {
      "text/plain": "['PPR', 'WEA', 'SWK', 'ITR', 'VIR', 'VPS', 'SWE', 'SSD']"
     },
     "execution_count": 19,
     "metadata": {},
     "output_type": "execute_result"
    }
   ],
   "source": [
    "l[:-2]"
   ],
   "metadata": {
    "collapsed": false,
    "pycharm": {
     "name": "#%%\n"
    }
   }
  },
  {
   "cell_type": "code",
   "execution_count": 21,
   "outputs": [
    {
     "data": {
      "text/plain": "['VPS', 'SWE', 'SSD']"
     },
     "execution_count": 21,
     "metadata": {},
     "output_type": "execute_result"
    }
   ],
   "source": [
    "l[-5:-2]"
   ],
   "metadata": {
    "collapsed": false,
    "pycharm": {
     "name": "#%%\n"
    }
   }
  },
  {
   "cell_type": "code",
   "execution_count": 23,
   "outputs": [
    {
     "data": {
      "text/plain": "['ITR', 'VPS']"
     },
     "execution_count": 23,
     "metadata": {},
     "output_type": "execute_result"
    }
   ],
   "source": [
    "l[3:7:2]"
   ],
   "metadata": {
    "collapsed": false,
    "pycharm": {
     "name": "#%%\n"
    }
   }
  },
  {
   "cell_type": "code",
   "execution_count": 25,
   "outputs": [
    {
     "data": {
      "text/plain": "['PPR', 'SWK']"
     },
     "execution_count": 25,
     "metadata": {},
     "output_type": "execute_result"
    }
   ],
   "source": [
    "l[:4:2]"
   ],
   "metadata": {
    "collapsed": false,
    "pycharm": {
     "name": "#%%\n"
    }
   }
  },
  {
   "cell_type": "code",
   "execution_count": 27,
   "outputs": [
    {
     "data": {
      "text/plain": "['SWE', 'MAS']"
     },
     "execution_count": 27,
     "metadata": {},
     "output_type": "execute_result"
    }
   ],
   "source": [
    "l = [\"PPR\", \"WEA\", \"SWK\", \"ITR\", \"VIR\", \"VPS\", \"SWE\", \"SSD\", \"MAS\", \"EIR\"]\n",
    "l[-4::2]"
   ],
   "metadata": {
    "collapsed": false,
    "pycharm": {
     "name": "#%%\n"
    }
   }
  },
  {
   "cell_type": "code",
   "execution_count": 29,
   "outputs": [
    {
     "data": {
      "text/plain": "['EIR', 'MAS', 'SSD', 'SWE', 'VPS', 'VIR', 'ITR', 'SWK', 'WEA', 'PPR']"
     },
     "execution_count": 29,
     "metadata": {},
     "output_type": "execute_result"
    }
   ],
   "source": [
    "l[::-1]"
   ],
   "metadata": {
    "collapsed": false,
    "pycharm": {
     "name": "#%%\n"
    }
   }
  },
  {
   "cell_type": "code",
   "execution_count": 34,
   "outputs": [
    {
     "data": {
      "text/plain": "['VPS', 'VIR', 'ITR']"
     },
     "execution_count": 34,
     "metadata": {},
     "output_type": "execute_result"
    }
   ],
   "source": [
    "l[5:2:-1]"
   ],
   "metadata": {
    "collapsed": false,
    "pycharm": {
     "name": "#%%\n"
    }
   }
  },
  {
   "cell_type": "code",
   "execution_count": 35,
   "outputs": [
    {
     "data": {
      "text/plain": "['EIR', 'MAS', 'SSD']"
     },
     "execution_count": 35,
     "metadata": {},
     "output_type": "execute_result"
    }
   ],
   "source": [
    "l[-1:-4:-1]"
   ],
   "metadata": {
    "collapsed": false,
    "pycharm": {
     "name": "#%%\n"
    }
   }
  },
  {
   "cell_type": "code",
   "execution_count": 46,
   "outputs": [
    {
     "data": {
      "text/plain": "['__annotations__',\n '__call__',\n '__class__',\n '__closure__',\n '__code__',\n '__defaults__',\n '__delattr__',\n '__dict__',\n '__dir__',\n '__doc__',\n '__eq__',\n '__format__',\n '__ge__',\n '__get__',\n '__getattribute__',\n '__globals__',\n '__gt__',\n '__hash__',\n '__init__',\n '__init_subclass__',\n '__kwdefaults__',\n '__le__',\n '__lt__',\n '__module__',\n '__name__',\n '__ne__',\n '__new__',\n '__qualname__',\n '__reduce__',\n '__reduce_ex__',\n '__repr__',\n '__setattr__',\n '__sizeof__',\n '__str__',\n '__subclasshook__']"
     },
     "execution_count": 46,
     "metadata": {},
     "output_type": "execute_result"
    }
   ],
   "source": [
    "def arbitrary_arguments2(**kwargs):\n",
    "    pass\n",
    "\n",
    "arbitrary_arguments2(obj=\"World\", stop=1)\n",
    "\n",
    "list(range(10, 2, -1))\n",
    "dir(arbitrary_arguments2)"
   ],
   "metadata": {
    "collapsed": false,
    "pycharm": {
     "name": "#%%\n"
    }
   }
  },
  {
   "cell_type": "code",
   "execution_count": 59,
   "outputs": [
    {
     "data": {
      "text/plain": "<generator object <genexpr> at 0x7fe62b9a6c10>"
     },
     "execution_count": 59,
     "metadata": {},
     "output_type": "execute_result"
    }
   ],
   "source": [
    "import random\n",
    "def random_seq(x: int):\n",
    "    rand = random.Random()\n",
    "    for _ in range(x):\n",
    "        yield rand.randint(0, 100)\n",
    "\n",
    "seq = random_seq(10)\n",
    "l = list(seq)\n",
    "rand = random.Random()\n",
    "\n",
    "(rand.randint(0, 100) for _ in range(10))"
   ],
   "metadata": {
    "collapsed": false,
    "pycharm": {
     "name": "#%%\n"
    }
   }
  },
  {
   "cell_type": "code",
   "execution_count": 60,
   "outputs": [
    {
     "data": {
      "text/plain": "{0, 1, 2, 3, 4, 5, 6, 7, 8, 9}"
     },
     "execution_count": 60,
     "metadata": {},
     "output_type": "execute_result"
    }
   ],
   "source": [
    "{x for x in range(10)}"
   ],
   "metadata": {
    "collapsed": false,
    "pycharm": {
     "name": "#%%\n"
    }
   }
  },
  {
   "cell_type": "code",
   "execution_count": null,
   "outputs": [],
   "source": [],
   "metadata": {
    "collapsed": false,
    "pycharm": {
     "name": "#%%\n"
    }
   }
  },
  {
   "cell_type": "code",
   "execution_count": null,
   "outputs": [],
   "source": [],
   "metadata": {
    "collapsed": false,
    "pycharm": {
     "name": "#%%\n"
    }
   }
  },
  {
   "cell_type": "code",
   "execution_count": null,
   "outputs": [],
   "source": [],
   "metadata": {
    "collapsed": false,
    "pycharm": {
     "name": "#%%\n"
    }
   }
  },
  {
   "cell_type": "code",
   "execution_count": null,
   "outputs": [],
   "source": [],
   "metadata": {
    "collapsed": false,
    "pycharm": {
     "name": "#%%\n"
    }
   }
  },
  {
   "cell_type": "code",
   "execution_count": null,
   "outputs": [],
   "source": [],
   "metadata": {
    "collapsed": false,
    "pycharm": {
     "name": "#%%\n"
    }
   }
  },
  {
   "cell_type": "code",
   "execution_count": null,
   "outputs": [],
   "source": [],
   "metadata": {
    "collapsed": false,
    "pycharm": {
     "name": "#%%\n"
    }
   }
  },
  {
   "cell_type": "code",
   "execution_count": null,
   "outputs": [],
   "source": [],
   "metadata": {
    "collapsed": false,
    "pycharm": {
     "name": "#%%\n"
    }
   }
  },
  {
   "cell_type": "code",
   "execution_count": null,
   "outputs": [],
   "source": [],
   "metadata": {
    "collapsed": false,
    "pycharm": {
     "name": "#%%\n"
    }
   }
  },
  {
   "cell_type": "code",
   "execution_count": null,
   "outputs": [],
   "source": [],
   "metadata": {
    "collapsed": false,
    "pycharm": {
     "name": "#%%\n"
    }
   }
  },
  {
   "cell_type": "code",
   "execution_count": null,
   "outputs": [],
   "source": [],
   "metadata": {
    "collapsed": false,
    "pycharm": {
     "name": "#%%\n"
    }
   }
  },
  {
   "cell_type": "code",
   "execution_count": null,
   "outputs": [],
   "source": [],
   "metadata": {
    "collapsed": false,
    "pycharm": {
     "name": "#%%\n"
    }
   }
  },
  {
   "cell_type": "code",
   "execution_count": null,
   "outputs": [],
   "source": [],
   "metadata": {
    "collapsed": false,
    "pycharm": {
     "name": "#%%\n"
    }
   }
  },
  {
   "cell_type": "code",
   "execution_count": null,
   "outputs": [],
   "source": [],
   "metadata": {
    "collapsed": false,
    "pycharm": {
     "name": "#%%\n"
    }
   }
  },
  {
   "cell_type": "code",
   "execution_count": null,
   "outputs": [],
   "source": [],
   "metadata": {
    "collapsed": false,
    "pycharm": {
     "name": "#%%\n"
    }
   }
  },
  {
   "cell_type": "code",
   "execution_count": null,
   "outputs": [],
   "source": [],
   "metadata": {
    "collapsed": false,
    "pycharm": {
     "name": "#%%\n"
    }
   }
  }
 ],
 "metadata": {
  "kernelspec": {
   "display_name": "Python 3",
   "language": "python",
   "name": "python3"
  },
  "language_info": {
   "codemirror_mode": {
    "name": "ipython",
    "version": 2
   },
   "file_extension": ".py",
   "mimetype": "text/x-python",
   "name": "python",
   "nbconvert_exporter": "python",
   "pygments_lexer": "ipython2",
   "version": "2.7.6"
  }
 },
 "nbformat": 4,
 "nbformat_minor": 0
}