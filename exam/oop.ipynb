{
 "cells": [
  {
   "cell_type": "markdown",
   "metadata": {
    "collapsed": true,
    "pycharm": {
     "name": "#%% md\n"
    }
   },
   "source": [
    "# OOP"
   ]
  },
  {
   "cell_type": "code",
   "execution_count": 1,
   "outputs": [
    {
     "data": {
      "text/plain": "(0, Kevin, 3)"
     },
     "metadata": {},
     "output_type": "display_data"
    },
    {
     "data": {
      "text/plain": "(1, Lea, 3)"
     },
     "metadata": {},
     "output_type": "display_data"
    },
    {
     "data": {
      "text/plain": "(2, Andi, 3)"
     },
     "metadata": {},
     "output_type": "display_data"
    }
   ],
   "source": [
    "from IPython.core.display_functions import display\n",
    "\n",
    "\n",
    "class Person:\n",
    "    idx_seq = 0\n",
    "\n",
    "    def __init__(self, name):\n",
    "        self.name = name\n",
    "        self.id = Person.idx_seq\n",
    "        Person.idx_seq += 1\n",
    "\n",
    "    def __repr__(self):\n",
    "        return f\"({self.id}, {self.name}, {Person.idx_seq})\"\n",
    "\n",
    "\n",
    "k = (Person(\"Kevin\"))\n",
    "l = (Person(\"Lea\"))\n",
    "a = (Person(\"Andi\"))\n",
    "display(k, l, a)"
   ],
   "metadata": {
    "collapsed": false,
    "pycharm": {
     "name": "#%%\n"
    }
   }
  },
  {
   "cell_type": "code",
   "execution_count": 3,
   "outputs": [
    {
     "data": {
      "text/plain": "False"
     },
     "metadata": {},
     "output_type": "display_data"
    },
    {
     "data": {
      "text/plain": "__main__.Book"
     },
     "metadata": {},
     "output_type": "display_data"
    },
    {
     "data": {
      "text/plain": "1"
     },
     "metadata": {},
     "output_type": "display_data"
    }
   ],
   "source": [
    "import copy\n",
    "\n",
    "\n",
    "class Book:\n",
    "    _idx = 0\n",
    "\n",
    "    def __init__(self, title, *args):\n",
    "        self.title = title\n",
    "        self.args = args\n",
    "\n",
    "    def __repr__(self):\n",
    "        return f\"{self.title}, {self.args}\"\n",
    "\n",
    "    def __str__(self):\n",
    "        return self.__repr__()\n",
    "\n",
    "    @classmethod\n",
    "    def book_class(cls):\n",
    "        display(cls)\n",
    "        cls._idx += 1\n",
    "\n",
    "    @staticmethod\n",
    "    def book_static():\n",
    "        Book._idx += 1\n",
    "        display(Book._idx)\n",
    "\n",
    "\n",
    "b = Book(\"Mammut\", [1, 2, 3, 4, 5])\n",
    "b1 = copy.copy(b)\n",
    "b2 = copy.deepcopy(b)\n",
    "display(b2.args is b1.args)\n",
    "\n",
    "Book.book_class()\n",
    "Book.book_static()"
   ],
   "metadata": {
    "collapsed": false,
    "pycharm": {
     "name": "#%%\n"
    }
   }
  },
  {
   "cell_type": "code",
   "execution_count": null,
   "outputs": [],
   "source": [],
   "metadata": {
    "collapsed": false,
    "pycharm": {
     "name": "#%%\n"
    }
   }
  }
 ],
 "metadata": {
  "kernelspec": {
   "display_name": "Python 3",
   "language": "python",
   "name": "python3"
  },
  "language_info": {
   "codemirror_mode": {
    "name": "ipython",
    "version": 2
   },
   "file_extension": ".py",
   "mimetype": "text/x-python",
   "name": "python",
   "nbconvert_exporter": "python",
   "pygments_lexer": "ipython2",
   "version": "2.7.6"
  }
 },
 "nbformat": 4,
 "nbformat_minor": 0
}