{
 "cells": [
  {
   "cell_type": "markdown",
   "metadata": {
    "collapsed": true,
    "pycharm": {
     "name": "#%% md\n"
    }
   },
   "source": [
    "# Functional Programming\n",
    "## Reduce"
   ]
  },
  {
   "cell_type": "code",
   "execution_count": 4,
   "outputs": [
    {
     "name": "stdout",
     "output_type": "stream",
     "text": [
      "0 0\n",
      "0 1\n",
      "1 2\n",
      "3 3\n",
      "6 4\n",
      "10 5\n",
      "15 6\n",
      "21 7\n",
      "28 8\n",
      "36 9\n"
     ]
    },
    {
     "data": {
      "text/plain": "45"
     },
     "execution_count": 4,
     "metadata": {},
     "output_type": "execute_result"
    }
   ],
   "source": [
    "import random\n",
    "from functools import reduce\n",
    "\n",
    "from IPython.core.display_functions import display\n",
    "\n",
    "\n",
    "def r(partial, y):\n",
    "    print(partial, y)\n",
    "    return partial + y\n",
    "\n",
    "reduce(r, range(10), 0)"
   ],
   "metadata": {
    "collapsed": false,
    "pycharm": {
     "name": "#%%\n"
    }
   }
  },
  {
   "cell_type": "code",
   "execution_count": 13,
   "outputs": [
    {
     "ename": "TypeError",
     "evalue": "argument of type 'NoneType' is not iterable",
     "output_type": "error",
     "traceback": [
      "\u001B[0;31m---------------------------------------------------------------------------\u001B[0m",
      "\u001B[0;31mTypeError\u001B[0m                                 Traceback (most recent call last)",
      "Input \u001B[0;32mIn [13]\u001B[0m, in \u001B[0;36m<module>\u001B[0;34m\u001B[0m\n\u001B[1;32m      6\u001B[0m     old \u001B[38;5;241m=\u001B[39m [] \u001B[38;5;28;01mif\u001B[39;00m val \u001B[38;5;129;01mnot\u001B[39;00m \u001B[38;5;129;01min\u001B[39;00m d \u001B[38;5;28;01melse\u001B[39;00m d[val]\n\u001B[1;32m      7\u001B[0m     d[val] \u001B[38;5;241m=\u001B[39m [\u001B[38;5;241m*\u001B[39mold, val]\n\u001B[0;32m----> 9\u001B[0m \u001B[43mreduce\u001B[49m\u001B[43m(\u001B[49m\u001B[43mgrouping_func\u001B[49m\u001B[43m,\u001B[49m\u001B[43m \u001B[49m\u001B[43mnumbers\u001B[49m\u001B[43m,\u001B[49m\u001B[43m \u001B[49m\u001B[38;5;28;43mdict\u001B[39;49m\u001B[43m(\u001B[49m\u001B[43m)\u001B[49m\u001B[43m)\u001B[49m\n",
      "Input \u001B[0;32mIn [13]\u001B[0m, in \u001B[0;36mgrouping_func\u001B[0;34m(d, val)\u001B[0m\n\u001B[1;32m      5\u001B[0m \u001B[38;5;28;01mdef\u001B[39;00m \u001B[38;5;21mgrouping_func\u001B[39m(d, val):\n\u001B[0;32m----> 6\u001B[0m     old \u001B[38;5;241m=\u001B[39m [] \u001B[38;5;28;01mif\u001B[39;00m \u001B[43mval\u001B[49m\u001B[43m \u001B[49m\u001B[38;5;129;43;01mnot\u001B[39;49;00m\u001B[43m \u001B[49m\u001B[38;5;129;43;01min\u001B[39;49;00m\u001B[43m \u001B[49m\u001B[43md\u001B[49m \u001B[38;5;28;01melse\u001B[39;00m d[val]\n\u001B[1;32m      7\u001B[0m     d[val] \u001B[38;5;241m=\u001B[39m [\u001B[38;5;241m*\u001B[39mold, val]\n",
      "\u001B[0;31mTypeError\u001B[0m: argument of type 'NoneType' is not iterable"
     ]
    }
   ],
   "source": [
    "import random\n",
    "rand = random.Random()\n",
    "numbers = [rand.randint(0, 100) for _ in range(100)]\n",
    "\n",
    "def grouping_func(d, val):\n",
    "    old = [] if val not in d else d[val]\n",
    "    d[val] = [*old, val]\n",
    "\n",
    "reduce(grouping_func, numbers, dict())"
   ],
   "metadata": {
    "collapsed": false,
    "pycharm": {
     "name": "#%%\n"
    }
   }
  },
  {
   "cell_type": "code",
   "execution_count": 23,
   "outputs": [
    {
     "name": "stdout",
     "output_type": "stream",
     "text": [
      "Help on function sqrt in module __main__:\n",
      "\n",
      "sqrt(x)\n",
      "    Cool squareroot function\n",
      "    :param x:\n",
      "    :return:\n",
      "\n"
     ]
    },
    {
     "data": {
      "text/plain": "'sqrt(16)=4.0'"
     },
     "metadata": {},
     "output_type": "display_data"
    },
    {
     "data": {
      "text/plain": "{16: 4.0}"
     },
     "metadata": {},
     "output_type": "display_data"
    },
    {
     "data": {
      "text/plain": "'sqrt(144)=12.0'"
     },
     "metadata": {},
     "output_type": "display_data"
    },
    {
     "data": {
      "text/plain": "{16: 4.0, 144: 12.0}"
     },
     "metadata": {},
     "output_type": "display_data"
    },
    {
     "data": {
      "text/plain": "'sqrt(9)=3.0'"
     },
     "metadata": {},
     "output_type": "display_data"
    },
    {
     "data": {
      "text/plain": "{16: 4.0, 144: 12.0, 9: 3.0}"
     },
     "metadata": {},
     "output_type": "display_data"
    },
    {
     "data": {
      "text/plain": "'sqrt(16)=4.0'"
     },
     "metadata": {},
     "output_type": "display_data"
    },
    {
     "data": {
      "text/plain": "{16: 4.0, 144: 12.0, 9: 3.0}"
     },
     "metadata": {},
     "output_type": "display_data"
    },
    {
     "data": {
      "text/plain": "{16: 4.0, 144: 12.0, 9: 3.0}"
     },
     "execution_count": 23,
     "metadata": {},
     "output_type": "execute_result"
    }
   ],
   "source": [
    "from functools import wraps, update_wrapper\n",
    "\n",
    "cache_dict = {}\n",
    "def cache(func):\n",
    "    @wraps(func)\n",
    "    def caching(x):\n",
    "        res = func(x) if x not in cache_dict else cache_dict[x]\n",
    "        cache_dict[x] = res\n",
    "        display(f\"sqrt({x})={res}\",cache_dict)\n",
    "        return res\n",
    "\n",
    "    #update_wrapper(caching, func)\n",
    "    return caching\n",
    "\n",
    "@cache\n",
    "def sqrt(x):\n",
    "    \"\"\"\n",
    "    Cool squareroot function\n",
    "    :param x:\n",
    "    :return:\n",
    "    \"\"\"\n",
    "    return x**0.5\n",
    "\n",
    "help(sqrt)\n",
    "\n",
    "sqrt(16) # cache = {16: 4}\n",
    "sqrt(144) # cache = {16: 4, 144: 12}\n",
    "sqrt(9) # cache = {16: 4, 144: 12, 9: 3}\n",
    "sqrt(16) # cache = {16: 4, 144: 12, 9: 3}\n",
    "cache_dict"
   ],
   "metadata": {
    "collapsed": false,
    "pycharm": {
     "name": "#%%\n"
    }
   }
  },
  {
   "cell_type": "code",
   "execution_count": null,
   "outputs": [],
   "source": [],
   "metadata": {
    "collapsed": false,
    "pycharm": {
     "name": "#%%\n"
    }
   }
  }
 ],
 "metadata": {
  "kernelspec": {
   "display_name": "Python 3",
   "language": "python",
   "name": "python3"
  },
  "language_info": {
   "codemirror_mode": {
    "name": "ipython",
    "version": 2
   },
   "file_extension": ".py",
   "mimetype": "text/x-python",
   "name": "python",
   "nbconvert_exporter": "python",
   "pygments_lexer": "ipython2",
   "version": "2.7.6"
  }
 },
 "nbformat": 4,
 "nbformat_minor": 0
}